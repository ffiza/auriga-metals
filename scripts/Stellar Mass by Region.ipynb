{
 "cells": [
  {
   "attachments": {},
   "cell_type": "markdown",
   "metadata": {},
   "source": [
    "# Stellar Mass by Region"
   ]
  },
  {
   "cell_type": "code",
   "execution_count": 1,
   "metadata": {},
   "outputs": [
    {
     "name": "stderr",
     "output_type": "stream",
     "text": [
      "/u/fiza/conda-envs/auriga/lib/python3.7/site-packages/setuptools/_importlib.py:23: UserWarning: `importlib-metadata` version is incompatible with `setuptools`.\n",
      "This problem is likely to be solved by installing an updated version of `importlib-metadata`.\n",
      "  warnings.warn(msg)  # Ensure a descriptive message is shown.\n"
     ]
    }
   ],
   "source": [
    "from matplotlib import pyplot as plt\n",
    "import numpy as np\n",
    "import pandas as pd"
   ]
  },
  {
   "cell_type": "code",
   "execution_count": 9,
   "metadata": {},
   "outputs": [],
   "source": [
    "from auriga.snapshot import Snapshot\n",
    "from auriga.images import figure_setup, set_axs_configuration\n",
    "from auriga.settings import Settings\n",
    "from auriga.parser import parse"
   ]
  },
  {
   "cell_type": "code",
   "execution_count": 3,
   "metadata": {},
   "outputs": [],
   "source": [
    "figure_setup()\n",
    "settings = Settings()"
   ]
  },
  {
   "cell_type": "code",
   "execution_count": 4,
   "metadata": {},
   "outputs": [],
   "source": [
    "DISC_STD_CIRC = settings.disc_std_circ\n",
    "DISC_MIN_CIRC = settings.disc_min_circ\n",
    "COLD_DISC_DELTA_CIRC = settings.cold_disc_delta_circ\n",
    "BULGE_MAX_SPECIFIC_ENERGY = -0.6\n",
    "SUFFIX = \"_02\""
   ]
  },
  {
   "cell_type": "code",
   "execution_count": 5,
   "metadata": {},
   "outputs": [],
   "source": [
    "def read_data(simulation: str) -> pd.DataFrame:\n",
    "    \"\"\"\n",
    "    Return a DataFrame with data of interest.\n",
    "    \"\"\"\n",
    "    settings = Settings()\n",
    "\n",
    "    s = Snapshot(simulation=simulation, loadonlytype=[0, 1, 2, 3, 4, 5])\n",
    "    s.tag_particles_by_region(\n",
    "        disc_std_circ=DISC_STD_CIRC,\n",
    "        disc_min_circ=DISC_MIN_CIRC,\n",
    "        cold_disc_delta_circ=COLD_DISC_DELTA_CIRC,\n",
    "        bulge_max_specific_energy=BULGE_MAX_SPECIFIC_ENERGY)\n",
    "\n",
    "    is_real_star = (s.type == 4) & (s.stellar_formation_time > 0)\n",
    "    is_main_obj = (s.halo == s.halo_idx) & (s.subhalo == s.subhalo_idx)\n",
    "\n",
    "    df = pd.DataFrame()\n",
    "    df[\"RegionTag\"] = s.region_tag[is_real_star & is_main_obj]\n",
    "    df[\"Mass_Msun\"] = s.mass[is_real_star & is_main_obj]\n",
    "\n",
    "    return df"
   ]
  },
  {
   "cell_type": "code",
   "execution_count": 6,
   "metadata": {},
   "outputs": [],
   "source": [
    "def get_statistics(df: pd.DataFrame) -> tuple:\n",
    "    total_solar_masses = df[\"Mass_Msun\"].sum()\n",
    "    components_solar_masses = np.zeros(4)\n",
    "    for i in range(len(settings.components)):\n",
    "        components_solar_masses[i] = df[\"Mass_Msun\"][\n",
    "            df[\"RegionTag\"] == i].sum()\n",
    "    return components_solar_masses / total_solar_masses"
   ]
  },
  {
   "cell_type": "code",
   "execution_count": 15,
   "metadata": {},
   "outputs": [],
   "source": [
    "def plot_galaxy(simulation: str) -> None:\n",
    "    settings = Settings()\n",
    "\n",
    "    fig, ax = plt.subplots(figsize=(2.5, 2.5))\n",
    "\n",
    "    ax.tick_params(which='both', direction=\"in\")\n",
    "\n",
    "    ax.set_xlim(-0.5, 3.5)\n",
    "    ax.set_xticks([0, 1, 2, 3])\n",
    "    ax.set_xticklabels([])\n",
    "\n",
    "    ax.set_ylim(0, 1)\n",
    "    ax.set_yticks([0, 0.2, 0.4, 0.6, 0.8, 1])\n",
    "    ax.set_ylabel(r\"$f_\\star$\")\n",
    "\n",
    "    label = f\"Au{parse(simulation)[0]}\"\n",
    "    data = get_statistics(read_data(simulation))\n",
    "\n",
    "    for j in range(len(data)):\n",
    "        ax.bar(x=j, height=data[j],\n",
    "               color=list(settings.component_colors.values())[j],\n",
    "               width=0.5, linewidth=0)\n",
    "        ax.text(j, data[j] + 0.025,\n",
    "                s=r\"$\\textbf{\" + str(int(np.round(100 * data[j], 0))) \\\n",
    "                    + \"\\%\" + \"}$\",\n",
    "                c=list(settings.component_colors.values())[j],\n",
    "                ha=\"center\", va=\"bottom\", size=8.0)\n",
    "        ax.text(j, -0.05, size=8.0,\n",
    "                s=r\"$\\textbf{\" + settings.components[j] + \"}$\",\n",
    "                c=list(settings.component_colors.values())[j],\n",
    "                ha=\"center\", va=\"top\")\n",
    "\n",
    "    ax.text(\n",
    "        x=0.05, y=0.95, size=8.0,\n",
    "        s=r\"$\\texttt{\" + label + \"}$\",\n",
    "        ha=\"left\", va=\"top\", transform=ax.transAxes)\n",
    "\n",
    "    fig.savefig(\n",
    "        f\"../images/galaxy_decomposition/\"\n",
    "        f\"stellar_mass_distribution_{simulation}{SUFFIX}.pdf\")\n",
    "    plt.close(fig)"
   ]
  },
  {
   "cell_type": "code",
   "execution_count": 16,
   "metadata": {},
   "outputs": [],
   "source": [
    "plot_galaxy(\"au6_or_l4_s127\")"
   ]
  },
  {
   "cell_type": "code",
   "execution_count": 15,
   "metadata": {},
   "outputs": [],
   "source": [
    "simulations = [f\"au{i}_or_l4_s127\" for i in settings.galaxies]"
   ]
  },
  {
   "cell_type": "code",
   "execution_count": 16,
   "metadata": {},
   "outputs": [],
   "source": [
    "fig, axs = plt.subplots(figsize=(7.4, 7.2), nrows=6, ncols=5,\n",
    "                        sharey=True, sharex=True,\n",
    "                        gridspec_kw={\"hspace\": 0.0, \"wspace\": 0.0})\n",
    "\n",
    "for ax in axs.flat:\n",
    "    ax.tick_params(which='both', direction=\"in\")\n",
    "    ax.set_xlim(-0.5, 3.5)\n",
    "    ax.set_xticks([0, 1, 2, 3])\n",
    "    ax.set_xticklabels([])\n",
    "    ax.set_ylim(0, 1)\n",
    "    ax.set_yticks([0, 0.2, 0.4, 0.6, 0.8])\n",
    "    ax.set_ylabel(r\"$f_\\star$\")\n",
    "    ax.label_outer()\n",
    "\n",
    "for i, simulation in enumerate(simulations):\n",
    "    data = get_statistics(read_data(simulation))\n",
    "    current_ax = axs.flatten()[i]\n",
    "    current_ax.text(\n",
    "        x=0.05, y=0.95, size=6.0,\n",
    "        s=r\"$\\texttt{\" + simulation.upper() + \"}$\",\n",
    "        ha=\"left\", va=\"top\", transform=current_ax.transAxes)\n",
    "\n",
    "    for j in range(len(data)):\n",
    "        current_ax.bar(x=j, height=data[j],\n",
    "                       color=list(settings.component_colors.values())[j],\n",
    "                       width=0.5, linewidth=0)\n",
    "        current_ax.text(j, data[j] + 0.025,\n",
    "            s=r\"$\\textbf{\" + str(int(np.round(100 * data[j], 0))) \\\n",
    "                + \"\\%\" + \"}$\",\n",
    "            c=list(settings.component_colors.values())[j],\n",
    "            ha=\"center\", va=\"bottom\", size=5.0)\n",
    "        \n",
    "        if current_ax.get_subplotspec().is_last_row():\n",
    "            current_ax.text(j, -0.05, size=6.0,\n",
    "                            s=r\"$\\textbf{\" + settings.components[j] + \"}$\",\n",
    "                            c=list(settings.component_colors.values())[j],\n",
    "                            ha=\"center\", va=\"top\")\n",
    "\n",
    "    fig.savefig(\n",
    "        f\"../images/galaxy_decomposition/\"\n",
    "        f\"stellar_mass_distribution{SUFFIX}.pdf\")\n",
    "    plt.close(fig)"
   ]
  }
 ],
 "metadata": {
  "kernelspec": {
   "display_name": "Python 3",
   "language": "python",
   "name": "python3"
  },
  "language_info": {
   "codemirror_mode": {
    "name": "ipython",
    "version": 3
   },
   "file_extension": ".py",
   "mimetype": "text/x-python",
   "name": "python",
   "nbconvert_exporter": "python",
   "pygments_lexer": "ipython3",
   "version": "3.7.3"
  },
  "orig_nbformat": 4
 },
 "nbformat": 4,
 "nbformat_minor": 2
}
