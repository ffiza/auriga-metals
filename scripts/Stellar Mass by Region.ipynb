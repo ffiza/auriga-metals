{
 "cells": [
  {
   "attachments": {},
   "cell_type": "markdown",
   "metadata": {},
   "source": [
    "# Stellar Mass by Region"
   ]
  },
  {
   "cell_type": "code",
   "execution_count": 73,
   "metadata": {},
   "outputs": [],
   "source": [
    "from matplotlib import pyplot as plt\n",
    "import numpy as np\n",
    "import pandas as pd"
   ]
  },
  {
   "cell_type": "code",
   "execution_count": 74,
   "metadata": {},
   "outputs": [],
   "source": [
    "from auriga.snapshot import Snapshot\n",
    "from auriga.images import figure_setup, set_axs_configuration\n",
    "from auriga.settings import Settings\n",
    "from auriga.parser import parse"
   ]
  },
  {
   "cell_type": "code",
   "execution_count": 75,
   "metadata": {},
   "outputs": [],
   "source": [
    "figure_setup()\n",
    "settings = Settings()"
   ]
  },
  {
   "cell_type": "code",
   "execution_count": 76,
   "metadata": {},
   "outputs": [],
   "source": [
    "DISC_STD_CIRC = settings.disc_std_circ\n",
    "DISC_MIN_CIRC = settings.disc_min_circ\n",
    "COLD_DISC_DELTA_CIRC = settings.cold_disc_delta_circ\n",
    "BULGE_MAX_SPECIFIC_ENERGY = -0.6\n",
    "SUFFIX = \"_02\""
   ]
  },
  {
   "cell_type": "code",
   "execution_count": 77,
   "metadata": {},
   "outputs": [],
   "source": [
    "def read_data(simulation: str) -> pd.DataFrame:\n",
    "    \"\"\"\n",
    "    Return a DataFrame with data of interest.\n",
    "    \"\"\"\n",
    "    settings = Settings()\n",
    "\n",
    "    s = Snapshot(simulation=simulation, loadonlytype=[0, 1, 2, 3, 4, 5])\n",
    "    s.tag_particles_by_region(\n",
    "        disc_std_circ=DISC_STD_CIRC,\n",
    "        disc_min_circ=DISC_MIN_CIRC,\n",
    "        cold_disc_delta_circ=COLD_DISC_DELTA_CIRC,\n",
    "        bulge_max_specific_energy=BULGE_MAX_SPECIFIC_ENERGY)\n",
    "\n",
    "    is_real_star = (s.type == 4) & (s.stellar_formation_time > 0)\n",
    "    is_main_obj = (s.halo == s.halo_idx) & (s.subhalo == s.subhalo_idx)\n",
    "\n",
    "    df = pd.DataFrame()\n",
    "    df[\"RegionTag\"] = s.region_tag[is_real_star & is_main_obj]\n",
    "    df[\"Mass_Msun\"] = s.mass[is_real_star & is_main_obj]\n",
    "\n",
    "    return df"
   ]
  },
  {
   "cell_type": "code",
   "execution_count": 78,
   "metadata": {},
   "outputs": [],
   "source": [
    "def get_statistics(df: pd.DataFrame) -> tuple:\n",
    "    total_solar_masses = df[\"Mass_Msun\"].sum()\n",
    "    components_solar_masses = np.zeros(4)\n",
    "    for i in range(len(settings.components)):\n",
    "        components_solar_masses[i] = df[\"Mass_Msun\"][\n",
    "            df[\"RegionTag\"] == i].sum()\n",
    "    return components_solar_masses / total_solar_masses"
   ]
  },
  {
   "cell_type": "code",
   "execution_count": 79,
   "metadata": {},
   "outputs": [],
   "source": [
    "def get_min_and_max_values(sample: list) -> tuple:\n",
    "    min_vals = np.ones(4, dtype=np.float64)\n",
    "    max_vals = np.zeros(4, dtype=np.float64)\n",
    "    for simulation in sample:\n",
    "        data = get_statistics(read_data(simulation))\n",
    "        max_vals[data > max_vals] = data[data > max_vals]\n",
    "        min_vals[data < min_vals] = data[data < min_vals]\n",
    "    return min_vals, max_vals"
   ]
  },
  {
   "cell_type": "markdown",
   "metadata": {},
   "source": [
    "### Figures"
   ]
  },
  {
   "cell_type": "code",
   "execution_count": 80,
   "metadata": {},
   "outputs": [],
   "source": [
    "# SIMULATION = \"au6_or_l4_s127\"\n",
    "SIMULATION = None"
   ]
  },
  {
   "cell_type": "code",
   "execution_count": 81,
   "metadata": {},
   "outputs": [],
   "source": [
    "SAMPLE = [f\"au{i}_or_l4_s127\" for i in settings.groups[\"Included\"]]\n",
    "# SAMPLE = None"
   ]
  },
  {
   "cell_type": "code",
   "execution_count": 82,
   "metadata": {},
   "outputs": [],
   "source": [
    "if SIMULATION:\n",
    "    settings = Settings()\n",
    "    min_vals, max_vals = get_min_and_max_values(\n",
    "        [f\"au{i}_or_l4_s127\" for i in settings.groups[\"Included\"]])\n",
    "\n",
    "    fig, ax = plt.subplots(figsize=(2.5, 2.5))\n",
    "\n",
    "    ax.tick_params(which='both', direction=\"in\")\n",
    "\n",
    "    ax.set_xlim(-0.5, 3.5)\n",
    "    ax.set_xticks([0, 1, 2, 3])\n",
    "    ax.set_xticklabels([])\n",
    "\n",
    "    ax.set_ylim(0, 1)\n",
    "    ax.set_yticks([0, 0.2, 0.4, 0.6, 0.8, 1])\n",
    "    ax.set_ylabel(r\"$f_\\star$\")\n",
    "\n",
    "    label = f\"Au{parse(SIMULATION)[0]}\"\n",
    "    data = get_statistics(read_data(SIMULATION))\n",
    "\n",
    "    for j in range(len(data)):\n",
    "        yerr = np.abs(\n",
    "            (np.array([min_vals[j], max_vals[j]]) - data[j]).reshape(2, 1))\n",
    "        ax.bar(x=j, height=data[j], yerr=yerr,\n",
    "               color=list(settings.component_colors.values())[j],\n",
    "               width=0.5, linewidth=0)\n",
    "        ax.text(j, data[j] + yerr[1] + 0.025,\n",
    "                s=r\"$\\textbf{\" + str(int(np.round(100 * data[j], 0))) \\\n",
    "                    + \"\\%\" + \"}$\",\n",
    "                c=list(settings.component_colors.values())[j],\n",
    "                ha=\"center\", va=\"bottom\", size=8.0)\n",
    "        ax.text(j, -0.05, size=8.0,\n",
    "                s=r\"$\\textbf{\" + settings.components[j] + \"}$\",\n",
    "                c=list(settings.component_colors.values())[j],\n",
    "                ha=\"center\", va=\"top\")\n",
    "\n",
    "    ax.text(\n",
    "        x=0.05, y=0.95, size=8.0,\n",
    "        s=r\"$\\texttt{\" + label + \"}$\",\n",
    "        ha=\"left\", va=\"top\", transform=ax.transAxes)\n",
    "\n",
    "    fig.savefig(\n",
    "        f\"../images/galaxy_decomposition/\"\n",
    "        f\"stellar_mass_distribution_{SIMULATION}{SUFFIX}.pdf\")\n",
    "    plt.close(fig)"
   ]
  },
  {
   "cell_type": "code",
   "execution_count": 83,
   "metadata": {},
   "outputs": [],
   "source": [
    "if SAMPLE:\n",
    "    fig, axs = plt.subplots(figsize=(7, 8), nrows=6, ncols=4,\n",
    "                            sharey=True, sharex=True,\n",
    "                            gridspec_kw={\"hspace\": 0.0, \"wspace\": 0.0})\n",
    "\n",
    "    for ax in axs.flat:\n",
    "        ax.tick_params(which='both', direction=\"in\")\n",
    "        if ax == axs[-1, -1]: ax.axis(\"off\")\n",
    "        ax.set_xlim(-0.5, 3.5)\n",
    "        ax.set_xticks([0, 1, 2, 3])\n",
    "        ax.set_xticklabels([])\n",
    "        ax.set_ylim(0, 1)\n",
    "        ax.set_yticks([0, 0.2, 0.4, 0.6, 0.8])\n",
    "        ax.set_axisbelow(True)\n",
    "        if ax.get_subplotspec().is_last_row() or ax == axs[-2, -1]:\n",
    "            ax.set_xlabel(\"\")\n",
    "            ax.tick_params(labelbottom=True)\n",
    "        if ax.get_subplotspec().is_first_col():\n",
    "            ax.set_ylabel(r\"$f_\\star$\")\n",
    "\n",
    "    for i, simulation in enumerate(SAMPLE):\n",
    "        label = f\"Au{parse(simulation)[0]}\"\n",
    "        data = get_statistics(read_data(simulation))\n",
    "        ax = axs.flatten()[i]\n",
    "        ax.text(\n",
    "            x=0.05, y=0.95, size=6.0,\n",
    "            s=r\"$\\texttt{\" + label + \"}$\",\n",
    "            ha=\"left\", va=\"top\", transform=ax.transAxes)\n",
    "\n",
    "        for j in range(len(data)):\n",
    "            ax.bar(x=j, height=data[j],\n",
    "                   color=list(settings.component_colors.values())[j],\n",
    "                   width=0.5, linewidth=0)\n",
    "            ax.text(j, data[j] + 0.025,\n",
    "                s=r\"$\\textbf{\" + str(int(np.round(100 * data[j], 0))) \\\n",
    "                    + \"\\%\" + \"}$\",\n",
    "                c=list(settings.component_colors.values())[j],\n",
    "                ha=\"center\", va=\"bottom\", size=5.0)\n",
    "            \n",
    "        if ax.get_subplotspec().is_last_row() or ax == axs[-2, -1]:\n",
    "            ax.text(j, -0.05, size=6.0,\n",
    "                    s=r\"$\\textbf{\" + settings.components[j] + \"}$\",\n",
    "                    c=list(settings.component_colors.values())[j],\n",
    "                    ha=\"center\", va=\"top\")\n",
    "\n",
    "        fig.savefig(\n",
    "            f\"../images/galaxy_decomposition/\"\n",
    "            f\"stellar_mass_distribution_included{SUFFIX}.pdf\")\n",
    "    plt.close(fig)"
   ]
  }
 ],
 "metadata": {
  "kernelspec": {
   "display_name": "Python 3",
   "language": "python",
   "name": "python3"
  },
  "language_info": {
   "codemirror_mode": {
    "name": "ipython",
    "version": 3
   },
   "file_extension": ".py",
   "mimetype": "text/x-python",
   "name": "python",
   "nbconvert_exporter": "python",
   "pygments_lexer": "ipython3",
   "version": "3.7.3"
  },
  "orig_nbformat": 4
 },
 "nbformat": 4,
 "nbformat_minor": 2
}
