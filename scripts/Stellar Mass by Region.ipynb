{
 "cells": [
  {
   "attachments": {},
   "cell_type": "markdown",
   "metadata": {},
   "source": [
    "# Stellar Mass by Region"
   ]
  },
  {
   "cell_type": "code",
   "execution_count": 61,
   "metadata": {},
   "outputs": [],
   "source": [
    "from matplotlib import pyplot as plt\n",
    "import matplotlib.colors as mcolors\n",
    "import numpy as np\n",
    "import pandas as pd\n",
    "from multiprocessing import Pool"
   ]
  },
  {
   "cell_type": "code",
   "execution_count": 62,
   "metadata": {},
   "outputs": [],
   "source": [
    "from auriga.snapshot import Snapshot\n",
    "from auriga.images import figure_setup, set_axs_configuration\n",
    "from auriga.settings import Settings"
   ]
  },
  {
   "cell_type": "code",
   "execution_count": 63,
   "metadata": {},
   "outputs": [],
   "source": [
    "figure_setup()\n",
    "settings = Settings()"
   ]
  },
  {
   "cell_type": "code",
   "execution_count": 64,
   "metadata": {},
   "outputs": [],
   "source": [
    "def read_data(simulation: str) -> pd.DataFrame:\n",
    "    \"\"\"\n",
    "    Return a DataFrame with data of interest.\n",
    "    \"\"\"\n",
    "    settings = Settings()\n",
    "\n",
    "    s = Snapshot(simulation=simulation,\n",
    "                 loadonlytype=[0, 1, 2, 3, 4, 5])\n",
    "    s.tag_particles_by_region(\n",
    "        disc_std_circ=settings.disc_std_circ,\n",
    "        disc_min_circ=settings.disc_min_circ,\n",
    "        cold_disc_delta_circ=settings.cold_disc_delta_circ,\n",
    "        bulge_max_specific_energy=settings.bulge_max_specific_energy)\n",
    "\n",
    "    is_real_star = (s.type == 4) & (s.stellar_formation_time > 0)\n",
    "    is_main_obj = (s.halo == s.halo_idx) & (s.subhalo == s.subhalo_idx)\n",
    "\n",
    "    df = pd.DataFrame()\n",
    "    df[\"RegionTag\"] = s.region_tag[is_real_star & is_main_obj]\n",
    "    df[\"Mass_Msun\"] = s.mass[is_real_star & is_main_obj]\n",
    "\n",
    "    return df"
   ]
  },
  {
   "cell_type": "code",
   "execution_count": 65,
   "metadata": {},
   "outputs": [],
   "source": [
    "def get_statistics(df: pd.DataFrame) -> tuple:\n",
    "    total_solar_masses = df[\"Mass_Msun\"].sum()\n",
    "    components_solar_masses = np.zeros(4)\n",
    "    for i in range(len(settings.components)):\n",
    "        components_solar_masses[i] = df[\"Mass_Msun\"][\n",
    "            df[\"RegionTag\"] == i].sum()\n",
    "    return components_solar_masses / total_solar_masses"
   ]
  },
  {
   "cell_type": "code",
   "execution_count": 66,
   "metadata": {},
   "outputs": [],
   "source": [
    "simulations = [f\"au{i}_or_l4_s127\" for i in settings.galaxies]"
   ]
  },
  {
   "cell_type": "code",
   "execution_count": 67,
   "metadata": {},
   "outputs": [],
   "source": [
    "fig = plt.figure(figsize=(7.2, 7.2))\n",
    "gs = fig.add_gridspec(nrows=6, ncols=5, hspace=0.0, wspace=0.0)\n",
    "axs = gs.subplots(sharex=True, sharey=True)\n",
    "\n",
    "for ax in axs.flat:\n",
    "    ax.tick_params(which='both', direction=\"in\")\n",
    "    ax.set_xlim(-0.5, 3.5)\n",
    "    ax.set_xticks([0, 1, 2, 3])\n",
    "    ax.set_xticklabels([])\n",
    "    ax.set_ylim(0, 1)\n",
    "    ax.set_yticks([0, 0.2, 0.4, 0.6, 0.8])\n",
    "    ax.set_ylabel(r\"$f_\\star$\")\n",
    "    ax.label_outer()\n",
    "\n",
    "for i, simulation in enumerate(simulations):\n",
    "    data = get_statistics(read_data(simulation))\n",
    "    current_ax = axs.flatten()[i]\n",
    "    current_ax.text(\n",
    "        x=0.05, y=0.95, size=6.0,\n",
    "        s=r\"$\\texttt{\" + simulation.upper() + \"}$\",\n",
    "        ha=\"left\", va=\"top\", transform=current_ax.transAxes)\n",
    "\n",
    "    for j in range(len(data)):\n",
    "        current_ax.bar(x=j, height=data[j],\n",
    "                       color=list(settings.component_colors.values())[j],\n",
    "                       width=0.5, linewidth=0)\n",
    "        current_ax.text(j, data[j] + 0.025,\n",
    "            s=r\"$\\textbf{\" + str(int(np.round(100 * data[j], 0))) \\\n",
    "                + \"\\%\" + \"}$\",\n",
    "            c=list(settings.component_colors.values())[j],\n",
    "            ha=\"center\", va=\"bottom\", size=5.0)\n",
    "        \n",
    "        if current_ax.get_subplotspec().is_last_row():\n",
    "            current_ax.text(j, -0.05, size=6.0,\n",
    "                            s=r\"$\\textbf{\" + settings.components[j] + \"}$\",\n",
    "                            c=list(settings.component_colors.values())[j],\n",
    "                            ha=\"center\", va=\"top\")\n",
    "\n",
    "    fig.savefig(\n",
    "        f\"../images/galaxy_decomposition/stellar_mass_distribution.pdf\")\n",
    "    plt.close(fig)"
   ]
  }
 ],
 "metadata": {
  "kernelspec": {
   "display_name": "Python 3",
   "language": "python",
   "name": "python3"
  },
  "language_info": {
   "codemirror_mode": {
    "name": "ipython",
    "version": 3
   },
   "file_extension": ".py",
   "mimetype": "text/x-python",
   "name": "python",
   "nbconvert_exporter": "python",
   "pygments_lexer": "ipython3",
   "version": "3.7.3"
  },
  "orig_nbformat": 4
 },
 "nbformat": 4,
 "nbformat_minor": 2
}
