{
 "cells": [
  {
   "attachments": {},
   "cell_type": "markdown",
   "metadata": {},
   "source": [
    "# Oxygen Abundance"
   ]
  },
  {
   "cell_type": "code",
   "execution_count": 1,
   "metadata": {},
   "outputs": [],
   "source": [
    "from matplotlib import pyplot as plt\n",
    "import matplotlib.colors as mcolors\n",
    "import numpy as np\n",
    "import pandas as pd\n",
    "from scipy.stats import gaussian_kde"
   ]
  },
  {
   "cell_type": "code",
   "execution_count": 2,
   "metadata": {},
   "outputs": [],
   "source": [
    "from auriga.snapshot import Snapshot\n",
    "from auriga.images import figure_setup\n",
    "from auriga.settings import Settings"
   ]
  },
  {
   "cell_type": "code",
   "execution_count": 3,
   "metadata": {},
   "outputs": [],
   "source": [
    "figure_setup()\n",
    "settings = Settings()"
   ]
  },
  {
   "cell_type": "code",
   "execution_count": 4,
   "metadata": {},
   "outputs": [],
   "source": [
    "DISC_STD_CIRC = settings.disc_std_circ\n",
    "DISC_MIN_CIRC = settings.disc_min_circ\n",
    "COLD_DISC_DELTA_CIRC = settings.cold_disc_delta_circ\n",
    "BULGE_MAX_SPECIFIC_ENERGY = -0.6\n",
    "SUFFIX = \"_02\""
   ]
  },
  {
   "cell_type": "code",
   "execution_count": 5,
   "metadata": {},
   "outputs": [],
   "source": [
    "SAMPLE = [f\"au{i}_or_l4_s127\" for i in settings.groups[\"Included\"]]"
   ]
  },
  {
   "cell_type": "code",
   "execution_count": 6,
   "metadata": {},
   "outputs": [],
   "source": [
    "def read_data(simulation: str) -> pd.DataFrame:\n",
    "    settings = Settings()\n",
    "\n",
    "    s = Snapshot(simulation=simulation, loadonlytype=[0, 1, 2, 3, 4, 5])\n",
    "    s.add_metal_abundance(of=\"Fe\", to='H')\n",
    "    s.add_metal_abundance(of='O', to=\"Fe\")\n",
    "    s.tag_particles_by_region(\n",
    "        disc_std_circ=DISC_STD_CIRC,\n",
    "        disc_min_circ=DISC_MIN_CIRC,\n",
    "        cold_disc_delta_circ=COLD_DISC_DELTA_CIRC,\n",
    "        bulge_max_specific_energy=BULGE_MAX_SPECIFIC_ENERGY)\n",
    "\n",
    "    is_real_star = (s.type == 4) & (s.stellar_formation_time > 0)\n",
    "    is_main_obj = (s.halo == s.halo_idx) & (s.subhalo == s.subhalo_idx)\n",
    "\n",
    "    props = {\n",
    "        \"ComponentTag\": s.region_tag[is_real_star & is_main_obj],\n",
    "        \"[Fe/H]\": s.metal_abundance[\"Fe/H\"][is_real_star & is_main_obj],\n",
    "        \"[O/Fe]\": s.metal_abundance[\"O/Fe\"][is_real_star & is_main_obj],\n",
    "        }\n",
    "\n",
    "    return pd.DataFrame(props)"
   ]
  },
  {
   "cell_type": "code",
   "execution_count": 7,
   "metadata": {},
   "outputs": [],
   "source": [
    "def get_sample_data(simulations: list) -> pd.DataFrame:\n",
    "\n",
    "    settings = Settings()\n",
    "    props = {\"Simulation\": simulations}\n",
    "\n",
    "    data = np.zeros((len(simulations), 10))\n",
    "    for i, simulation in enumerate(simulations):\n",
    "        df = read_data(simulation)\n",
    "        data[i, -2] = np.nanmedian(df[\"[O/Fe]\"])\n",
    "        data[i, -1] = np.nanmedian(df[\"[Fe/H]\"])\n",
    "        for j in range(len(settings.components)):\n",
    "            data[i, j] = np.nanmedian(\n",
    "                df[\"[O/Fe]\"][df[\"ComponentTag\"] == j])\n",
    "            data[i, j + 4] = np.nanmedian(\n",
    "                df[\"[Fe/H]\"][df[\"ComponentTag\"] == j])\n",
    "    \n",
    "    for j in range(len(settings.components)):\n",
    "        props[f\"[O/Fe]_{settings.components[j]}\"] = data[:, j]\n",
    "        props[f\"[Fe/H]_{settings.components[j]}\"] = data[:, j + 4]\n",
    "    props[\"[O/Fe]_All\"] = data[:, -2]\n",
    "    props[\"[Fe/H]_All\"] = data[:, -1]\n",
    "    \n",
    "    return pd.DataFrame(props)"
   ]
  },
  {
   "cell_type": "code",
   "execution_count": 10,
   "metadata": {},
   "outputs": [],
   "source": [
    "file_path = \"../results/sample_median_OFe_FeH_abundances_by_component.csv\"\n",
    "try:\n",
    "    stats = pd.read_csv(file_path)\n",
    "except FileNotFoundError:\n",
    "    stats = get_sample_data(SAMPLE)\n",
    "    stats.to_csv(file_path)"
   ]
  },
  {
   "cell_type": "markdown",
   "metadata": {},
   "source": [
    "## median([O/Fe]) vs median([Fe/H]) Scatter"
   ]
  },
  {
   "cell_type": "code",
   "execution_count": 11,
   "metadata": {},
   "outputs": [],
   "source": [
    "markers = list(settings.component_markers.values())\n",
    "colors = list(settings.component_colors.values())\n",
    "labels = list(settings.component_labels.values())"
   ]
  },
  {
   "cell_type": "code",
   "execution_count": 13,
   "metadata": {},
   "outputs": [],
   "source": [
    "fig, axs = plt.subplots(\n",
    "    figsize=(8.0, 2.0), nrows=1, ncols=5, sharey=True, sharex=True,\n",
    "    gridspec_kw={\"hspace\": 0.0, \"wspace\": 0.0})\n",
    "\n",
    "for ax in axs.flatten():\n",
    "    ax.grid(True, ls='-', lw=0.25, c=\"gainsboro\")\n",
    "    ax.tick_params(which='both', direction=\"in\")\n",
    "    ax.set_xlim(-1.0, 0.8)\n",
    "    ax.set_xticks([-0.8, -0.4, 0, 0.4])\n",
    "    ax.set_ylabel('[O/Fe]')\n",
    "    ax.set_ylim(0.18, 0.32)\n",
    "    ax.set_yticks([0.20, 0.22, 0.24, 0.26, 0.28, 0.3])\n",
    "    ax.set_xlabel('[Fe/H]')\n",
    "    ax.set_axisbelow(True)\n",
    "    ax.label_outer()\n",
    "\n",
    "axs[0].scatter(\n",
    "    stats[\"[Fe/H]_All\"], stats[\"[O/Fe]_All\"],\n",
    "    c='k', zorder=10, s=20, linewidths=0.4, edgecolors=\"white\", marker='o')\n",
    "for c in settings.components:\n",
    "    axs[0].scatter(\n",
    "        stats[f\"[Fe/H]_{c}\"], stats[f\"[O/Fe]_{c}\"],\n",
    "        c=\"silver\", zorder=5,\n",
    "        s=20, linewidths=0.4, edgecolors=\"white\",\n",
    "        marker=settings.component_markers[c])\n",
    "fe_pdf = gaussian_kde(stats[f\"[Fe/H]_All\"].to_numpy(dtype=np.float64))\n",
    "pdf_x = np.linspace(-1.0, 0.6, 100)\n",
    "pdf_y = fe_pdf(pdf_x) / np.max(fe_pdf(pdf_x)) * 0.02 + ax.get_ylim()[0]\n",
    "axs[0].fill_between(\n",
    "    x=pdf_x, y1=-1.0, y2=pdf_y, edgecolor=\"black\", facecolor=\"#00000030\")\n",
    "o_pdf = gaussian_kde(stats[f\"[O/Fe]_All\"].to_numpy(dtype=np.float64))\n",
    "pdf_y = np.linspace(0.18, 0.32, 100)\n",
    "pdf_x = o_pdf(pdf_y) / np.max(o_pdf(pdf_y)) * 0.3\n",
    "axs[0].fill_betweenx(\n",
    "    y=pdf_y, x1=-pdf_x + 0.8, x2=0.8, edgecolor=\"black\", facecolor=\"#00000030\")\n",
    "\n",
    "for i in range(4):\n",
    "    ax = axs.flatten()[i + 1]\n",
    "    ax.scatter(\n",
    "        stats[\"[Fe/H]_All\"], stats[\"[O/Fe]_All\"],\n",
    "        c=\"silver\", zorder=5, s=20, linewidths=0.4,\n",
    "        edgecolors=\"white\", marker='o')\n",
    "    for j in range(len(settings.components)):\n",
    "        label = labels[j] if j == i else None\n",
    "        color = colors[j] if j == i else \"silver\"\n",
    "        zorder = 10 if j == i else 5\n",
    "        ax.scatter(\n",
    "            stats[f\"[Fe/H]_{settings.components[j]}\"],\n",
    "            stats[f\"[O/Fe]_{settings.components[j]}\"],\n",
    "            c=color, label=label, zorder=zorder,\n",
    "            s=20, linewidths=0.4, edgecolors=\"white\", marker=markers[j])\n",
    "        \n",
    "        if j == i:\n",
    "            fe_pdf = gaussian_kde(\n",
    "                stats[f\"[Fe/H]_{settings.components[j]}\"].to_numpy(\n",
    "                    dtype=np.float64))\n",
    "            pdf_x = np.linspace(-1.0, 0.6, 100)\n",
    "            pdf_y = fe_pdf(pdf_x) / np.max(fe_pdf(pdf_x)) * 0.02 \\\n",
    "                + ax.get_ylim()[0]\n",
    "            ax.fill_between(\n",
    "                x=pdf_x, y1=-1.0, y2=pdf_y, edgecolor=color,\n",
    "                facecolor=color + \"30\")\n",
    "            \n",
    "            o_pdf = gaussian_kde(\n",
    "                stats[f\"[O/Fe]_{settings.components[j]}\"].to_numpy(\n",
    "                    dtype=np.float64))\n",
    "            pdf_y = np.linspace(0.18, 0.32, 100)\n",
    "            pdf_x = o_pdf(pdf_y) / np.max(o_pdf(pdf_y)) * 0.3\n",
    "            ax.fill_betweenx(\n",
    "                y=pdf_y, x1=-pdf_x + 0.8, x2=0.8, edgecolor=color,\n",
    "                facecolor=color + \"30\")\n",
    "\n",
    "axs[0].text(\n",
    "    x=0.05, y=0.95, size=8.0, ha=\"left\", va=\"top\", s=r\"$\\textbf{All}$\",\n",
    "    c=\"black\", transform=axs[0].transAxes)\n",
    "for i, c in enumerate(settings.components):\n",
    "    axs[i + 1].text(\n",
    "        x=0.05, y=0.95, size=8.0, ha=\"left\", va=\"top\",\n",
    "        s=r\"$\\textbf{\" + settings.component_labels[c] + \"}$\",\n",
    "        c=settings.component_colors[c], transform=axs[i + 1].transAxes)\n",
    "\n",
    "fig.savefig(f\"../images/metallicity/OFe_vs_FeH_included_s127{SUFFIX}.pdf\")\n",
    "plt.close(fig)"
   ]
  }
 ],
 "metadata": {
  "kernelspec": {
   "display_name": "Python 3",
   "language": "python",
   "name": "python3"
  },
  "language_info": {
   "codemirror_mode": {
    "name": "ipython",
    "version": 3
   },
   "file_extension": ".py",
   "mimetype": "text/x-python",
   "name": "python",
   "nbconvert_exporter": "python",
   "pygments_lexer": "ipython3",
   "version": "3.7.3"
  },
  "orig_nbformat": 4
 },
 "nbformat": 4,
 "nbformat_minor": 2
}
