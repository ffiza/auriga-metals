{
 "cells": [
  {
   "attachments": {},
   "cell_type": "markdown",
   "metadata": {},
   "source": [
    "# Stellar Origin Profiles"
   ]
  },
  {
   "cell_type": "code",
   "execution_count": 60,
   "metadata": {},
   "outputs": [],
   "source": [
    "import matplotlib.pyplot as plt\n",
    "import numpy as np\n",
    "import pandas as pd\n",
    "from scipy.stats import binned_statistic"
   ]
  },
  {
   "cell_type": "code",
   "execution_count": 61,
   "metadata": {},
   "outputs": [],
   "source": [
    "from auriga.snapshot import Snapshot\n",
    "from auriga.images import figure_setup\n",
    "from auriga.settings import Settings"
   ]
  },
  {
   "cell_type": "code",
   "execution_count": 62,
   "metadata": {},
   "outputs": [],
   "source": [
    "figure_setup()"
   ]
  },
  {
   "cell_type": "code",
   "execution_count": 63,
   "metadata": {},
   "outputs": [],
   "source": [
    "settings = Settings()"
   ]
  },
  {
   "cell_type": "code",
   "execution_count": 64,
   "metadata": {},
   "outputs": [],
   "source": [
    "def read_data(simulation: str) -> pd.DataFrame:\n",
    "    settings = Settings()\n",
    "    \n",
    "    s = Snapshot(simulation=simulation, loadonlytype=[0, 1, 2, 3, 4, 5])\n",
    "    s.tag_particles_by_region(\n",
    "        disc_std_circ=settings.disc_std_circ,\n",
    "        disc_min_circ=settings.disc_min_circ,\n",
    "        cold_disc_delta_circ=settings.cold_disc_delta_circ,\n",
    "        bulge_max_specific_energy=settings.bulge_max_specific_energy)\n",
    "    s.add_extra_coordinates()\n",
    "    s.tag_in_situ_stars()\n",
    "\n",
    "    is_real_star = (s.type == 4) & (s.stellar_formation_time > 0)\n",
    "    is_main_obj = (s.halo == s.halo_idx) & (s.subhalo == s.subhalo_idx)\n",
    "\n",
    "    df = pd.DataFrame({\n",
    "        \"ComponentTag\": s.region_tag[is_real_star & is_main_obj],\n",
    "        \"CylindricalRadius_ckpc\": s.rho[is_real_star & is_main_obj],\n",
    "        \"SphericalRadius_ckpc\": s.r[is_real_star & is_main_obj],\n",
    "        \"IsInSitu\": s.is_in_situ[is_real_star & is_main_obj],\n",
    "        })\n",
    "\n",
    "    return df"
   ]
  },
  {
   "cell_type": "code",
   "execution_count": 65,
   "metadata": {},
   "outputs": [],
   "source": [
    "def create_stats_df(df: pd.DataFrame,\n",
    "                    rxy_range: tuple = (0, 50),\n",
    "                    n_bins: int = 50) -> pd.DataFrame:\n",
    "    n_stars, bin_edges = np.histogram(\n",
    "        a=df[\"CylindricalRadius_ckpc\"],\n",
    "        range=rxy_range, bins=n_bins)\n",
    "    n_insitu, _ = np.histogram(\n",
    "        a=df[\"CylindricalRadius_ckpc\"][df[\"IsInSitu\"] == 1],\n",
    "        range=rxy_range, bins=n_bins)\n",
    "    bin_centers = bin_edges[1:] - np.diff(bin_edges) / 2\n",
    "\n",
    "    stats = {}\n",
    "    stats[\"BinCenters_ckpc\"] = bin_centers\n",
    "    stats[\"InSituFraction\"] = n_insitu / n_stars\n",
    "\n",
    "    for i in range(len(settings.components)):\n",
    "        n_stars, _ = np.histogram(\n",
    "            a=df[\"CylindricalRadius_ckpc\"][\n",
    "                df[\"ComponentTag\"] == i],\n",
    "            range=rxy_range, bins=n_bins)\n",
    "        n_insitu, _ = np.histogram(\n",
    "            a=df[\"CylindricalRadius_ckpc\"][\n",
    "                (df[\"IsInSitu\"] == 1) & (df[\"ComponentTag\"] == i)],\n",
    "            range=rxy_range, bins=n_bins)\n",
    "        stats[f\"InSituFraction_{settings.components[i]}\"] = n_insitu / n_stars\n",
    "\n",
    "    return pd.DataFrame(stats)"
   ]
  },
  {
   "cell_type": "code",
   "execution_count": 66,
   "metadata": {},
   "outputs": [
    {
     "name": "stderr",
     "output_type": "stream",
     "text": [
      "/u/fiza/conda-envs/auriga/lib/python3.7/site-packages/ipykernel_launcher.py:25: RuntimeWarning: invalid value encountered in true_divide\n",
      "/u/fiza/conda-envs/auriga/lib/python3.7/site-packages/ipykernel_launcher.py:25: RuntimeWarning: invalid value encountered in true_divide\n",
      "/u/fiza/conda-envs/auriga/lib/python3.7/site-packages/ipykernel_launcher.py:25: RuntimeWarning: invalid value encountered in true_divide\n",
      "/u/fiza/conda-envs/auriga/lib/python3.7/site-packages/ipykernel_launcher.py:25: RuntimeWarning: invalid value encountered in true_divide\n",
      "/u/fiza/conda-envs/auriga/lib/python3.7/site-packages/ipykernel_launcher.py:25: RuntimeWarning: invalid value encountered in true_divide\n",
      "/u/fiza/conda-envs/auriga/lib/python3.7/site-packages/ipykernel_launcher.py:25: RuntimeWarning: invalid value encountered in true_divide\n",
      "/u/fiza/conda-envs/auriga/lib/python3.7/site-packages/ipykernel_launcher.py:25: RuntimeWarning: invalid value encountered in true_divide\n",
      "/u/fiza/conda-envs/auriga/lib/python3.7/site-packages/ipykernel_launcher.py:25: RuntimeWarning: invalid value encountered in true_divide\n",
      "/u/fiza/conda-envs/auriga/lib/python3.7/site-packages/ipykernel_launcher.py:25: RuntimeWarning: invalid value encountered in true_divide\n",
      "/u/fiza/conda-envs/auriga/lib/python3.7/site-packages/ipykernel_launcher.py:25: RuntimeWarning: invalid value encountered in true_divide\n",
      "/u/fiza/conda-envs/auriga/lib/python3.7/site-packages/ipykernel_launcher.py:25: RuntimeWarning: invalid value encountered in true_divide\n",
      "/u/fiza/conda-envs/auriga/lib/python3.7/site-packages/ipykernel_launcher.py:25: RuntimeWarning: invalid value encountered in true_divide\n",
      "/u/fiza/conda-envs/auriga/lib/python3.7/site-packages/ipykernel_launcher.py:25: RuntimeWarning: invalid value encountered in true_divide\n",
      "/u/fiza/conda-envs/auriga/lib/python3.7/site-packages/ipykernel_launcher.py:25: RuntimeWarning: invalid value encountered in true_divide\n",
      "/u/fiza/conda-envs/auriga/lib/python3.7/site-packages/ipykernel_launcher.py:25: RuntimeWarning: invalid value encountered in true_divide\n",
      "/u/fiza/conda-envs/auriga/lib/python3.7/site-packages/ipykernel_launcher.py:25: RuntimeWarning: invalid value encountered in true_divide\n",
      "/u/fiza/conda-envs/auriga/lib/python3.7/site-packages/ipykernel_launcher.py:25: RuntimeWarning: invalid value encountered in true_divide\n",
      "/u/fiza/conda-envs/auriga/lib/python3.7/site-packages/ipykernel_launcher.py:25: RuntimeWarning: invalid value encountered in true_divide\n",
      "/u/fiza/conda-envs/auriga/lib/python3.7/site-packages/ipykernel_launcher.py:25: RuntimeWarning: invalid value encountered in true_divide\n",
      "/u/fiza/conda-envs/auriga/lib/python3.7/site-packages/ipykernel_launcher.py:25: RuntimeWarning: invalid value encountered in true_divide\n",
      "/u/fiza/conda-envs/auriga/lib/python3.7/site-packages/ipykernel_launcher.py:25: RuntimeWarning: invalid value encountered in true_divide\n",
      "/u/fiza/conda-envs/auriga/lib/python3.7/site-packages/ipykernel_launcher.py:25: RuntimeWarning: invalid value encountered in true_divide\n",
      "/u/fiza/conda-envs/auriga/lib/python3.7/site-packages/ipykernel_launcher.py:25: RuntimeWarning: invalid value encountered in true_divide\n",
      "/u/fiza/conda-envs/auriga/lib/python3.7/site-packages/ipykernel_launcher.py:25: RuntimeWarning: invalid value encountered in true_divide\n",
      "/u/fiza/conda-envs/auriga/lib/python3.7/site-packages/ipykernel_launcher.py:25: RuntimeWarning: invalid value encountered in true_divide\n",
      "/u/fiza/conda-envs/auriga/lib/python3.7/site-packages/ipykernel_launcher.py:25: RuntimeWarning: invalid value encountered in true_divide\n",
      "/u/fiza/conda-envs/auriga/lib/python3.7/site-packages/ipykernel_launcher.py:25: RuntimeWarning: invalid value encountered in true_divide\n",
      "/u/fiza/conda-envs/auriga/lib/python3.7/site-packages/ipykernel_launcher.py:25: RuntimeWarning: invalid value encountered in true_divide\n",
      "/u/fiza/conda-envs/auriga/lib/python3.7/site-packages/ipykernel_launcher.py:25: RuntimeWarning: invalid value encountered in true_divide\n",
      "/u/fiza/conda-envs/auriga/lib/python3.7/site-packages/ipykernel_launcher.py:25: RuntimeWarning: invalid value encountered in true_divide\n"
     ]
    }
   ],
   "source": [
    "for i in settings.galaxies:\n",
    "    SIMULATION = f\"au{i}_or_l4_s127\"\n",
    "    df = read_data(simulation=SIMULATION)\n",
    "    stats = create_stats_df(df=df)\n",
    "\n",
    "    fig = plt.figure(figsize=(3.0, 2.5))\n",
    "    gs = fig.add_gridspec(nrows=1, ncols=1, hspace=0.0, wspace=0.0)\n",
    "    ax = gs.subplots(sharex=True, sharey=True)\n",
    "\n",
    "    ax.set_xlabel(r\"$r_{xy}$ [ckpc]\")\n",
    "    ax.set_xlim(0, 50)\n",
    "    ax.set_xticks([0, 10, 20, 30, 40, 50])\n",
    "    ax.set_ylabel(r\"$f_\\mathrm{in-situ}$\")\n",
    "    ax.set_ylim(0, 1)\n",
    "    ax.set_yticks([0, 0.2, 0.4, 0.6, 0.8, 1])\n",
    "\n",
    "    ax.plot(stats[\"BinCenters_ckpc\"], stats[\"InSituFraction\"],\n",
    "            c=\"black\", label=\"All\")\n",
    "    for i in range(len(settings.components)):\n",
    "        ax.plot(\n",
    "            stats[\"BinCenters_ckpc\"],\n",
    "            stats[f\"InSituFraction_{settings.components[i]}\"],\n",
    "            c=settings.component_colors[settings.components[i]],\n",
    "            label=settings.component_labels[settings.components[i]])\n",
    "\n",
    "    ax.legend(loc=\"lower left\", framealpha=0, fontsize=6.0)\n",
    "\n",
    "    ax.text(x=ax.get_xlim()[0], y=ax.get_ylim()[1],\n",
    "            s=r\"$\\texttt{\" + SIMULATION.upper() + \"}$\",\n",
    "            size=8.0, ha='left', va='bottom',\n",
    "            )\n",
    "\n",
    "    fig.savefig(f\"../images/stellar_origin_profiles/{SIMULATION}.pdf\")\n",
    "    plt.close(fig)"
   ]
  }
 ],
 "metadata": {
  "kernelspec": {
   "display_name": "Python 3",
   "language": "python",
   "name": "python3"
  },
  "language_info": {
   "codemirror_mode": {
    "name": "ipython",
    "version": 3
   },
   "file_extension": ".py",
   "mimetype": "text/x-python",
   "name": "python",
   "nbconvert_exporter": "python",
   "pygments_lexer": "ipython3",
   "version": "3.7.3"
  },
  "orig_nbformat": 4
 },
 "nbformat": 4,
 "nbformat_minor": 2
}
