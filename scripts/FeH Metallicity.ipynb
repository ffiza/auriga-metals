{
 "cells": [
  {
   "attachments": {},
   "cell_type": "markdown",
   "metadata": {},
   "source": [
    "# [Fe/H] Metallicity"
   ]
  },
  {
   "cell_type": "code",
   "execution_count": 14,
   "metadata": {},
   "outputs": [],
   "source": [
    "from matplotlib import pyplot as plt\n",
    "import matplotlib.colors as mcolors\n",
    "import numpy as np\n",
    "import pandas as pd"
   ]
  },
  {
   "cell_type": "code",
   "execution_count": 15,
   "metadata": {},
   "outputs": [],
   "source": [
    "from auriga.snapshot import Snapshot\n",
    "from auriga.images import figure_setup, set_axs_configuration\n",
    "from auriga.settings import Settings"
   ]
  },
  {
   "cell_type": "code",
   "execution_count": 24,
   "metadata": {},
   "outputs": [],
   "source": [
    "figure_setup()"
   ]
  },
  {
   "cell_type": "code",
   "execution_count": 10,
   "metadata": {},
   "outputs": [],
   "source": [
    "def read_data(simulation: str) -> dict:\n",
    "    \"\"\"\n",
    "    Return a dictionary with the (nan)median values of the [Fe/H]\n",
    "    abundance ratio for the stars in each component.\n",
    "\n",
    "    Parameters\n",
    "    ----------\n",
    "    simulation : str\n",
    "        The simulation to consider.\n",
    "\n",
    "    Returns\n",
    "    -------\n",
    "    dict\n",
    "        A dictionary with the results.\n",
    "    \"\"\"\n",
    "    settings = Settings()\n",
    "\n",
    "    s = Snapshot(simulation=simulation,\n",
    "                 loadonlytype=[0, 1, 2, 3, 4, 5])\n",
    "    s.add_circularity()\n",
    "    s.add_reference_to_potential()\n",
    "    s.add_normalized_potential()\n",
    "    s.tag_particles_by_region(disc_std_circ=1.0,\n",
    "                              disc_min_circ=0.4,\n",
    "                              cold_disc_delta_circ=0.25,\n",
    "                              bulge_max_specific_energy=-0.75)\n",
    "    s.add_metal_abundance(of=\"Fe\", to=\"H\")\n",
    "\n",
    "    is_real_star = (s.type == 4) & (s.stellar_formation_time > 0)\n",
    "    is_main_obj = (s.halo == s.halo_idx) & (s.subhalo == s.subhalo_idx)\n",
    "\n",
    "    results = {}\n",
    "\n",
    "    for idx, region in enumerate(settings.components):\n",
    "        is_region = s.region_tag == idx\n",
    "        results[region] = np.nanmedian(\n",
    "            s.metal_abundance[\"Fe/H\"][is_real_star \\\n",
    "                & is_main_obj & is_region]\n",
    "        )\n",
    "    results[\"All\"] = np.nanmedian(\n",
    "            s.metal_abundance[\"Fe/H\"][is_real_star \\\n",
    "                & is_main_obj])\n",
    "\n",
    "    return results"
   ]
  },
  {
   "cell_type": "code",
   "execution_count": 16,
   "metadata": {},
   "outputs": [],
   "source": [
    "def accumulate_sample(simulations: list) -> pd.DataFrame:\n",
    "    \"\"\"\n",
    "    Return a Pandas data frame with the (nan)median metallicity\n",
    "    for the components for each galaxy.\n",
    "\n",
    "    Parameters\n",
    "    ----------\n",
    "    simulations : list\n",
    "        _description_\n",
    "\n",
    "    Returns\n",
    "    -------\n",
    "    pd.DataFrame\n",
    "        _description_\n",
    "    \"\"\"\n",
    "    galaxy = []\n",
    "    data_all = []\n",
    "    data_halo = []\n",
    "    data_bulge = []\n",
    "    data_cdisc = []\n",
    "    data_wdisc = []\n",
    "    for simulation in simulations:\n",
    "        galaxy.append(simulation)\n",
    "        results = read_data(simulation=simulation)\n",
    "        data_all.append(results[\"All\"])\n",
    "        data_halo.append(results[\"H\"])\n",
    "        data_bulge.append(results[\"B\"])\n",
    "        data_cdisc.append(results[\"CD\"])\n",
    "        data_wdisc.append(results[\"WD\"])\n",
    "\n",
    "    df = pd.DataFrame()\n",
    "    df[\"Simulation\"] = galaxy\n",
    "    df[\"Metallicity_All\"] = data_all\n",
    "    df[\"Metallicity_H\"] = data_halo\n",
    "    df[\"Metallicity_B\"] = data_bulge\n",
    "    df[\"Metallicity_CD\"] = data_cdisc\n",
    "    df[\"Metallicity_WD\"] = data_wdisc\n",
    "\n",
    "    return df\n",
    "    "
   ]
  },
  {
   "cell_type": "code",
   "execution_count": 20,
   "metadata": {},
   "outputs": [],
   "source": [
    "settings = Settings()\n",
    "originals = [f\"au{i}_or_l4_s127\" for i in settings.galaxies]\n",
    "df = accumulate_sample(simulations=originals)"
   ]
  },
  {
   "cell_type": "code",
   "execution_count": 69,
   "metadata": {},
   "outputs": [],
   "source": [
    "fig = plt.figure(figsize=(2.0, 2.0))\n",
    "gs = fig.add_gridspec(nrows=1, ncols=1, hspace=0.0, wspace=0.0)\n",
    "ax = gs.subplots(sharex=True, sharey=True)\n",
    "\n",
    "ax.grid(True, ls='-', lw=0.25, c='silver')\n",
    "ax.tick_params(which='both', direction=\"in\")\n",
    "ax.set_xlim(-0.7, 0.7)\n",
    "ax.set_ylim(0, 8)\n",
    "ax.set_xticks([-0.5, 0, 0.5])\n",
    "ax.set_yticks([0, 2, 4, 6, 8])\n",
    "ax.set_xlabel('median([Fe/H])')\n",
    "ax.set_ylabel('PDF')\n",
    "ax.set_axisbelow(True)\n",
    "\n",
    "ax.hist(df[\"Metallicity_All\"], bins=15, range=(-0.5, 0.5),\n",
    "    histtype=\"stepfilled\", color=\"k\", alpha=0.25, lw=0, density=True,\n",
    "    label=\"All\")\n",
    "ax.hist(df[\"Metallicity_H\"], bins=15, range=(-0.5, 0.5),\n",
    "    histtype=\"step\", color=\"tab:blue\", alpha=1, density=True,\n",
    "    label=\"Halo\")\n",
    "ax.hist(df[\"Metallicity_B\"], bins=15, range=(-0.5, 0.5),\n",
    "    histtype=\"step\", color=\"tab:green\", alpha=1, density=True,\n",
    "    label=\"Bulge\")\n",
    "ax.hist(df[\"Metallicity_CD\"], bins=15, range=(-0.5, 0.5),\n",
    "    histtype=\"step\", color=\"tab:red\", alpha=1, density=True,\n",
    "    label=\"Cold Disc\")\n",
    "ax.hist(df[\"Metallicity_WD\"], bins=15, range=(-0.5, 0.5),\n",
    "    histtype=\"step\", color=\"tab:orange\", alpha=1, density=True,\n",
    "    label=\"Warm Disc\")\n",
    "\n",
    "ax.legend(loc=\"upper left\", framealpha=0, fontsize=5.0)\n",
    "\n",
    "fig.savefig(\"../images/metallicity/FeH_histogram_originals_s127.pdf\")\n",
    "plt.close(fig)"
   ]
  }
 ],
 "metadata": {
  "kernelspec": {
   "display_name": "Python 3",
   "language": "python",
   "name": "python3"
  },
  "language_info": {
   "codemirror_mode": {
    "name": "ipython",
    "version": 3
   },
   "file_extension": ".py",
   "mimetype": "text/x-python",
   "name": "python",
   "nbconvert_exporter": "python",
   "pygments_lexer": "ipython3",
   "version": "3.7.3"
  },
  "orig_nbformat": 4
 },
 "nbformat": 4,
 "nbformat_minor": 2
}
