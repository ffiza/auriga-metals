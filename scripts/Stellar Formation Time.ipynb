{
 "cells": [
  {
   "cell_type": "markdown",
   "metadata": {},
   "source": [
    "# Stellar Formation Time at $z=0$"
   ]
  },
  {
   "cell_type": "code",
   "execution_count": 8,
   "metadata": {},
   "outputs": [],
   "source": [
    "from matplotlib import pyplot as plt\n",
    "import pandas as pd\n",
    "import numpy as np\n",
    "from scipy.stats import binned_statistic"
   ]
  },
  {
   "cell_type": "code",
   "execution_count": 9,
   "metadata": {},
   "outputs": [],
   "source": [
    "from auriga.snapshot import Snapshot\n",
    "from auriga.images import figure_setup\n",
    "from auriga.paths import Paths\n",
    "from auriga.settings import Settings\n",
    "from auriga.parser import parse"
   ]
  },
  {
   "cell_type": "code",
   "execution_count": 10,
   "metadata": {},
   "outputs": [],
   "source": [
    "figure_setup()\n",
    "settings = Settings()"
   ]
  },
  {
   "cell_type": "code",
   "execution_count": 11,
   "metadata": {},
   "outputs": [],
   "source": [
    "DISC_STD_CIRC = settings.disc_std_circ\n",
    "DISC_MIN_CIRC = settings.disc_min_circ\n",
    "COLD_DISC_DELTA_CIRC = settings.cold_disc_delta_circ\n",
    "BULGE_MAX_SPECIFIC_ENERGY = -0.6\n",
    "SUFFIX = \"_02\""
   ]
  },
  {
   "cell_type": "code",
   "execution_count": 12,
   "metadata": {},
   "outputs": [],
   "source": [
    "def read_data(simulation: str) -> pd.DataFrame:\n",
    "    settings = Settings()\n",
    "\n",
    "    s = Snapshot(simulation=simulation, loadonlytype=[0, 1, 2, 3, 4, 5])\n",
    "    s.tag_particles_by_region(\n",
    "        disc_std_circ=DISC_STD_CIRC,\n",
    "        disc_min_circ=DISC_MIN_CIRC,\n",
    "        cold_disc_delta_circ=COLD_DISC_DELTA_CIRC,\n",
    "        bulge_max_specific_energy=BULGE_MAX_SPECIFIC_ENERGY,\n",
    "    )\n",
    "    s.tag_in_situ_stars()\n",
    "    s.add_stellar_age()\n",
    "\n",
    "    is_real_star = (s.type == 4) & (s.stellar_formation_time > 0)\n",
    "    is_main_obj = (s.halo == s.halo_idx) & (s.subhalo == s.subhalo_idx)\n",
    "\n",
    "    df = pd.DataFrame()\n",
    "    df[\"StellarAge_Gyr\"] = s.stellar_age[is_real_star & is_main_obj]\n",
    "    df[\"RegionTag\"] = s.region_tag[is_real_star & is_main_obj]\n",
    "    df[\"IsInSitu\"] = s.is_in_situ[is_real_star & is_main_obj].astype(\"bool\")\n",
    "\n",
    "    return df"
   ]
  },
  {
   "cell_type": "code",
   "execution_count": 13,
   "metadata": {},
   "outputs": [],
   "source": [
    "simulations = [f\"au{i}_or_l4_s127\" for i in settings.galaxies]"
   ]
  },
  {
   "cell_type": "code",
   "execution_count": 14,
   "metadata": {},
   "outputs": [],
   "source": [
    "for simulation in simulations:\n",
    "    df = read_data(simulation=simulation)\n",
    "    label = f\"Au{parse(simulation)[0]}\"\n",
    "\n",
    "    fig = plt.figure(figsize=(7.4, 2.0))\n",
    "    gs = fig.add_gridspec(nrows=1, ncols=4, hspace=0.0, wspace=0.0)\n",
    "    axs = gs.subplots(sharex=True, sharey=True)\n",
    "\n",
    "    for ax in axs.flat:\n",
    "        ax.tick_params(which='both', direction=\"in\")\n",
    "        ax.set_xlim(0, 14)\n",
    "        ax.set_ylim(0, 0.2)\n",
    "        ax.set_xticks([0, 2, 4, 6, 8, 10, 12])\n",
    "        ax.set_xlabel('Stellar Age [Gyr]')\n",
    "        ax.set_ylabel(r\"$f_\\star$\")\n",
    "        ax.grid(True, ls='-', lw=0.25, c=\"gainsboro\")\n",
    "        ax.label_outer()\n",
    "\n",
    "    for idx, component in enumerate(settings.components):\n",
    "\n",
    "        n_stars_comp = (df[\"RegionTag\"] == idx).sum()\n",
    "\n",
    "        hist, bin_edges = np.histogram(\n",
    "                a=df[\"StellarAge_Gyr\"][df[\"RegionTag\"] == idx],\n",
    "                bins=28, range=(0, 14))\n",
    "        bin_centers = bin_edges[1:] - np.diff(bin_edges)[0] / 2\n",
    "        axs[idx].plot(\n",
    "            bin_centers, hist / n_stars_comp,\n",
    "            c=settings.component_colors[component], lw=1)\n",
    "\n",
    "        hist, _ = np.histogram(\n",
    "                a=df[\"StellarAge_Gyr\"][\n",
    "                    (df[\"RegionTag\"] == idx) & (df[\"IsInSitu\"] == 1)],\n",
    "                bins=28, range=(0, 14))\n",
    "        axs[idx].plot(\n",
    "            bin_centers, hist / n_stars_comp,\n",
    "            c='k', lw=0.75, ls=(0, (3, 1.5, 1, 1.5)), label=\"In-Situ Stars\")\n",
    "\n",
    "        hist, _ = np.histogram(\n",
    "                a=df[\"StellarAge_Gyr\"][\n",
    "                    (df[\"RegionTag\"] == idx) & (df[\"IsInSitu\"] == 0)],\n",
    "                bins=28, range=(0, 14))\n",
    "        axs[idx].plot(\n",
    "            bin_centers, hist / n_stars_comp,\n",
    "            c='k', lw=0.75, ls=(0, (5, 1.5)), label=\"Ex-Situ Stars\")\n",
    "\n",
    "        axs[idx].text(x=0.05, y=0.95, size=8.0, ha=\"left\", va=\"top\",\n",
    "                    s=settings.component_labels[settings.components[idx]],\n",
    "                    transform=axs[idx].transAxes)\n",
    "\n",
    "    axs[3].legend(loc=\"lower left\", framealpha=0, fontsize=6,\n",
    "                  bbox_to_anchor=(0.009, 0.65))\n",
    "\n",
    "    axs[0].text(\n",
    "        x=0.95, y=0.95, size=8.0,\n",
    "        s=r\"$\\texttt{\" + label + \"}$\",\n",
    "        ha='right', va='top', transform=axs[0].transAxes)\n",
    "\n",
    "    fig.savefig(\n",
    "        f\"../images/stellar_formation_time/{simulation}{SUFFIX}.pdf\")\n",
    "    plt.close(fig)"
   ]
  }
 ],
 "metadata": {
  "kernelspec": {
   "display_name": "Python 3",
   "language": "python",
   "name": "python3"
  },
  "language_info": {
   "codemirror_mode": {
    "name": "ipython",
    "version": 3
   },
   "file_extension": ".py",
   "mimetype": "text/x-python",
   "name": "python",
   "nbconvert_exporter": "python",
   "pygments_lexer": "ipython3",
   "version": "3.7.3"
  },
  "orig_nbformat": 4
 },
 "nbformat": 4,
 "nbformat_minor": 2
}
