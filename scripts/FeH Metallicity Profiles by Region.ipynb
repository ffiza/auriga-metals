{
 "cells": [
  {
   "attachments": {},
   "cell_type": "markdown",
   "metadata": {},
   "source": [
    "# [Fe/H] Metallicity Profiles by Region"
   ]
  },
  {
   "cell_type": "code",
   "execution_count": 21,
   "metadata": {},
   "outputs": [],
   "source": [
    "from multiprocessing import Pool\n",
    "import os\n",
    "os.environ[\"MKL_NUM_THREADS\"] = \"1\"\n",
    "os.environ[\"NUMEXPR_NUM_THREADS\"] = \"1\"\n",
    "os.environ[\"OMP_NUM_THREADS\"] = \"1\"\n",
    "from matplotlib import pyplot as plt\n",
    "import matplotlib.colors as mcolors\n",
    "import numpy as np\n",
    "import pandas as pd\n",
    "from scipy.stats import binned_statistic"
   ]
  },
  {
   "cell_type": "code",
   "execution_count": 22,
   "metadata": {},
   "outputs": [],
   "source": [
    "from auriga.snapshot import Snapshot\n",
    "from auriga.images import figure_setup, set_axs_configuration\n",
    "from auriga.settings import Settings\n",
    "from auriga.parser import parse"
   ]
  },
  {
   "cell_type": "code",
   "execution_count": 23,
   "metadata": {},
   "outputs": [],
   "source": [
    "figure_setup()\n",
    "settings = Settings()"
   ]
  },
  {
   "cell_type": "code",
   "execution_count": 24,
   "metadata": {},
   "outputs": [],
   "source": [
    "RXY_RANGE: tuple = (0, 30)\n",
    "N_BINS: int = 30"
   ]
  },
  {
   "cell_type": "code",
   "execution_count": 25,
   "metadata": {},
   "outputs": [],
   "source": [
    "def read_data(simulation: str, of: str, to: str) -> tuple:\n",
    "    \"\"\"\n",
    "    This method returns data of interest for this analysis.\n",
    "\n",
    "    Parameters\n",
    "    ----------\n",
    "    simulation : str\n",
    "        The simulation to consider.\n",
    "\n",
    "    Returns\n",
    "    -------\n",
    "    pd.DataFrame\n",
    "        A data frame with the properties.\n",
    "    \"\"\"\n",
    "\n",
    "    settings = Settings()\n",
    "\n",
    "    s = Snapshot(simulation=simulation, loadonlytype=[0, 1, 2, 3, 4, 5])\n",
    "    s.tag_particles_by_region(\n",
    "        disc_std_circ=settings.disc_std_circ,\n",
    "        disc_min_circ=settings.disc_min_circ,\n",
    "        cold_disc_delta_circ=settings.cold_disc_delta_circ,\n",
    "        bulge_max_specific_energy=settings.bulge_max_specific_energy)\n",
    "    s.add_metal_abundance(of, to)\n",
    "\n",
    "    is_real_star = (s.type == 4) & (s.stellar_formation_time > 0)\n",
    "    is_main_obj = (s.halo == s.halo_idx) & (s.subhalo == s.subhalo_idx)\n",
    "\n",
    "    df = pd.DataFrame()\n",
    "    df[\"[Fe/H]\"] = s.metal_abundance[\"Fe/H\"][is_real_star & is_main_obj]\n",
    "    df[\"r_xy\"] = s.rho[is_real_star & is_main_obj]\n",
    "    df[\"RegTag\"] = s.region_tag[is_real_star & is_main_obj]\n",
    "    df[\"r_ckpc\"] = s.r[is_real_star & is_main_obj]\n",
    "\n",
    "    return df"
   ]
  },
  {
   "cell_type": "code",
   "execution_count": 26,
   "metadata": {},
   "outputs": [],
   "source": [
    "def process_data(simulation: int):\n",
    "    df = read_data(simulation=simulation, of=\"Fe\", to='H')\n",
    "    mean_by_region = []\n",
    "    for tag in settings.component_tags.values():\n",
    "        is_region = (df[\"RegTag\"] == tag)\n",
    "        mean, bin_edges, _ = binned_statistic(\n",
    "            x=df[\"r_xy\"][is_region & np.isfinite(df[\"[Fe/H]\"])],\n",
    "            values=df[\"[Fe/H]\"][is_region & np.isfinite(df[\"[Fe/H]\"])],\n",
    "            statistic=\"mean\",\n",
    "            bins=N_BINS,\n",
    "            range=RXY_RANGE)\n",
    "        mean_by_region.append(mean)\n",
    "    bin_centers = bin_edges[1:] - np.diff(bin_edges)[0] / 2\n",
    "    return bin_centers, mean_by_region"
   ]
  },
  {
   "cell_type": "code",
   "execution_count": 27,
   "metadata": {},
   "outputs": [],
   "source": [
    "def get_data_for_sample(simulations: list):\n",
    "    data = Pool().map(process_data, simulations)\n",
    "    df = pd.DataFrame()\n",
    "    df[\"BinCenters_kpc\"] = data[0][0]\n",
    "    for i in range(len(simulations)):\n",
    "        galaxy, _, _, _ = parse(simulations[i])\n",
    "        for j in range(len(data[0][1])):\n",
    "            df[f\"FeHProfile_Au{galaxy}_{settings.components[j]}\"] = \\\n",
    "                data[i][1][j]\n",
    "    return df"
   ]
  },
  {
   "cell_type": "markdown",
   "metadata": {},
   "source": [
    "## [Fe/H] Profiles for Sample"
   ]
  },
  {
   "cell_type": "code",
   "execution_count": 28,
   "metadata": {},
   "outputs": [
    {
     "name": "stderr",
     "output_type": "stream",
     "text": [
      "/u/fiza/conda-envs/auriga/lib/python3.7/site-packages/ipykernel_launcher.py:9: PerformanceWarning: DataFrame is highly fragmented.  This is usually the result of calling `frame.insert` many times, which has poor performance.  Consider joining all columns at once using pd.concat(axis=1) instead.  To get a de-fragmented frame, use `newframe = frame.copy()`\n",
      "  if __name__ == '__main__':\n"
     ]
    }
   ],
   "source": [
    "sample = [f\"au{i}_or_l4_s127\" for i in settings.galaxies]\n",
    "df = get_data_for_sample(simulations=sample)"
   ]
  },
  {
   "cell_type": "code",
   "execution_count": 29,
   "metadata": {},
   "outputs": [],
   "source": [
    "fig = plt.figure(figsize=(7.2, 7.2))\n",
    "gs = fig.add_gridspec(nrows=6, ncols=5, hspace=0.0, wspace=0.0)\n",
    "axs = gs.subplots(sharex=True, sharey=True)\n",
    "\n",
    "for ax in axs.flatten():\n",
    "    ax.set_xlim(RXY_RANGE)\n",
    "    ax.set_ylim(-1.5, 0.5),\n",
    "    ax.set_xticks([0, 5, 10, 15, 20, 25])\n",
    "    ax.set_yticks([-1, -0.5, 0])\n",
    "    ax.set_xlabel(r\"$r_{xy}$ [ckpc]\")\n",
    "    ax.set_ylabel(r\"$\\left< \\mathrm{[Fe/H]} \\right>$\")\n",
    "    ax.grid(True, ls='-', lw=0.25, c=\"gainsboro\")\n",
    "    ax.label_outer()\n",
    "\n",
    "for idx, ax in enumerate(axs.flat):\n",
    "    ax.grid(True, ls='-', lw=0.25, c='silver')\n",
    "    if idx < len(sample):\n",
    "        galaxy, _, _, _ = parse(sample[idx])\n",
    "        for tag in settings.component_tags.values():\n",
    "            ax.plot(\n",
    "                df[\"BinCenters_kpc\"],\n",
    "                df[f\"FeHProfile_Au{galaxy}_{settings.components[tag]}\"],\n",
    "                lw=1.0, zorder=10,\n",
    "                c=settings.component_colors[settings.components[tag]],\n",
    "                label=settings.component_labels[settings.components[tag]])\n",
    "        ax.text(x=0.95, y=0.95, size=6.0,\n",
    "                s=r\"$\\texttt{\" + f\"au{galaxy}_or_l4_s127\".upper() + \"}$\",\n",
    "                ha=\"right\", va=\"top\", transform=ax.transAxes)\n",
    "    else:\n",
    "        ax.axis(\"off\")\n",
    "\n",
    "axs[0, 0].legend(loc=\"lower left\", framealpha=0.0, fontsize=4.0)\n",
    "\n",
    "fig.savefig(\"../images/FeH_metallicity_profiles_by_region/originals.pdf\")\n",
    "plt.close(fig)"
   ]
  },
  {
   "cell_type": "markdown",
   "metadata": {},
   "source": [
    "## Average [Fe/H] Profiles"
   ]
  },
  {
   "cell_type": "code",
   "execution_count": 30,
   "metadata": {},
   "outputs": [],
   "source": [
    "averages = []\n",
    "for component in settings.components:\n",
    "    cols = [f\"FeHProfile_Au{galaxy}_{component}\" \\\n",
    "        for galaxy in settings.galaxies]\n",
    "    averages.append(df[cols].mean(axis=1))"
   ]
  },
  {
   "cell_type": "code",
   "execution_count": 31,
   "metadata": {},
   "outputs": [],
   "source": [
    "fig = plt.figure(figsize=(7.4, 2.0))\n",
    "gs = fig.add_gridspec(nrows=1, ncols=4, hspace=0.0, wspace=0.0)\n",
    "axs = gs.subplots(sharex=True, sharey=True)\n",
    "\n",
    "for ax in axs.flat:\n",
    "    ax.tick_params(which='both', direction=\"in\")\n",
    "    ax.set_xlim(RXY_RANGE)\n",
    "    ax.set_ylim(-1.5, 0.5)\n",
    "    ax.set_xticks([0, 5, 10, 15, 20, 25])\n",
    "    ax.set_ylabel(r\"$\\left< \\mathrm{[Fe/H]} \\right>$\")\n",
    "    ax.set_xlabel(r\"$r_{xy}$ [ckpc]\")\n",
    "    ax.grid(True, ls='-', lw=0.25, c=\"gainsboro\")\n",
    "    ax.label_outer()\n",
    "\n",
    "for idx, component in enumerate(settings.components):\n",
    "    for galaxy in settings.galaxies:\n",
    "        axs[idx].plot(df[\"BinCenters_kpc\"],\n",
    "                      df[f\"FeHProfile_Au{galaxy}_{component}\"],\n",
    "                      lw=1.0, color=\"silver\", zorder=10)\n",
    "    axs[idx].plot(df[\"BinCenters_kpc\"], averages[idx],lw=1.5,\n",
    "                  color=settings.component_colors[component], zorder=11)\n",
    "    axs[idx].text(x=0.05, y=0.05, size=8.0, ha='left', va='bottom',\n",
    "                  s=settings.component_labels[settings.components[idx]],\n",
    "                  transform=axs[idx].transAxes)\n",
    "\n",
    "fig.savefig(\n",
    "    \"../images/FeH_metallicity_profiles_by_region/originals_average.pdf\")\n",
    "plt.close(fig)"
   ]
  }
 ],
 "metadata": {
  "kernelspec": {
   "display_name": "Python 3",
   "language": "python",
   "name": "python3"
  },
  "language_info": {
   "codemirror_mode": {
    "name": "ipython",
    "version": 3
   },
   "file_extension": ".py",
   "mimetype": "text/x-python",
   "name": "python",
   "nbconvert_exporter": "python",
   "pygments_lexer": "ipython3",
   "version": "3.7.3"
  },
  "orig_nbformat": 4
 },
 "nbformat": 4,
 "nbformat_minor": 2
}
