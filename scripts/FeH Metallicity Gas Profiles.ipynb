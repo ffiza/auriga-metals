{
 "cells": [
  {
   "attachments": {},
   "cell_type": "markdown",
   "metadata": {},
   "source": [
    "# [Fe/H] Metallicity Profiles (Gas)"
   ]
  },
  {
   "cell_type": "code",
   "execution_count": 95,
   "metadata": {},
   "outputs": [],
   "source": [
    "import matplotlib as mpl\n",
    "import matplotlib.pyplot as plt\n",
    "import numpy as np\n",
    "import pandas as pd\n",
    "import scipy.stats as ss"
   ]
  },
  {
   "cell_type": "code",
   "execution_count": 96,
   "metadata": {},
   "outputs": [],
   "source": [
    "from auriga.snapshot import Snapshot\n",
    "from auriga.images import figure_setup\n",
    "from auriga.settings import Settings\n",
    "from auriga.parser import parse"
   ]
  },
  {
   "cell_type": "code",
   "execution_count": 97,
   "metadata": {},
   "outputs": [],
   "source": [
    "figure_setup()\n",
    "settings = Settings()"
   ]
  },
  {
   "cell_type": "code",
   "execution_count": 98,
   "metadata": {},
   "outputs": [],
   "source": [
    "RXY_RANGE: tuple = (0, 30)\n",
    "N_BINS: int = 30\n",
    "SNAPSHOTS = [52, 66, 79, 92, 104, 116, 127]"
   ]
  },
  {
   "cell_type": "code",
   "execution_count": 100,
   "metadata": {},
   "outputs": [],
   "source": [
    "colors = plt.cm.winter(np.linspace(0, 1, len(SNAPSHOTS)))"
   ]
  },
  {
   "cell_type": "code",
   "execution_count": 99,
   "metadata": {},
   "outputs": [],
   "source": [
    "def read_data(simulation: str, of: str, to: str) -> tuple:\n",
    "    s = Snapshot(simulation=simulation, loadonlytype=[0])\n",
    "    s.add_extra_coordinates()\n",
    "    s.add_metal_abundance(of=of, to=to)\n",
    "\n",
    "    is_gas = (s.type == 0)\n",
    "    is_main_obj = (s.halo == s.halo_idx) & (s.subhalo == s.subhalo_idx)\n",
    "\n",
    "    df = pd.DataFrame()\n",
    "    df[f\"[{of}/{to}]\"] = s.metal_abundance[f\"{of}/{to}\"][\n",
    "        is_gas & is_main_obj]\n",
    "    df[\"CylindricalRadius_ckpc\"] = s.rho[is_gas & is_main_obj]\n",
    "\n",
    "    # Remove invalid data\n",
    "    df.replace([np.inf, -np.inf], np.nan, inplace=True)\n",
    "    df.dropna(inplace=True)\n",
    "\n",
    "    return s.time, df"
   ]
  },
  {
   "cell_type": "code",
   "execution_count": 104,
   "metadata": {},
   "outputs": [],
   "source": [
    "fig = plt.figure(figsize=(7, 8))\n",
    "gs = fig.add_gridspec(nrows=6, ncols=4, hspace=0.0, wspace=0.0)\n",
    "axs = gs.subplots(sharex=True, sharey=True)\n",
    "\n",
    "for ax in axs.flatten():\n",
    "    ax.tick_params(which='both', direction=\"in\")\n",
    "    if ax == axs[-1, -1]: ax.axis(\"off\")\n",
    "    ax.set_xlim(RXY_RANGE)\n",
    "    ax.set_xticks([5, 10, 15, 20, 25])\n",
    "    ax.set_ylim(-0.8, 0.8)\n",
    "    ax.set_yticks([-0.6, -0.4, -0.2, 0, 0.2, 0.4, 0.6])\n",
    "    ax.set_axisbelow(True)\n",
    "    if ax.get_subplotspec().is_last_row() or ax == axs[-2, -1]:\n",
    "        ax.set_xlabel(r\"$r_{xy}$ [ckpc]\")\n",
    "        ax.tick_params(labelbottom=True)\n",
    "    if ax.get_subplotspec().is_first_col():\n",
    "        ax.set_ylabel(\"[Fe/H]\")\n",
    "\n",
    "for i in range(len(settings.groups[\"Included\"])):\n",
    "    ax = axs.flatten()[i]\n",
    "    galaxy = settings.groups[\"Included\"][i]\n",
    "    label = f\"Au{galaxy}\"\n",
    "    for j, snapnum in enumerate(SNAPSHOTS):\n",
    "        simulation = f\"au{galaxy}_or_l4_s{snapnum}\"\n",
    "        time, df = read_data(simulation=simulation, of=\"Fe\", to='H')\n",
    "\n",
    "        stat, bin_edges, _ = ss.binned_statistic(\n",
    "            x=df[\"CylindricalRadius_ckpc\"],\n",
    "            values=df[\"[Fe/H]\"],\n",
    "            statistic=np.nanmean,\n",
    "            bins=N_BINS,\n",
    "            range=RXY_RANGE,\n",
    "            )\n",
    "        bin_centers = bin_edges[1:] - np.diff(bin_edges)[0] / 2\n",
    "        ax.plot(bin_centers, stat, label=np.round(time, 1), color=colors[j])\n",
    "\n",
    "    if ax == axs[-1, -2]:\n",
    "        ax.legend(loc=\"center\", bbox_to_anchor=(1.5, 0.3),\n",
    "                  title=\"Time [Gyr]\", ncol=2, fontsize=4.0, framealpha=0)\n",
    "\n",
    "    ax.text(x=0.05, y=0.95, s=r\"$\\texttt{\" + label + \"}$\",\n",
    "            size=6.0, transform=ax.transAxes, ha='left', va='top')\n",
    "\n",
    "    fig.savefig(\"../images/FeH_metallicity_profiles/included_gas.pdf\")\n",
    "\n",
    "plt.close(fig)"
   ]
  }
 ],
 "metadata": {
  "kernelspec": {
   "display_name": "Python 3",
   "language": "python",
   "name": "python3"
  },
  "language_info": {
   "codemirror_mode": {
    "name": "ipython",
    "version": 3
   },
   "file_extension": ".py",
   "mimetype": "text/x-python",
   "name": "python",
   "nbconvert_exporter": "python",
   "pygments_lexer": "ipython3",
   "version": "3.7.3"
  },
  "orig_nbformat": 4
 },
 "nbformat": 4,
 "nbformat_minor": 2
}
