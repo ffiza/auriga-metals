{
 "cells": [
  {
   "attachments": {},
   "cell_type": "markdown",
   "metadata": {},
   "source": [
    "# Stellar Tracking by Component"
   ]
  },
  {
   "cell_type": "markdown",
   "metadata": {},
   "source": [
    "### Header"
   ]
  },
  {
   "cell_type": "code",
   "execution_count": 25,
   "metadata": {},
   "outputs": [],
   "source": [
    "import matplotlib.pyplot as plt\n",
    "import pandas as pd\n",
    "import os\n",
    "from multiprocessing import Pool"
   ]
  },
  {
   "cell_type": "code",
   "execution_count": 26,
   "metadata": {},
   "outputs": [],
   "source": [
    "os.environ[\"MKL_NUM_THREADS\"] = \"1\"\n",
    "os.environ[\"NUMEXPR_NUM_THREADS\"] = \"1\"\n",
    "os.environ[\"OMP_NUM_THREADS\"] = \"1\"\n",
    "import numpy as np"
   ]
  },
  {
   "cell_type": "code",
   "execution_count": 27,
   "metadata": {},
   "outputs": [],
   "source": [
    "from auriga.snapshot import Snapshot\n",
    "from auriga.images import figure_setup, set_axs_configuration\n",
    "from auriga.settings import Settings\n",
    "from auriga.parser import parse"
   ]
  },
  {
   "cell_type": "code",
   "execution_count": 6,
   "metadata": {},
   "outputs": [],
   "source": [
    "figure_setup()\n",
    "settings = Settings()"
   ]
  },
  {
   "cell_type": "markdown",
   "metadata": {},
   "source": [
    "### Constants"
   ]
  },
  {
   "cell_type": "code",
   "execution_count": 7,
   "metadata": {},
   "outputs": [],
   "source": [
    "DISC_STD_CIRC = settings.disc_std_circ\n",
    "DISC_MIN_CIRC = settings.disc_min_circ\n",
    "COLD_DISC_DELTA_CIRC = settings.cold_disc_delta_circ\n",
    "BULGE_MAX_SPECIFIC_ENERGY = -0.6\n",
    "SUFFIX = \"_02\""
   ]
  },
  {
   "cell_type": "markdown",
   "metadata": {},
   "source": [
    "### Methods"
   ]
  },
  {
   "cell_type": "code",
   "execution_count": 8,
   "metadata": {},
   "outputs": [],
   "source": [
    "def get_ids_by_component(simulation: str) -> pd.DataFrame:\n",
    "    \"\"\"\n",
    "    Return a DataFrame with data of interest.\n",
    "    \"\"\"\n",
    "    settings = Settings()\n",
    "\n",
    "    s = Snapshot(simulation=simulation, loadonlytype=[0, 1, 2, 3, 4, 5])\n",
    "    s.tag_particles_by_region(\n",
    "        disc_std_circ=DISC_STD_CIRC,\n",
    "        disc_min_circ=DISC_MIN_CIRC,\n",
    "        cold_disc_delta_circ=COLD_DISC_DELTA_CIRC,\n",
    "        bulge_max_specific_energy=BULGE_MAX_SPECIFIC_ENERGY)\n",
    "\n",
    "    is_real_star = (s.type == 4) & (s.stellar_formation_time > 0)\n",
    "    is_main_obj = (s.halo == s.halo_idx) & (s.subhalo == s.subhalo_idx)\n",
    "\n",
    "    ids = {}\n",
    "    for component in settings.components:\n",
    "        is_component = s.region_tag == settings.component_tags[component]\n",
    "        ids[component] = s.ids[is_component]\n",
    "\n",
    "    return ids"
   ]
  },
  {
   "cell_type": "code",
   "execution_count": 38,
   "metadata": {},
   "outputs": [],
   "source": [
    "def get_temporal_evolution_of_stellar_fraction(\n",
    "    simulation: str) -> pd.DataFrame:\n",
    "\n",
    "    # Get IDs of stars by component at z=0\n",
    "    ids = get_ids_by_component(f\"{simulation}_s127\")\n",
    "\n",
    "    # Get temporal evolution of the stellar fraction\n",
    "    columns = [f\"{c1}_{c2}\" for c1 in settings.components \\\n",
    "        for c2 in settings.components]\n",
    "    df = pd.DataFrame(np.nan * np.ones((128, 16)))\n",
    "    df = df.set_axis(columns, axis=1)\n",
    "\n",
    "    # Add time to dataframe\n",
    "    temporal_data = pd.read_csv(f\"../results/{simulation}/temporal_data.csv\")\n",
    "    df[\"Time_Gyr\"] = temporal_data[\"Time_Gyr\"]\n",
    "\n",
    "    for i in range(settings.first_snap, 127 + 1):\n",
    "        this_ids = get_ids_by_component(f\"{simulation}_s{i}\")\n",
    "        for j, c1 in enumerate(settings.components):\n",
    "            n_comp = len(ids[c1])\n",
    "            for k, c2 in enumerate(settings.components):\n",
    "                frac = len(set(ids[c1]).intersection(\n",
    "                    set(this_ids[c2]))) / n_comp\n",
    "                df.loc[i, f\"{c1}_{c2}\"] = frac\n",
    "    \n",
    "    df.to_csv(f\"../results/{simulation}/stellar_tracking{SUFFIX}.csv\")\n",
    "    return df"
   ]
  },
  {
   "cell_type": "markdown",
   "metadata": {},
   "source": [
    "### Analyse Data"
   ]
  },
  {
   "cell_type": "code",
   "execution_count": 39,
   "metadata": {},
   "outputs": [],
   "source": [
    "SIMULATIONS = [f\"au{i}_or_l4\" for i in settings.groups[\"Included\"]]\n",
    "Pool().map(get_temporal_evolution_of_stellar_fraction, SIMULATIONS)"
   ]
  },
  {
   "cell_type": "markdown",
   "metadata": {},
   "source": [
    "### Plot of the Temporal Evolution of Stellar Tracking"
   ]
  },
  {
   "cell_type": "code",
   "execution_count": 36,
   "metadata": {},
   "outputs": [],
   "source": [
    "SIMULATIONS = [\"au6_or_l4\"]\n",
    "for SIMULATION in SIMULATIONS:\n",
    "    df = pd.read_csv(f\"../results/{SIMULATION}/stellar_tracking{SUFFIX}.csv\")\n",
    "\n",
    "    fig = plt.figure(figsize=(7.4, 2.0))\n",
    "    gs = fig.add_gridspec(nrows=1, ncols=4, hspace=0.0, wspace=0.0)\n",
    "    axs = gs.subplots(sharex=True, sharey=True)\n",
    "\n",
    "    for ax in axs.flat:\n",
    "        ax.tick_params(which='both', direction=\"in\")\n",
    "        ax.set_xlim(0, 14)\n",
    "        ax.set_ylim(0, 1)\n",
    "        ax.set_xticks([2, 4, 6, 8, 10, 12])\n",
    "        ax.set_yticks([0, 0.2, 0.4, 0.6, 0.8, 1.0])\n",
    "        ax.set_xlabel('Time [Gyr]')\n",
    "        ax.set_ylabel(r\"$f_\\star$\")\n",
    "        ax.grid(True, ls='-', lw=0.25, c=\"gainsboro\")\n",
    "        ax.label_outer()\n",
    "\n",
    "    for i, c1 in enumerate(settings.components):\n",
    "        axs[i].text(\n",
    "            x=0.05, y=1.02, size=8.0, ha=\"left\", va=\"bottom\",\n",
    "            s=r\"$\\textbf{\" \\\n",
    "                + list(settings.component_labels.values())[i] + \"}$\",\n",
    "            c=list(settings.component_colors.values())[i],\n",
    "            transform=axs[i].transAxes)\n",
    "        for j, c2 in enumerate(settings.components):\n",
    "            axs[i].plot(\n",
    "                df[\"Time_Gyr\"], df[f\"{c1}_{c2}\"], zorder=12,\n",
    "                c=settings.component_colors[c2], lw=1.5,\n",
    "                label=settings.component_labels[c2])\n",
    "        no_comp = 1 - df[f\"{c1}_H\"] - df[f\"{c1}_B\"] \\\n",
    "            - df[f\"{c1}_WD\"] - df[f\"{c1}_CD\"]\n",
    "        axs[i].plot(\n",
    "            df[\"Time_Gyr\"], no_comp, zorder=12, c=\"black\", lw=1.5)\n",
    "\n",
    "    axs[2].legend(loc=\"center left\", framealpha=0, fontsize=6,\n",
    "                  bbox_to_anchor=(0.01, 0.5))\n",
    "\n",
    "    axs[0].text(\n",
    "        x=0.95, y=1.02, size=8.0,\n",
    "        s=r\"$\\texttt{\" + f\"Au{parse(SIMULATION)[0]}\" + \"}$\",\n",
    "        ha=\"right\", va=\"bottom\", transform=axs[0].transAxes)\n",
    "\n",
    "    fig.savefig(\n",
    "        f\"../images/stellar_tracking/{SIMULATION}{SUFFIX}.pdf\")\n",
    "    plt.close(fig)"
   ]
  }
 ],
 "metadata": {
  "kernelspec": {
   "display_name": "Python 3",
   "language": "python",
   "name": "python3"
  },
  "language_info": {
   "codemirror_mode": {
    "name": "ipython",
    "version": 3
   },
   "file_extension": ".py",
   "mimetype": "text/x-python",
   "name": "python",
   "nbconvert_exporter": "python",
   "pygments_lexer": "ipython3",
   "version": "3.7.3"
  },
  "orig_nbformat": 4
 },
 "nbformat": 4,
 "nbformat_minor": 2
}
