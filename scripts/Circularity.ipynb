{
 "cells": [
  {
   "attachments": {},
   "cell_type": "markdown",
   "metadata": {},
   "source": [
    "# Circularity"
   ]
  },
  {
   "cell_type": "code",
   "execution_count": 7,
   "metadata": {},
   "outputs": [],
   "source": [
    "from matplotlib import pyplot as plt\n",
    "import numpy as np\n",
    "from auriga.images import figure_setup, set_axs_configuration\n",
    "from auriga.snapshot import Snapshot\n",
    "from auriga.settings import Settings"
   ]
  },
  {
   "cell_type": "code",
   "execution_count": 2,
   "metadata": {},
   "outputs": [],
   "source": [
    "figure_setup()"
   ]
  },
  {
   "cell_type": "code",
   "execution_count": 3,
   "metadata": {},
   "outputs": [],
   "source": [
    "def load_subhalo_star_circ(simulation: str) -> np.ndarray:\n",
    "    \"\"\"\n",
    "    This method returns the circularity of the stars in the main subhalo for\n",
    "    a given simulation.\n",
    "\n",
    "    Parameters\n",
    "    ----------\n",
    "    simulation : str\n",
    "        The simulation to load.\n",
    "\n",
    "    Returns\n",
    "    -------\n",
    "    np.ndarray\n",
    "        The circularity.\n",
    "    \"\"\"\n",
    "    s = Snapshot(simulation=simulation, loadonlytype=[0, 1, 2, 3, 4, 5])\n",
    "    s.add_circularity()\n",
    "    return s.circularity[(s.type == 4) \\\n",
    "        & (s.halo == s.halo_idx) & (s.subhalo == s.subhalo_idx)]"
   ]
  },
  {
   "cell_type": "code",
   "execution_count": 4,
   "metadata": {},
   "outputs": [],
   "source": [
    "def add_panel_for_galaxy(simulation: str, ax: plt.Axes):\n",
    "    \"\"\"\n",
    "    This method adds a panel with the results for a given simulation.\n",
    "\n",
    "    Parameters\n",
    "    ----------\n",
    "    simulation : str\n",
    "        The simulation.\n",
    "    ax : plt.Axes\n",
    "        The ax to which to add the plot.\n",
    "    \"\"\"\n",
    "\n",
    "    circularity = load_subhalo_star_circ(simulation=simulation)\n",
    "    ax.hist(x=circularity,\n",
    "            bins=150,\n",
    "            range=(-2.0, 2.0),\n",
    "            histtype=\"step\",\n",
    "            density=True,\n",
    "            label=r\"$\\texttt{\" + simulation.upper() + \"}$\")\n",
    "    ax.text(x=0.05,\n",
    "            y=0.95,\n",
    "            s=r\"$\\texttt{\" + simulation.upper() + \"}$\",\n",
    "            size=6.0, transform=ax.transAxes,\n",
    "            ha='left', va='top',\n",
    "            )"
   ]
  },
  {
   "cell_type": "code",
   "execution_count": 9,
   "metadata": {},
   "outputs": [],
   "source": [
    "def plot_age_metal_rel_for_sample(simulations: list,\n",
    "                                  filename: str):\n",
    "    \"\"\"\n",
    "    This method creates a plot of the circularity distribution for the\n",
    "    stars in the main object.\n",
    "\n",
    "    Parameters\n",
    "    ----------\n",
    "    simulations : str\n",
    "        A list of simulations to plot.\n",
    "    filename : str\n",
    "        The name of the output file.\n",
    "    \"\"\"\n",
    "\n",
    "    n_simulations = len(simulations)\n",
    "\n",
    "    fig = plt.figure(figsize=(7.2, 7.2))\n",
    "    gs = fig.add_gridspec(nrows=6, ncols=5, hspace=0.0, wspace=0.0)\n",
    "    axs = gs.subplots(sharex=True, sharey=True)\n",
    "\n",
    "    set_axs_configuration(\n",
    "        xlim=(-2, 2), ylim=(0, 2),\n",
    "        xticks=[-1, 0, 1], yticks=[0, 0.5, 1, 1.5],\n",
    "        xlabel=\"$\\epsilon$\", ylabel=\"PDF\",\n",
    "        axs=axs, n_used=n_simulations)\n",
    "\n",
    "    for idx, ax in enumerate(axs.flat):\n",
    "        ax.grid(True, ls='-', lw=0.25, c='silver')\n",
    "        if idx < n_simulations:\n",
    "            add_panel_for_galaxy(simulations[idx], ax=ax)\n",
    "        else:\n",
    "            ax.axis(\"off\")\n",
    "\n",
    "    for ext in [\"pdf\", \"png\"]:\n",
    "        fig.savefig(f\"../images/circularity/{filename}.{ext}\")\n",
    "    plt.close(fig)"
   ]
  },
  {
   "cell_type": "code",
   "execution_count": 8,
   "metadata": {},
   "outputs": [],
   "source": [
    "# Create plots for all galaxies in two figures\n",
    "settings = Settings()\n",
    "originals = [f\"au{i}_or_l4_s127\" for i in settings.galaxies]\n",
    "reruns = [f\"au{i}_re_l4_s251\" for i in settings.reruns]\n",
    "plot_age_metal_rel_for_sample(simulations=originals,\n",
    "                              filename=\"originals_s127\")\n",
    "plot_age_metal_rel_for_sample(simulations=reruns,\n",
    "                              filename=\"reruns_s251\")"
   ]
  }
 ],
 "metadata": {
  "kernelspec": {
   "display_name": "Python 3",
   "language": "python",
   "name": "python3"
  },
  "language_info": {
   "codemirror_mode": {
    "name": "ipython",
    "version": 3
   },
   "file_extension": ".py",
   "mimetype": "text/x-python",
   "name": "python",
   "nbconvert_exporter": "python",
   "pygments_lexer": "ipython3",
   "version": "3.7.3"
  },
  "orig_nbformat": 4
 },
 "nbformat": 4,
 "nbformat_minor": 2
}
