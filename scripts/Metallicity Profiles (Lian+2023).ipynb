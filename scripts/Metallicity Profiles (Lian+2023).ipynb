{
 "cells": [
  {
   "attachments": {},
   "cell_type": "markdown",
   "metadata": {},
   "source": [
    "# Comparison Auriga-MW [Fe/H] Profiles"
   ]
  },
  {
   "cell_type": "code",
   "execution_count": 13,
   "metadata": {},
   "outputs": [],
   "source": [
    "from matplotlib import pyplot as plt\n",
    "import matplotlib.colors as mcolors\n",
    "import numpy as np\n",
    "import pandas as pd\n",
    "from scipy.stats import binned_statistic"
   ]
  },
  {
   "cell_type": "code",
   "execution_count": 14,
   "metadata": {},
   "outputs": [],
   "source": [
    "from auriga.snapshot import Snapshot\n",
    "from auriga.images import figure_setup, set_axs_configuration\n",
    "from auriga.settings import Settings\n",
    "from auriga.parser import parse\n",
    "from auriga.physics import Physics"
   ]
  },
  {
   "cell_type": "code",
   "execution_count": 15,
   "metadata": {},
   "outputs": [],
   "source": [
    "figure_setup()\n",
    "settings = Settings()"
   ]
  },
  {
   "cell_type": "code",
   "execution_count": 16,
   "metadata": {},
   "outputs": [],
   "source": [
    "r_xy_range = (0, 16)\n",
    "n_bins = np.diff(r_xy_range)"
   ]
  },
  {
   "cell_type": "code",
   "execution_count": 17,
   "metadata": {},
   "outputs": [],
   "source": [
    "def read_snapshot_data(simulation: str, of: str, to: str, band: str) -> tuple:\n",
    "    \"\"\"\n",
    "    This method returns data of interest for this analysis.\n",
    "\n",
    "    Parameters\n",
    "    ----------\n",
    "    simulation : str\n",
    "        The simulation to consider.\n",
    "    of : str\n",
    "        The metal of which to calculate the metallicity.\n",
    "    to : str\n",
    "        The metal to which to calculate the metallicity.\n",
    "    band : str\n",
    "        The optical band for the luminosity calculation.\n",
    "\n",
    "    Returns\n",
    "    -------\n",
    "    pd.DataFrame\n",
    "        A data frame with the properties.\n",
    "    \"\"\"\n",
    "\n",
    "    settings = Settings()\n",
    "\n",
    "    s = Snapshot(simulation=simulation, loadonlytype=[4])\n",
    "    s.add_extra_coordinates()\n",
    "    s.add_metal_abundance(of=of, to=to)\n",
    "    s.add_stellar_age()\n",
    "    s.add_stellar_photometrics()\n",
    "    s.add_luminosities(band=band)\n",
    "\n",
    "    is_real_star = (s.type == 4) & (s.stellar_formation_time > 0)\n",
    "    is_main_obj = (s.halo == s.halo_idx) & (s.subhalo == s.subhalo_idx)\n",
    "\n",
    "    df = pd.DataFrame()\n",
    "    df[f\"[{of}/{to}]\"] = s.metal_abundance[f\"{of}/{to}\"][\n",
    "        is_real_star & is_main_obj]\n",
    "    df[\"r_xy\"] = s.rho[is_real_star & is_main_obj]\n",
    "    df[\"StellarAge\"] = s.stellar_age[is_real_star & is_main_obj]\n",
    "    df[\"Luminosity_W\"] = s.stellar_luminosities[is_real_star & is_main_obj]\n",
    "\n",
    "    return df"
   ]
  },
  {
   "cell_type": "code",
   "execution_count": 18,
   "metadata": {},
   "outputs": [],
   "source": [
    "def calc_mean_stat(x, y, weights = None):\n",
    "    if weights is None:\n",
    "        weights = np.ones(x.shape)\n",
    "\n",
    "    num = binned_statistic(x=x, values=y * weights,\n",
    "        statistic=\"sum\", bins=n_bins, range=r_xy_range)[0]\n",
    "    den = binned_statistic(x=x, values=weights,\n",
    "        statistic=\"sum\", bins=n_bins, range=r_xy_range)[0]\n",
    "    mean = num / den\n",
    "\n",
    "    std, bin_edges, _ = binned_statistic(\n",
    "        x=x, values=y, statistic=\"std\", bins=n_bins, range=r_xy_range)\n",
    "    count, _, _ = binned_statistic(\n",
    "        x=x, values=y, statistic=\"count\", bins=n_bins, range=r_xy_range)\n",
    "    err = std / np.sqrt(count)\n",
    "\n",
    "    bin_centers = bin_edges[1:] - np.diff(bin_edges)[0] / 2\n",
    "    return bin_centers, mean, err"
   ]
  },
  {
   "cell_type": "code",
   "execution_count": 19,
   "metadata": {},
   "outputs": [],
   "source": [
    "def read_experimental_data():\n",
    "    df = pd.read_csv(\"../data/lian_2023/MW_Z_prof.txt\", delimiter=' ')\n",
    "    return df"
   ]
  },
  {
   "cell_type": "code",
   "execution_count": 20,
   "metadata": {},
   "outputs": [],
   "source": [
    "def read_sample_data(galaxies: list, band: str) -> pd.DataFrame:\n",
    "    df = pd.DataFrame()\n",
    "    for galaxy in settings.galaxies:\n",
    "        gdf = read_snapshot_data(simulation=f\"au{galaxy}_or_l4_s127\",\n",
    "                                 of=\"Fe\", to='H', band=band)\n",
    "        bin_centers, mean, _ = calc_mean_stat(\n",
    "            x=gdf[\"r_xy\"][np.isfinite(gdf[\"[Fe/H]\"])],\n",
    "            y=gdf[\"[Fe/H]\"][np.isfinite(gdf[\"[Fe/H]\"])],\n",
    "            weights=gdf[\"Luminosity_W\"][np.isfinite(gdf[\"[Fe/H]\"])])\n",
    "        df[f\"MeanFeH_Au{galaxy}\"] = mean\n",
    "    df[\"BinCenters_ckpc\"] = bin_centers\n",
    "    return df"
   ]
  },
  {
   "cell_type": "code",
   "execution_count": 21,
   "metadata": {},
   "outputs": [],
   "source": [
    "df = read_sample_data([f\"au{i}_or_l4_s127\" for i in settings.galaxies],\n",
    "                      band='r')\n",
    "df_exp = read_experimental_data()"
   ]
  },
  {
   "cell_type": "code",
   "execution_count": 22,
   "metadata": {},
   "outputs": [],
   "source": [
    "fig, ax = plt.subplots(figsize=(2.5, 2.5))\n",
    "\n",
    "ax.set_xlim(0, 16)\n",
    "ax.set_ylim(-0.6, 0.6)\n",
    "ax.set_xlabel(r\"$r_{xy}$ [ckpc]\")\n",
    "ax.set_ylabel(r\"$\\left< \\mathrm{[Fe/H]} \\right>$\")\n",
    "\n",
    "ax.grid(True, ls='-', lw=0.25, c='silver')\n",
    "\n",
    "# Weighted profile for all galaxies\n",
    "for galaxy in settings.galaxies:\n",
    "    ax.plot(df[\"BinCenters_ckpc\"], df[f\"MeanFeH_Au{galaxy}\"],\n",
    "            lw=0.7, zorder=10, c=\"gainsboro\", ls='-')\n",
    "\n",
    "ax.plot(df[\"BinCenters_ckpc\"], df[f\"MeanFeH_Au2\"],\n",
    "        lw=1.0, zorder=10, c=\"tab:green\", ls='-',\n",
    "        label=r\"$\\texttt{\" + f\"au2_or_l4_s127\".upper() + \"}$\")\n",
    "ax.plot(df[\"BinCenters_ckpc\"], df[f\"MeanFeH_Au6\"],\n",
    "        lw=1.0, zorder=10, c=\"tab:blue\", ls='-',\n",
    "        label=r\"$\\texttt{\" + f\"au6_or_l4_s127\".upper() + \"}$\")\n",
    "\n",
    "# Experimental data\n",
    "ax.errorbar(df_exp[\"radius\"], df_exp[\"total\"], yerr=df_exp[\"total_err\"],\n",
    "            fmt=\"-o\", capthick=0, color=\"tab:red\", markersize=2.5,\n",
    "            markeredgecolor=\"tab:red\", zorder=10, label=\"Lian+2023\",\n",
    "            lw=0.7)\n",
    "\n",
    "ax.legend(loc=\"lower left\", framealpha=0.0, fontsize=8.0)\n",
    "\n",
    "fig.savefig(f\"../images/metallicity_profiles/mw_comparison/profiles.pdf\")\n",
    "plt.close(fig)"
   ]
  },
  {
   "cell_type": "code",
   "execution_count": 23,
   "metadata": {},
   "outputs": [],
   "source": [
    "dfg = pd.read_csv(\"../data/grand_2017.csv\")\n",
    "mw_effective_radius_min = 3.4\n",
    "mw_effective_radius_max = 6.7"
   ]
  },
  {
   "cell_type": "code",
   "execution_count": 24,
   "metadata": {},
   "outputs": [],
   "source": [
    "fig, ax = plt.subplots(figsize=(2.5, 2.5))\n",
    "\n",
    "ax.set_xlim(0, 5)\n",
    "ax.set_ylim(-0.6, 0.6)\n",
    "ax.set_xlabel(r\"$r_{xy}$ [$R_\\mathrm{eff}$]\")\n",
    "ax.set_ylabel(r\"$\\left< \\mathrm{[Fe/H]} \\right>$\")\n",
    "\n",
    "ax.grid(True, ls='-', lw=0.25, c='silver')\n",
    "\n",
    "# Weighted profile for all galaxies\n",
    "for galaxy in settings.galaxies:\n",
    "    effective_radius = float(dfg[\n",
    "        \"RadialScalelength_kpc\"][dfg[\"Run\"] == f\"Au{galaxy}_L4\"])\n",
    "    ax.plot(df[\"BinCenters_ckpc\"] / effective_radius,\n",
    "            df[f\"MeanFeH_Au{galaxy}\"],\n",
    "            lw=0.7, zorder=10, c=\"gainsboro\", ls='-')\n",
    "\n",
    "ax.plot(df[\"BinCenters_ckpc\"] / float(dfg[\n",
    "        \"RadialScalelength_kpc\"][dfg[\"Run\"] == \"Au2_L4\"]),\n",
    "        df[f\"MeanFeH_Au2\"],\n",
    "        lw=1.0, zorder=10, c=\"tab:green\", ls='-',\n",
    "        label=r\"$\\texttt{\" + f\"au2_or_l4_s127\".upper() + \"}$\")\n",
    "ax.plot(df[\"BinCenters_ckpc\"] / float(dfg[\n",
    "        \"RadialScalelength_kpc\"][dfg[\"Run\"] == \"Au6_L4\"]),\n",
    "        df[f\"MeanFeH_Au6\"],\n",
    "        lw=1.0, zorder=10, c=\"tab:blue\", ls='-',\n",
    "        label=r\"$\\texttt{\" + f\"au6_or_l4_s127\".upper() + \"}$\")\n",
    "\n",
    "# Experimental data\n",
    "ax.errorbar(df_exp[\"radius\"] / mw_effective_radius_min, df_exp[\"total\"],\n",
    "            yerr=df_exp[\"total_err\"],\n",
    "            fmt=\"-o\", capthick=0, color=\"tab:red\", markersize=2.5,\n",
    "            markeredgecolor=\"tab:red\", zorder=10, label=\"Lian+2023\",\n",
    "            lw=0.7)\n",
    "ax.errorbar(df_exp[\"radius\"] / mw_effective_radius_max, df_exp[\"total\"],\n",
    "            yerr=df_exp[\"total_err\"],\n",
    "            fmt=\"-o\", capthick=0, color=\"tab:red\", markersize=2.5,\n",
    "            markeredgecolor=\"tab:red\", zorder=10, lw=0.7)\n",
    "\n",
    "ax.legend(loc=\"upper right\", framealpha=0.0, fontsize=8.0)\n",
    "\n",
    "fig.savefig(\n",
    "    f\"../images/metallicity_profiles/mw_comparison/profiles_eff_radius.pdf\")\n",
    "plt.close(fig)"
   ]
  }
 ],
 "metadata": {
  "kernelspec": {
   "display_name": "Python 3",
   "language": "python",
   "name": "python3"
  },
  "language_info": {
   "codemirror_mode": {
    "name": "ipython",
    "version": 3
   },
   "file_extension": ".py",
   "mimetype": "text/x-python",
   "name": "python",
   "nbconvert_exporter": "python",
   "pygments_lexer": "ipython3",
   "version": "3.7.3"
  },
  "orig_nbformat": 4
 },
 "nbformat": 4,
 "nbformat_minor": 2
}
