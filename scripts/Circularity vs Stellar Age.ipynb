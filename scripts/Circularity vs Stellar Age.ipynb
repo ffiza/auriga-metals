{
 "cells": [
  {
   "attachments": {},
   "cell_type": "markdown",
   "metadata": {},
   "source": [
    "# Circularity vs Stellar Age"
   ]
  },
  {
   "cell_type": "code",
   "execution_count": 92,
   "metadata": {},
   "outputs": [],
   "source": [
    "import numpy as np\n",
    "import pandas as pd\n",
    "import matplotlib.pyplot as plt\n",
    "import matplotlib.colors as mcolors"
   ]
  },
  {
   "cell_type": "code",
   "execution_count": 93,
   "metadata": {},
   "outputs": [],
   "source": [
    "from auriga.images import figure_setup\n",
    "from auriga.snapshot import Snapshot\n",
    "from auriga.settings import Settings"
   ]
  },
  {
   "cell_type": "code",
   "execution_count": 94,
   "metadata": {},
   "outputs": [],
   "source": [
    "figure_setup()\n",
    "settings = Settings()"
   ]
  },
  {
   "cell_type": "markdown",
   "metadata": {},
   "source": [
    "#### Config"
   ]
  },
  {
   "cell_type": "code",
   "execution_count": 95,
   "metadata": {},
   "outputs": [],
   "source": [
    "N_BINS = 200\n",
    "MIN_PART_COUNT = 1E1\n",
    "MAX_PART_COUNT = 1E3"
   ]
  },
  {
   "cell_type": "markdown",
   "metadata": {},
   "source": [
    "#### `read_data`"
   ]
  },
  {
   "cell_type": "code",
   "execution_count": 96,
   "metadata": {},
   "outputs": [],
   "source": [
    "def read_data(simulation: str) -> np.ndarray:\n",
    "    \"\"\"\n",
    "    This method returns a data frame with the circularity (`Circularity`) and\n",
    "    the stellar age in Gyr (`StellarAge_Gyr`) for each star. Note that\n",
    "    `StellarAge_Gyr` is the stellar age and not the formation time.\n",
    "\n",
    "    Parameters\n",
    "    ----------\n",
    "    simulation : str\n",
    "        The simulation to load.\n",
    "\n",
    "    Returns\n",
    "    -------\n",
    "    data : pd.DataFrame\n",
    "        The data frame.\n",
    "    \"\"\"\n",
    "    s = Snapshot(simulation=simulation, loadonlytype=[0, 1, 2, 3, 4, 5])\n",
    "    s.add_circularity()\n",
    "    s.add_stellar_age()\n",
    "\n",
    "    is_real_star = (s.type == 4) & (s.stellar_formation_time > 0)\n",
    "    is_main_obj = (s.halo == s.halo_idx) & (s.subhalo == s.subhalo_idx)\n",
    "\n",
    "    data = pd.DataFrame({\n",
    "        \"Circularity\": s.circularity[is_real_star & is_main_obj],\n",
    "        \"StellarAge_Gyr\": s.stellar_age[is_real_star & is_main_obj]\n",
    "    })\n",
    "\n",
    "    return data"
   ]
  },
  {
   "cell_type": "markdown",
   "metadata": {},
   "source": [
    "#### Figures"
   ]
  },
  {
   "cell_type": "code",
   "execution_count": 97,
   "metadata": {},
   "outputs": [],
   "source": [
    "def plot_map_for_sample() -> None:\n",
    "    fig = plt.figure(figsize=(7, 8))\n",
    "    gs = fig.add_gridspec(nrows=6, ncols=4, hspace=0.0, wspace=0.0)\n",
    "    axs = gs.subplots(sharex=True, sharey=True)\n",
    "\n",
    "    for ax in axs.flatten():\n",
    "        ax.tick_params(which='both', direction=\"in\")\n",
    "        if ax == axs[-1, -1]: ax.axis(\"off\")\n",
    "        ax.set_xlim(0, 14)\n",
    "        ax.set_xticks([2, 4, 6, 8, 10, 12])\n",
    "        ax.set_ylim(-1.4, 1.4)\n",
    "        ax.set_yticks([-1, -0.5, 0, 0.5, 1.0])\n",
    "        ax.set_axisbelow(True)\n",
    "        if ax.get_subplotspec().is_last_row() or ax == axs[-2, -1]:\n",
    "            ax.set_xlabel(\"Stellar Age [Gyr]\")\n",
    "            ax.tick_params(labelbottom=True)\n",
    "        if ax.get_subplotspec().is_first_col():\n",
    "            ax.set_ylabel(r'$\\epsilon = j_z \\, j_\\mathrm{circ}^{-1}$')\n",
    "\n",
    "    for i in range(len(settings.groups[\"Included\"])):\n",
    "        ax = axs.flatten()[i]\n",
    "        galaxy = settings.groups[\"Included\"][i]\n",
    "        label = f\"Au{galaxy}\"\n",
    "        simulation = f\"au{galaxy}_or_l4_s127\"\n",
    "        df = read_data(simulation=simulation)\n",
    "        _, _, _, qm = ax.hist2d(\n",
    "            df[\"StellarAge_Gyr\"], df[\"Circularity\"],\n",
    "            cmap='nipy_spectral',\n",
    "            bins=N_BINS,\n",
    "            range=[ax.get_xlim(), ax.get_ylim()],\n",
    "            norm=mcolors.LogNorm(vmin=MIN_PART_COUNT, vmax=MAX_PART_COUNT),\n",
    "            rasterized=True)\n",
    "\n",
    "        ax.text(x=0.05, y=0.95, s=r\"$\\texttt{\" + label + \"}$\", color=\"black\",\n",
    "                size=6.0, transform=ax.transAxes, ha='left', va='top')\n",
    "\n",
    "        if galaxy == 2:\n",
    "            cbar = plt.colorbar(qm, ax=axs.flatten()[-1], shrink=0.8,\n",
    "                                location=\"bottom\", pad=3)\n",
    "            cbar.set_ticks([1E1, 1E2, 1E3])\n",
    "            cbar.set_label(f\"$N_\\star$\")\n",
    "\n",
    "        fig.savefig(\"../images/circularity_vs_stellar_age/included.pdf\")\n",
    "\n",
    "    plt.close(fig)"
   ]
  },
  {
   "cell_type": "code",
   "execution_count": 98,
   "metadata": {},
   "outputs": [],
   "source": [
    "plot_map_for_sample()"
   ]
  }
 ],
 "metadata": {
  "kernelspec": {
   "display_name": "Python 3",
   "language": "python",
   "name": "python3"
  },
  "language_info": {
   "codemirror_mode": {
    "name": "ipython",
    "version": 3
   },
   "file_extension": ".py",
   "mimetype": "text/x-python",
   "name": "python",
   "nbconvert_exporter": "python",
   "pygments_lexer": "ipython3",
   "version": "3.7.3"
  },
  "orig_nbformat": 4
 },
 "nbformat": 4,
 "nbformat_minor": 2
}
