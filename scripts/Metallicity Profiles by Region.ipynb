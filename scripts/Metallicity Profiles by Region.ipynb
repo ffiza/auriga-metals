{
 "cells": [
  {
   "attachments": {},
   "cell_type": "markdown",
   "metadata": {},
   "source": [
    "# Stellar Metallicity Profiles"
   ]
  },
  {
   "cell_type": "code",
   "execution_count": 85,
   "metadata": {},
   "outputs": [],
   "source": [
    "from multiprocessing import Pool\n",
    "import os\n",
    "os.environ[\"MKL_NUM_THREADS\"] = \"1\"\n",
    "os.environ[\"NUMEXPR_NUM_THREADS\"] = \"1\"\n",
    "os.environ[\"OMP_NUM_THREADS\"] = \"1\"\n",
    "from matplotlib import pyplot as plt\n",
    "import matplotlib.colors as mcolors\n",
    "import numpy as np\n",
    "import pandas as pd\n",
    "from scipy.stats import binned_statistic"
   ]
  },
  {
   "cell_type": "code",
   "execution_count": 86,
   "metadata": {},
   "outputs": [],
   "source": [
    "from auriga.snapshot import Snapshot\n",
    "from auriga.images import figure_setup, set_axs_configuration\n",
    "from auriga.settings import Settings\n",
    "from auriga.parser import parse"
   ]
  },
  {
   "cell_type": "code",
   "execution_count": 87,
   "metadata": {},
   "outputs": [],
   "source": [
    "figure_setup()\n",
    "settings = Settings()"
   ]
  },
  {
   "cell_type": "code",
   "execution_count": 88,
   "metadata": {},
   "outputs": [],
   "source": [
    "def read_data(simulation: str, of: str, to: str) -> tuple:\n",
    "    \"\"\"\n",
    "    This method returns data of interest for this analysis.\n",
    "\n",
    "    Parameters\n",
    "    ----------\n",
    "    simulation : str\n",
    "        The simulation to consider.\n",
    "\n",
    "    Returns\n",
    "    -------\n",
    "    pd.DataFrame\n",
    "        A data frame with the properties.\n",
    "    \"\"\"\n",
    "\n",
    "    settings = Settings()\n",
    "\n",
    "    s = Snapshot(simulation=simulation, loadonlytype=[0, 1, 2, 3, 4, 5])\n",
    "    s.tag_particles_by_region(\n",
    "        disc_std_circ=settings.disc_std_circ,\n",
    "        disc_min_circ=settings.disc_min_circ,\n",
    "        cold_disc_delta_circ=settings.cold_disc_delta_circ,\n",
    "        bulge_max_specific_energy=settings.bulge_max_specific_energy)\n",
    "    s.add_metal_abundance(of, to)\n",
    "\n",
    "    is_real_star = (s.type == 4) & (s.stellar_formation_time > 0)\n",
    "    is_main_obj = (s.halo == s.halo_idx) & (s.subhalo == s.subhalo_idx)\n",
    "\n",
    "    df = pd.DataFrame()\n",
    "    df[\"[Fe/H]\"] = s.metal_abundance[\"Fe/H\"][is_real_star & is_main_obj]\n",
    "    df[\"r_xy\"] = s.rho[is_real_star & is_main_obj]\n",
    "    df[\"RegTag\"] = s.region_tag[is_real_star & is_main_obj]\n",
    "\n",
    "    return df"
   ]
  },
  {
   "cell_type": "code",
   "execution_count": 89,
   "metadata": {},
   "outputs": [],
   "source": [
    "def process_data(simulation: int):\n",
    "    df = read_data(simulation=simulation, of=\"Fe\", to='H')\n",
    "    median_by_region = []\n",
    "    for tag in settings.component_tags.values():\n",
    "        is_region = (df[\"RegTag\"] == tag)\n",
    "        median, bin_edges, _ = binned_statistic(\n",
    "            x=df[\"r_xy\"][is_region & np.isfinite(df[\"[Fe/H]\"])],\n",
    "            values=df[\"[Fe/H]\"][is_region & np.isfinite(df[\"[Fe/H]\"])],\n",
    "            statistic=\"median\",\n",
    "            bins=n_bins,\n",
    "            range=x_range)\n",
    "        median_by_region.append(median)\n",
    "    bin_centers = bin_edges[1:] - np.diff(bin_edges)[0] / 2\n",
    "    return bin_centers, median_by_region"
   ]
  },
  {
   "cell_type": "code",
   "execution_count": 90,
   "metadata": {},
   "outputs": [],
   "source": [
    "def get_data_for_sample(simulations: list):\n",
    "    data = Pool().map(process_data, simulations)\n",
    "    df = pd.DataFrame()\n",
    "    df[\"BinCenters_kpc\"] = data[0][0]\n",
    "    for i in range(len(simulations)):\n",
    "        galaxy, _, _, _ = parse(simulations[i])\n",
    "        for j in range(len(data[0][1])):\n",
    "            df[f\"FeHProfile_Au{galaxy}_{settings.components[j]}\"] = \\\n",
    "                data[i][1][j]\n",
    "    return df"
   ]
  },
  {
   "cell_type": "code",
   "execution_count": 91,
   "metadata": {},
   "outputs": [],
   "source": [
    "n_bins = 199\n",
    "x_range = (1, 200)"
   ]
  },
  {
   "cell_type": "markdown",
   "metadata": {},
   "source": [
    "## Original Run"
   ]
  },
  {
   "cell_type": "markdown",
   "metadata": {},
   "source": [
    "### [Fe/H] Profiles for Sample"
   ]
  },
  {
   "cell_type": "code",
   "execution_count": 92,
   "metadata": {},
   "outputs": [
    {
     "name": "stderr",
     "output_type": "stream",
     "text": [
      "/u/fiza/conda-envs/auriga/lib/python3.7/site-packages/ipykernel_launcher.py:9: PerformanceWarning: DataFrame is highly fragmented.  This is usually the result of calling `frame.insert` many times, which has poor performance.  Consider joining all columns at once using pd.concat(axis=1) instead.  To get a de-fragmented frame, use `newframe = frame.copy()`\n",
      "  if __name__ == '__main__':\n"
     ]
    }
   ],
   "source": [
    "sample = [f\"au{i}_or_l4_s127\" for i in settings.galaxies]\n",
    "df = get_data_for_sample(simulations=sample)"
   ]
  },
  {
   "cell_type": "code",
   "execution_count": 94,
   "metadata": {},
   "outputs": [],
   "source": [
    "fig = plt.figure(figsize=(7.2, 7.2))\n",
    "gs = fig.add_gridspec(nrows=6, ncols=5, hspace=0.0, wspace=0.0)\n",
    "axs = gs.subplots(sharex=True, sharey=True)\n",
    "\n",
    "set_axs_configuration(\n",
    "    xlim=(1, 200), ylim=(-1.5, 1.5),\n",
    "    xticks=[1, 10, 100], yticks=[-1, -0.5, 0, 0.5, 1],\n",
    "    xlabel=r\"$r_{xy}$ [ckpc]\",\n",
    "    ylabel=r\"$\\mathrm{median} \\left( \\mathrm{[Fe/H]} \\right)$\",\n",
    "    axs=axs, n_used=len(sample),\n",
    "    xscale=\"log\", xticklabels=[1, 10, 100])\n",
    "\n",
    "for idx, ax in enumerate(axs.flat):\n",
    "    ax.grid(True, ls='-', lw=0.25, c='silver')\n",
    "    if idx < len(sample):\n",
    "        galaxy, _, _, _ = parse(sample[idx])\n",
    "        for tag in settings.component_tags.values():\n",
    "            ax.plot(\n",
    "                df[\"BinCenters_kpc\"],\n",
    "                df[f\"FeHProfile_Au{galaxy}_{settings.components[tag]}\"],\n",
    "                lw=1.0, zorder=10,\n",
    "                c=settings.component_colors[settings.components[tag]],\n",
    "                label=settings.component_labels[settings.components[tag]])\n",
    "        ax.text(x=0.95, y=0.95, size=6.0,\n",
    "                s=r\"$\\texttt{\" + f\"au{galaxy}_or_l4\".upper() + \"}$\",\n",
    "                ha=\"right\", va=\"top\", transform=ax.transAxes)\n",
    "    else:\n",
    "        ax.axis(\"off\")\n",
    "\n",
    "axs[0, 0].legend(loc=\"upper left\", framealpha=0.0, fontsize=4.0)\n",
    "\n",
    "for ax in axs.flatten():\n",
    "    ax.xaxis.label.set_size(8.0)\n",
    "    ax.yaxis.label.set_size(8.0)\n",
    "\n",
    "fig.savefig(f\"../images/metallicity_profiles/originals.pdf\")\n",
    "plt.close(fig)"
   ]
  },
  {
   "cell_type": "markdown",
   "metadata": {},
   "source": [
    "### Average [Fe/H] Profile"
   ]
  },
  {
   "cell_type": "code",
   "execution_count": 95,
   "metadata": {},
   "outputs": [],
   "source": [
    "averages = []\n",
    "for component in settings.components:\n",
    "    cols = [f\"FeHProfile_Au{galaxy}_{component}\" \\\n",
    "        for galaxy in settings.galaxies]\n",
    "    averages.append(df[cols].mean(axis=1))"
   ]
  },
  {
   "cell_type": "code",
   "execution_count": 96,
   "metadata": {},
   "outputs": [],
   "source": [
    "fig = plt.figure(figsize=(7.4, 2.0))\n",
    "gs = fig.add_gridspec(nrows=1, ncols=4, hspace=0.0, wspace=0.0)\n",
    "axs = gs.subplots(sharex=True, sharey=True)\n",
    "\n",
    "for ax in axs.flat:\n",
    "    ax.tick_params(which='both', direction=\"in\")\n",
    "    ax.set_xlim(x_range)\n",
    "    ax.set_xscale(\"log\")\n",
    "    ax.set_ylim(-1.5, 0.5)\n",
    "    ax.set_xticks([1, 10, 100])\n",
    "    ax.set_xticklabels([1, 10, 100])\n",
    "    ax.set_ylabel(r\"$\\left< \\mathrm{[Fe/H]} \\right>$\")\n",
    "    ax.set_xlabel(r\"$r_{xy}$ [ckpc]\")\n",
    "    ax.label_outer()\n",
    "\n",
    "for idx, component in enumerate(settings.components):\n",
    "    for galaxy in settings.galaxies:\n",
    "        axs[idx].plot(df[\"BinCenters_kpc\"],\n",
    "                      df[f\"FeHProfile_Au{galaxy}_{component}\"],\n",
    "                      lw=1.0, color=\"gainsboro\")\n",
    "    axs[idx].plot(df[\"BinCenters_kpc\"], averages[idx],\n",
    "                  lw=1.5, color=settings.component_colors[component])\n",
    "    axs[idx].text(x=0.05, y=0.05, size=8.0, ha='left', va='bottom',\n",
    "                  s=settings.component_labels[settings.components[idx]],\n",
    "                  transform=axs[idx].transAxes)\n",
    "\n",
    "fig.savefig(f\"../images/metallicity_profiles/originals_average.pdf\")\n",
    "plt.close(fig)"
   ]
  },
  {
   "cell_type": "markdown",
   "metadata": {},
   "source": [
    "## Reruns"
   ]
  },
  {
   "cell_type": "markdown",
   "metadata": {},
   "source": [
    "### [Fe/H] Profiles for Sample"
   ]
  },
  {
   "cell_type": "code",
   "execution_count": 97,
   "metadata": {},
   "outputs": [],
   "source": [
    "sample = [f\"au{i}_re_l4_s251\" for i in settings.reruns]\n",
    "df = get_data_for_sample(simulations=sample)"
   ]
  },
  {
   "cell_type": "code",
   "execution_count": null,
   "metadata": {},
   "outputs": [],
   "source": [
    "fig = plt.figure(figsize=(7.2, 7.2))\n",
    "gs = fig.add_gridspec(nrows=6, ncols=5, hspace=0.0, wspace=0.0)\n",
    "axs = gs.subplots(sharex=True, sharey=True)\n",
    "\n",
    "set_axs_configuration(\n",
    "    xlim=(1, 200), ylim=(-1.5, 1.5),\n",
    "    xticks=[1, 10, 100], yticks=[-1, -0.5, 0, 0.5, 1],\n",
    "    xlabel=r\"$r_{xy}$ [ckpc]\",\n",
    "    ylabel=r\"$\\mathrm{median} \\left( \\mathrm{[Fe/H]} \\right)$\",\n",
    "    axs=axs, n_used=len(sample),\n",
    "    xscale=\"log\", xticklabels=[1, 10, 100])\n",
    "\n",
    "for idx, ax in enumerate(axs.flat):\n",
    "    ax.grid(True, ls='-', lw=0.25, c='silver')\n",
    "    if idx < len(sample):\n",
    "        galaxy, _, _, _ = parse(sample[idx])\n",
    "        for tag in settings.component_tags.values():\n",
    "            ax.plot(\n",
    "                df[\"BinCenters_kpc\"],\n",
    "                df[f\"FeHProfile_Au{galaxy}_{settings.components[tag]}\"],\n",
    "                lw=1.0, zorder=10,\n",
    "                c=settings.component_colors[settings.components[tag]],\n",
    "                label=settings.component_labels[settings.components[tag]])\n",
    "        ax.text(x=0.95, y=0.95, size=6.0,\n",
    "                s=r\"$\\texttt{\" + f\"au{galaxy}_or_l4\".upper() + \"}$\",\n",
    "                ha=\"right\", va=\"top\", transform=ax.transAxes)\n",
    "    else:\n",
    "        ax.axis(\"off\")\n",
    "\n",
    "axs[0, 0].legend(loc=\"upper left\", framealpha=0.0, fontsize=4.0)\n",
    "\n",
    "for ax in axs.flatten():\n",
    "    ax.xaxis.label.set_size(8.0)\n",
    "    ax.yaxis.label.set_size(8.0)\n",
    "\n",
    "fig.savefig(f\"../images/metallicity_profiles/reruns.pdf\")\n",
    "plt.close(fig)"
   ]
  }
 ],
 "metadata": {
  "kernelspec": {
   "display_name": "Python 3",
   "language": "python",
   "name": "python3"
  },
  "language_info": {
   "codemirror_mode": {
    "name": "ipython",
    "version": 3
   },
   "file_extension": ".py",
   "mimetype": "text/x-python",
   "name": "python",
   "nbconvert_exporter": "python",
   "pygments_lexer": "ipython3",
   "version": "3.7.3"
  },
  "orig_nbformat": 4
 },
 "nbformat": 4,
 "nbformat_minor": 2
}
