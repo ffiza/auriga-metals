{
 "cells": [
  {
   "cell_type": "markdown",
   "metadata": {},
   "source": [
    "# Evolution of the gas metal abundance"
   ]
  },
  {
   "cell_type": "code",
   "execution_count": 5,
   "metadata": {},
   "outputs": [],
   "source": [
    "import numpy as np\n",
    "from scipy.stats import binned_statistic\n",
    "import pandas as pd\n",
    "import matplotlib.pyplot as plt\n",
    "from matplotlib.colors import LogNorm"
   ]
  },
  {
   "cell_type": "code",
   "execution_count": 1,
   "metadata": {},
   "outputs": [
    {
     "name": "stderr",
     "output_type": "stream",
     "text": [
      "/u/fiza/conda-envs/auriga/lib/python3.7/site-packages/setuptools/_importlib.py:23: UserWarning: `importlib-metadata` version is incompatible with `setuptools`.\n",
      "This problem is likely to be solved by installing an updated version of `importlib-metadata`.\n",
      "  warnings.warn(msg)  # Ensure a descriptive message is shown.\n"
     ]
    }
   ],
   "source": [
    "from auriga.snapshot import Snapshot\n",
    "from auriga.settings import Settings\n",
    "from auriga.paths import Paths\n",
    "from auriga.parser import parse\n",
    "from auriga.support import make_snapshot_number\n",
    "from auriga.images import figure_setup"
   ]
  },
  {
   "cell_type": "code",
   "execution_count": 2,
   "metadata": {},
   "outputs": [],
   "source": [
    "N_BINS_ABUNDANCE: int = 50\n",
    "N_BINS_TIME: int = 28"
   ]
  },
  {
   "cell_type": "code",
   "execution_count": 7,
   "metadata": {},
   "outputs": [],
   "source": [
    "def get_gas_abundances(simulation: str, of: str, to: str,\n",
    "                       max_radius: float) -> list:\n",
    "    s = Snapshot(simulation=simulation, loadonlytype=[0])\n",
    "    s.add_metal_abundance(of=of, to=to)\n",
    "    s.add_extra_coordinates()\n",
    "    is_main_obj = (s.halo == s.halo_idx) & (s.subhalo == s.subhalo_idx)\n",
    "    is_inner = s.rho <= max_radius\n",
    "    abundance = s.metal_abundance[f\"{of}/{to}\"][is_main_obj & is_inner]\n",
    "    abundance = abundance[np.isfinite(abundance)]\n",
    "    return list(abundance)"
   ]
  },
  {
   "cell_type": "code",
   "execution_count": 4,
   "metadata": {},
   "outputs": [],
   "source": [
    "def calculate_gas_abundance_evolution(\n",
    "        simulation: str, of: str, to: str,\n",
    "        abundance_min: float, abundance_max: float,\n",
    "        max_radius: float) -> None:\n",
    "    settings = Settings()\n",
    "    galaxy, rerun, resolution = parse(simulation)\n",
    "    paths = Paths(galaxy, rerun, resolution)\n",
    "    n_snapshots = make_snapshot_number(rerun, resolution)\n",
    "    snapshot_times = pd.read_csv(\n",
    "        f\"../results/{simulation}/temporal_data.csv\")[\"Time_Gyr\"]\n",
    "\n",
    "    accumulated_abundances = []\n",
    "    data = np.nan * np.ones((N_BINS_ABUNDANCE, N_BINS_TIME))\n",
    "    time_ref_idx = 0\n",
    "    for i in range(settings.first_snap, n_snapshots):\n",
    "        if snapshot_times[i] > (time_ref_idx + 1) * 0.5:\n",
    "            # Create histogram\n",
    "            binned_abundance = np.histogram(\n",
    "                accumulated_abundances, density=True,\n",
    "                range=(abundance_min, abundance_max),\n",
    "                bins=N_BINS_ABUNDANCE)[0]\n",
    "            data[:, time_ref_idx] = binned_abundance\n",
    "\n",
    "            # Reset loop variables\n",
    "            accumulated_abundances = []\n",
    "            time_ref_idx += 1\n",
    "        accumulated_abundances += get_gas_abundances(\n",
    "            simulation + f\"_s{i}\", of, to, max_radius)\n",
    "\n",
    "    np.save(f\"../results/{simulation}/gas_{of}{to}_abundance_evol.npy\", data)"
   ]
  },
  {
   "cell_type": "code",
   "execution_count": 34,
   "metadata": {},
   "outputs": [],
   "source": [
    "def make_plot(data: np.ndarray, xrange: tuple, yrange: tuple,\n",
    "              ylabel: str, label: str, filename: str):\n",
    "    fig = plt.figure(figsize=(3.0, 2.5))\n",
    "    gs = fig.add_gridspec(nrows=1, ncols=1, hspace=0.0, wspace=0.0)\n",
    "    ax = gs.subplots(sharex=True, sharey=True)\n",
    "\n",
    "    ax.set_xlim(xrange)\n",
    "    ax.set_xlabel(\"Time [Gyr]\")\n",
    "\n",
    "    ax.set_ylim(yrange)\n",
    "    ax.set_ylabel(ylabel)\n",
    "\n",
    "    ax.tick_params(which='both', direction=\"in\")\n",
    "    ax.label_outer()\n",
    "\n",
    "    im = ax.imshow(data, cmap=\"viridis\", aspect=\"auto\", origin=\"lower\",\n",
    "                   extent=(xrange[0], xrange[1], yrange[0], yrange[1]),\n",
    "                   norm=LogNorm(0.001, vmax=5.0), rasterized=True,\n",
    "                   interpolation=\"none\")\n",
    "\n",
    "    cbar = fig.colorbar(im, ax=ax, label=\"PDF\", ticks=[0.001, 0.01, 0.1, 1.0])\n",
    "    cbar.ax.set_yticklabels([0.001, 0.01, 0.1, 1.0])\n",
    "\n",
    "    ax.text(x=0.05, y=0.95, size=8.0, s=r\"$\\texttt{\" + label + r\"}$\",\n",
    "            ha='left', va='top', transform=ax.transAxes)\n",
    "\n",
    "    fig.savefig(f\"../images/gas_abundance/{filename}.pdf\")\n",
    "    plt.close(fig)"
   ]
  },
  {
   "cell_type": "code",
   "execution_count": 35,
   "metadata": {},
   "outputs": [],
   "source": [
    "figure_setup()"
   ]
  },
  {
   "cell_type": "markdown",
   "metadata": {},
   "source": [
    "### Calculate Data"
   ]
  },
  {
   "cell_type": "code",
   "execution_count": null,
   "metadata": {},
   "outputs": [],
   "source": [
    "calculate_gas_abundance_evolution(\n",
    "    simulation=\"au6_or_l4\", of=\"Fe\", to='H',\n",
    "    abundance_min=-2.5, abundance_max=1.5, max_radius=30.0)"
   ]
  },
  {
   "cell_type": "code",
   "execution_count": 39,
   "metadata": {},
   "outputs": [],
   "source": [
    "calculate_gas_abundance_evolution(\n",
    "    simulation=\"au6_or_l4\", of='O', to=\"Fe\",\n",
    "    abundance_min=0.0, abundance_max=1.0, max_radius=30.0)"
   ]
  },
  {
   "cell_type": "markdown",
   "metadata": {},
   "source": [
    "### Figures"
   ]
  },
  {
   "cell_type": "code",
   "execution_count": 37,
   "metadata": {},
   "outputs": [],
   "source": [
    "data = np.load(\"../results/au6_or_l4/gas_FeH_abundance_evol.npy\")\n",
    "make_plot(data=data, xrange=(0.0, 14.0), yrange=(-2.5, 1.5),\n",
    "          ylabel=\"[Fe/H]\", label=\"Au6\", filename=\"au6_FeH_abundance_evol\")"
   ]
  },
  {
   "cell_type": "code",
   "execution_count": 40,
   "metadata": {},
   "outputs": [],
   "source": [
    "data = np.load(\"../results/au6_or_l4/gas_OFe_abundance_evol.npy\")\n",
    "make_plot(data=data, xrange=(0.0, 14.0), yrange=(0.0, 1.0),\n",
    "          ylabel=\"[O/Fe]\", label=\"Au6\", filename=\"au6_OFe_abundance_evol\")"
   ]
  }
 ],
 "metadata": {
  "kernelspec": {
   "display_name": "Python 3",
   "language": "python",
   "name": "python3"
  },
  "language_info": {
   "codemirror_mode": {
    "name": "ipython",
    "version": 3
   },
   "file_extension": ".py",
   "mimetype": "text/x-python",
   "name": "python",
   "nbconvert_exporter": "python",
   "pygments_lexer": "ipython3",
   "version": "3.7.3"
  }
 },
 "nbformat": 4,
 "nbformat_minor": 2
}
