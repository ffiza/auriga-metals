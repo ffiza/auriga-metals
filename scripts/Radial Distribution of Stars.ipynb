{
 "cells": [
  {
   "attachments": {},
   "cell_type": "markdown",
   "metadata": {},
   "source": [
    "# Galaxy Decomposition"
   ]
  },
  {
   "cell_type": "code",
   "execution_count": 1,
   "metadata": {},
   "outputs": [
    {
     "name": "stderr",
     "output_type": "stream",
     "text": [
      "/u/fiza/conda-envs/auriga/lib/python3.7/site-packages/setuptools/_importlib.py:23: UserWarning: `importlib-metadata` version is incompatible with `setuptools`.\n",
      "This problem is likely to be solved by installing an updated version of `importlib-metadata`.\n",
      "  warnings.warn(msg)  # Ensure a descriptive message is shown.\n"
     ]
    }
   ],
   "source": [
    "from matplotlib import pyplot as plt\n",
    "import matplotlib.colors as mcolors\n",
    "import numpy as np\n",
    "import pandas as pd\n",
    "from multiprocessing import Pool"
   ]
  },
  {
   "cell_type": "code",
   "execution_count": 2,
   "metadata": {},
   "outputs": [],
   "source": [
    "from auriga.snapshot import Snapshot\n",
    "from auriga.images import figure_setup, set_axs_configuration\n",
    "from auriga.settings import Settings"
   ]
  },
  {
   "cell_type": "code",
   "execution_count": 3,
   "metadata": {},
   "outputs": [],
   "source": [
    "figure_setup()"
   ]
  },
  {
   "cell_type": "code",
   "execution_count": 4,
   "metadata": {},
   "outputs": [],
   "source": [
    "settings = Settings()"
   ]
  },
  {
   "cell_type": "code",
   "execution_count": 5,
   "metadata": {},
   "outputs": [],
   "source": [
    "RXY_RANGE: tuple = (0, 200)\n",
    "N_BINS: int = 200"
   ]
  },
  {
   "cell_type": "code",
   "execution_count": 6,
   "metadata": {},
   "outputs": [],
   "source": [
    "def make_bins(rxy_min: float, rxy_max: float, n_bins: int):\n",
    "    bin_edges = np.linspace(rxy_min, rxy_max, n_bins + 1)\n",
    "    bin_width = np.diff(bin_edges)[0]\n",
    "    bin_centers = bin_edges[1:] - bin_width / 2\n",
    "    return bin_edges, bin_centers"
   ]
  },
  {
   "cell_type": "code",
   "execution_count": 7,
   "metadata": {},
   "outputs": [],
   "source": [
    "def read_and_bin_data(simulation: str) -> tuple:\n",
    "    \"\"\"\n",
    "    This method returns the circularity and the normalized potential for the\n",
    "    stars in the main object of the simulation.\n",
    "\n",
    "    Parameters\n",
    "    ----------\n",
    "    simulation : str\n",
    "        The simulation to consider.\n",
    "\n",
    "    Returns\n",
    "    -------\n",
    "    tuple\n",
    "        The circularity and normalized potential.\n",
    "    \"\"\"\n",
    "    settings = Settings()\n",
    "\n",
    "    s = Snapshot(simulation=simulation,\n",
    "                 loadonlytype=[0, 1, 2, 3, 4, 5])\n",
    "    s.tag_particles_by_region(\n",
    "        disc_std_circ=settings.disc_std_circ,\n",
    "        disc_min_circ=settings.disc_min_circ,\n",
    "        cold_disc_delta_circ=settings.cold_disc_delta_circ,\n",
    "        bulge_max_specific_energy=settings.bulge_max_specific_energy)\n",
    "\n",
    "    is_real_star = (s.type == 4) & (s.stellar_formation_time > 0)\n",
    "    is_main_obj = (s.halo == s.halo_idx) & (s.subhalo == s.subhalo_idx)\n",
    "\n",
    "    region_tag = s.region_tag[is_real_star & is_main_obj]\n",
    "    rxy = s.rho[is_real_star & is_main_obj]\n",
    "\n",
    "    del s, is_real_star, is_main_obj\n",
    "\n",
    "    # Create histogram of particle counts\n",
    "    bin_edges = make_bins(RXY_RANGE[0], RXY_RANGE[1], N_BINS)[0]\n",
    "    counts = np.array([\n",
    "        np.histogram(a=rxy[region_tag == 0], bins=bin_edges,\n",
    "                     range=RXY_RANGE)[0],\n",
    "        np.histogram(a=rxy[region_tag == 1], bins=bin_edges,\n",
    "                     range=RXY_RANGE)[0],\n",
    "        np.histogram(a=rxy[region_tag == 2], bins=bin_edges,\n",
    "                     range=RXY_RANGE)[0],\n",
    "        np.histogram(a=rxy[region_tag == 3], bins=bin_edges,\n",
    "                     range=RXY_RANGE)[0]])\n",
    "\n",
    "    return counts"
   ]
  },
  {
   "cell_type": "code",
   "execution_count": 8,
   "metadata": {},
   "outputs": [],
   "source": [
    "def make_sample_df(simulations: list) -> pd.DataFrame:\n",
    "    settings = Settings()\n",
    "\n",
    "    bin_centers = make_bins(RXY_RANGE[0], RXY_RANGE[1], N_BINS)[1]\n",
    "    data = np.array(Pool().map(read_and_bin_data, simulations))\n",
    "    data = data.reshape(data.shape[0] * data.shape[1], data.shape[2])\n",
    "\n",
    "    columns = []\n",
    "    for simulation in simulations:\n",
    "        for component in settings.components:\n",
    "            columns.append(f\"{simulation}_StarCount_{component}\")\n",
    "\n",
    "    df = pd.DataFrame(data.T, columns=columns)\n",
    "    df[\"BinCenters_ckpc\"] = bin_centers\n",
    "    return df"
   ]
  },
  {
   "cell_type": "code",
   "execution_count": 9,
   "metadata": {},
   "outputs": [],
   "source": [
    "simulations = [f\"au{i}_or_l4_s127\" for i in settings.galaxies]\n",
    "df = make_sample_df(simulations=simulations)"
   ]
  },
  {
   "cell_type": "code",
   "execution_count": 10,
   "metadata": {},
   "outputs": [],
   "source": [
    "fig = plt.figure(figsize=(7.2, 7.2))\n",
    "gs = fig.add_gridspec(nrows=6, ncols=5, hspace=0.0, wspace=0.0)\n",
    "axs = gs.subplots(sharex=True, sharey=True)\n",
    "\n",
    "for ax in axs.flat:\n",
    "    ax.tick_params(which='both', direction=\"in\")\n",
    "    ax.set_yscale(\"log\")\n",
    "    ax.set_ylim(1E2, 1E6)\n",
    "    ax.set_xlim(0, 100)\n",
    "    ax.set_xticks([10, 30, 50, 70, 90])\n",
    "    ax.set_yticks([1E3, 1E4, 1E5])\n",
    "    ax.set_xlabel(r\"$r_{xy}$ [ckpc]\")\n",
    "    ax.set_ylabel(r\"$N$\")\n",
    "    ax.label_outer()\n",
    "\n",
    "for i, simulation in enumerate(simulations):\n",
    "    current_ax = axs.flatten()[i]\n",
    "    current_ax.text(\n",
    "        x=0.05, y=0.95, size=6.0,\n",
    "        s=r\"$\\texttt{\" + simulation.upper() + \"}$\",\n",
    "        ha=\"left\", va=\"top\", transform=current_ax.transAxes)\n",
    "    for component in settings.components:\n",
    "        current_ax.plot(\n",
    "            df[\"BinCenters_ckpc\"],\n",
    "            df[f\"{simulation}_StarCount_{component}\"],\n",
    "            color=settings.component_colors[component],\n",
    "            label=settings.component_labels[component])\n",
    "\n",
    "axs[0, 0].legend(loc=\"center right\", framealpha=0, fontsize=5.0)\n",
    "\n",
    "fig.savefig(\n",
    "    f\"../images/galaxy_decomposition/distribution_of_particles.pdf\")\n",
    "plt.close(fig)"
   ]
  },
  {
   "cell_type": "code",
   "execution_count": null,
   "metadata": {},
   "outputs": [],
   "source": [
    "fig = plt.figure(figsize=(7.2, 7.2))\n",
    "gs = fig.add_gridspec(nrows=6, ncols=5, hspace=0.0, wspace=0.0)\n",
    "axs = gs.subplots(sharex=True, sharey=True)\n",
    "\n",
    "for ax in axs.flat:\n",
    "    ax.tick_params(which='both', direction=\"in\")\n",
    "    ax.set_yscale(\"log\")\n",
    "    ax.set_ylim(1E2, 1E6)\n",
    "    ax.set_xlim(0, 100)\n",
    "    ax.set_xticks([10, 30, 50, 70, 90])\n",
    "    ax.set_yticks([1E3, 1E4, 1E5])\n",
    "    ax.set_xlabel(r\"$r_{xy}$ [ckpc]\")\n",
    "    ax.set_ylabel(r\"$N$\")\n",
    "    ax.label_outer()\n",
    "\n",
    "for i, simulation in enumerate(simulations):\n",
    "    current_ax = axs.flatten()[i]\n",
    "    current_ax.text(\n",
    "        x=0.05, y=0.95, size=6.0,\n",
    "        s=r\"$\\texttt{\" + simulation.upper() + \"}$\",\n",
    "        ha=\"left\", va=\"top\", transform=current_ax.transAxes)\n",
    "    for component in settings.components:\n",
    "        current_ax.plot(\n",
    "            df[\"BinCenters_ckpc\"],\n",
    "            df[f\"{simulation}_StarCount_{component}\"],\n",
    "            color=settings.component_colors[component],\n",
    "            label=settings.component_labels[component])\n",
    "\n",
    "axs[0, 0].legend(loc=\"center right\", framealpha=0, fontsize=5.0)\n",
    "\n",
    "fig.savefig(\n",
    "    f\"../images/galaxy_decomposition/distribution_of_particles.pdf\")\n",
    "plt.close(fig)"
   ]
  }
 ],
 "metadata": {
  "kernelspec": {
   "display_name": "Python 3",
   "language": "python",
   "name": "python3"
  },
  "language_info": {
   "codemirror_mode": {
    "name": "ipython",
    "version": 3
   },
   "file_extension": ".py",
   "mimetype": "text/x-python",
   "name": "python",
   "nbconvert_exporter": "python",
   "pygments_lexer": "ipython3",
   "version": "3.7.3"
  },
  "orig_nbformat": 4
 },
 "nbformat": 4,
 "nbformat_minor": 2
}
