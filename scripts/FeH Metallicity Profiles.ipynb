{
 "cells": [
  {
   "attachments": {},
   "cell_type": "markdown",
   "metadata": {},
   "source": [
    "# [Fe/H] Metallicity Profiles"
   ]
  },
  {
   "cell_type": "code",
   "execution_count": 1,
   "metadata": {},
   "outputs": [],
   "source": [
    "import matplotlib as mpl\n",
    "from matplotlib import pyplot as plt\n",
    "import matplotlib.colors as mcolors\n",
    "import numpy as np\n",
    "import pandas as pd\n",
    "import json\n",
    "from scipy.stats import binned_statistic\n",
    "from scipy.stats import linregress\n",
    "from scipy.optimize import curve_fit\n",
    "from itertools import product"
   ]
  },
  {
   "cell_type": "code",
   "execution_count": 2,
   "metadata": {},
   "outputs": [],
   "source": [
    "from auriga.snapshot import Snapshot\n",
    "from auriga.images import figure_setup, set_axs_configuration\n",
    "from auriga.settings import Settings\n",
    "from auriga.parser import parse\n",
    "from auriga.physics import Physics\n",
    "from auriga.mathematics import linear"
   ]
  },
  {
   "cell_type": "code",
   "execution_count": 3,
   "metadata": {},
   "outputs": [],
   "source": [
    "mpl.rcParams['axes.prop_cycle'] = mpl.cycler(\n",
    "    color=list(mcolors.TABLEAU_COLORS.values()))"
   ]
  },
  {
   "cell_type": "code",
   "execution_count": 4,
   "metadata": {},
   "outputs": [],
   "source": [
    "figure_setup()\n",
    "settings = Settings()"
   ]
  },
  {
   "cell_type": "code",
   "execution_count": 5,
   "metadata": {},
   "outputs": [],
   "source": [
    "RXY_RANGE: tuple = (0, 30)\n",
    "N_BINS: int = 30"
   ]
  },
  {
   "cell_type": "code",
   "execution_count": 6,
   "metadata": {},
   "outputs": [],
   "source": [
    "def read_snapshot_data(simulation: str, of: str,\n",
    "                       to: str, band: str = None) -> tuple:\n",
    "    \"\"\"\n",
    "    This method returns data of interest for this analysis.\n",
    "\n",
    "    Parameters\n",
    "    ----------\n",
    "    simulation : str\n",
    "        The simulation to consider.\n",
    "    of : str\n",
    "        The metal of which to calculate the metallicity.\n",
    "    to : str\n",
    "        The metal to which to calculate the metallicity.\n",
    "    band : str, optional\n",
    "        The optical band for the luminosity calculation. If band is not\n",
    "        provided, luminosities will not be added to the data.\n",
    "\n",
    "    Returns\n",
    "    -------\n",
    "    pd.DataFrame\n",
    "        A data frame with the properties.\n",
    "    \"\"\"\n",
    "\n",
    "    settings = Settings()\n",
    "\n",
    "    s = Snapshot(simulation=simulation, loadonlytype=[4])\n",
    "    s.add_extra_coordinates()\n",
    "    s.add_metal_abundance(of=of, to=to)\n",
    "    s.add_stellar_age()\n",
    "    s.add_stellar_photometrics()\n",
    "\n",
    "    is_real_star = (s.type == 4) & (s.stellar_formation_time > 0)\n",
    "    is_main_obj = (s.halo == s.halo_idx) & (s.subhalo == s.subhalo_idx)\n",
    "\n",
    "    df = pd.DataFrame()\n",
    "    df[f\"[{of}/{to}]_dex\"] = s.metal_abundance[f\"{of}/{to}\"][\n",
    "        is_real_star & is_main_obj]\n",
    "    df[\"CylindricalRadius_ckpc\"] = s.rho[is_real_star & is_main_obj]\n",
    "    df[\"StellarAge_Gyr\"] = s.stellar_age[is_real_star & is_main_obj]\n",
    "\n",
    "    if band is not None:  # Load luminosities if a band was provided\n",
    "        s.add_luminosities(band=band)\n",
    "        df[\"Luminosity_W\"] = s.stellar_luminosities[is_real_star & is_main_obj]\n",
    "\n",
    "    # Remove invalid data\n",
    "    df.replace([np.inf, -np.inf], np.nan, inplace=True)\n",
    "    df.dropna(inplace=True)\n",
    "\n",
    "    return df"
   ]
  },
  {
   "cell_type": "code",
   "execution_count": 7,
   "metadata": {},
   "outputs": [],
   "source": [
    "def calc_mean_stat(x, y, n_bins: int, xrange: tuple, weights = None):\n",
    "    if weights is None: weights = np.ones(x.shape)\n",
    "\n",
    "    num = binned_statistic(x=x, values=y * weights,\n",
    "        statistic=\"sum\", bins=n_bins, range=xrange)[0]\n",
    "    den = binned_statistic(x=x, values=weights,\n",
    "        statistic=\"sum\", bins=n_bins, range=xrange)[0]\n",
    "    mean = num / den\n",
    "\n",
    "    std, bin_edges, _ = binned_statistic(\n",
    "        x=x, values=y, statistic=\"std\", bins=n_bins, range=xrange)\n",
    "    count, _, _ = binned_statistic(\n",
    "        x=x, values=y, statistic=\"count\", bins=n_bins, range=xrange)\n",
    "    err = std / np.sqrt(count)\n",
    "\n",
    "    bin_centers = bin_edges[1:] - np.diff(bin_edges)[0] / 2\n",
    "    return bin_centers, mean, err"
   ]
  },
  {
   "cell_type": "code",
   "execution_count": 8,
   "metadata": {},
   "outputs": [],
   "source": [
    "def read_sample_data(galaxies: list, band: str = None) -> pd.DataFrame:\n",
    "    df = pd.DataFrame()\n",
    "    for galaxy in galaxies:\n",
    "        gdf = read_snapshot_data(\n",
    "            simulation=galaxy, of=\"Fe\", to='H', band=band)\n",
    "        if band is not None:  # Set weights for binned data\n",
    "            weights = gdf[\"Luminosity_W\"]\n",
    "        else:\n",
    "            weights = np.ones(len(gdf))\n",
    "        bin_centers, mean, _ = calc_mean_stat(\n",
    "            x=gdf[\"CylindricalRadius_ckpc\"], y=gdf[\"[Fe/H]_dex\"],\n",
    "            weights=weights, n_bins=N_BINS, xrange=RXY_RANGE)\n",
    "        df[f\"{galaxy.upper()}_<[Fe/H]>_dex\"] = mean\n",
    "    df[\"BinCenters_ckpc\"] = bin_centers\n",
    "    return df"
   ]
  },
  {
   "cell_type": "markdown",
   "metadata": {},
   "source": [
    "## [Fe/H] Profiles"
   ]
  },
  {
   "cell_type": "markdown",
   "metadata": {},
   "source": [
    "### Sample + Average"
   ]
  },
  {
   "cell_type": "code",
   "execution_count": 9,
   "metadata": {},
   "outputs": [],
   "source": [
    "sample = [f\"au{i}_or_l4_s127\" for i in settings.galaxies]\n",
    "df = read_sample_data(galaxies=sample)"
   ]
  },
  {
   "cell_type": "code",
   "execution_count": 10,
   "metadata": {},
   "outputs": [],
   "source": [
    "df[\"SampleAverage_<[Fe/H]>_dex\"] = df[\n",
    "    [f\"{galaxy.upper()}_<[Fe/H]>_dex\" for galaxy in sample]].mean(axis=1)\n",
    "df[\"SampleDispersion_<[Fe/H]>_dex\"] = df[\n",
    "    [f\"{galaxy.upper()}_<[Fe/H]>_dex\" for galaxy in sample]].std(axis=1)"
   ]
  },
  {
   "cell_type": "code",
   "execution_count": 11,
   "metadata": {},
   "outputs": [],
   "source": [
    "fig, ax = plt.subplots(figsize=(2.5, 2.5))\n",
    "\n",
    "ax.set_xlim(0, 30)\n",
    "ax.set_ylim(-0.6, 0.6)\n",
    "ax.set_xlabel(r\"$r_{xy}$ [ckpc]\")\n",
    "ax.set_ylabel(r\"$\\left< \\mathrm{[Fe/H]} \\right>$\")\n",
    "\n",
    "ax.grid(True, ls='-', lw=0.25, c='silver')\n",
    "\n",
    "for galaxy in sample:\n",
    "    ax.plot(df[\"BinCenters_ckpc\"], df[f\"{galaxy.upper()}_<[Fe/H]>_dex\"],\n",
    "            lw=1, color=\"gainsboro\", zorder=10)\n",
    "\n",
    "ax.plot(df[\"BinCenters_ckpc\"], df[\"SampleAverage_<[Fe/H]>_dex\"],\n",
    "        lw=1, color='k', zorder=11)\n",
    "ax.plot(df[\"BinCenters_ckpc\"],\n",
    "        df[\"SampleAverage_<[Fe/H]>_dex\"] - df[\"SampleDispersion_<[Fe/H]>_dex\"],\n",
    "        lw=1, color='k', zorder=11, ls=\"--\")\n",
    "ax.plot(df[\"BinCenters_ckpc\"],\n",
    "        df[\"SampleAverage_<[Fe/H]>_dex\"] + df[\"SampleDispersion_<[Fe/H]>_dex\"],\n",
    "        lw=1, color='k', zorder=11, ls=\"--\")\n",
    "\n",
    "fig.savefig(\n",
    "    f\"../images/FeH_metallicity_profiles/originals_average_total.pdf\")\n",
    "plt.close(fig)"
   ]
  },
  {
   "cell_type": "markdown",
   "metadata": {},
   "source": [
    "### Gradient Comparison"
   ]
  },
  {
   "cell_type": "code",
   "execution_count": 12,
   "metadata": {},
   "outputs": [],
   "source": [
    "data1 = json.load(open(\"../data/genovali_2014.json\"))\n",
    "data2 = json.load(open(\"../data/lemasle_2007.json\"))\n",
    "data3 = json.load(open(\"../data/lemasle_2008.json\"))\n",
    "data4 = json.load(open(\"../data/lemasle_2018.json\"))"
   ]
  },
  {
   "cell_type": "code",
   "execution_count": 13,
   "metadata": {},
   "outputs": [
    {
     "name": "stdout",
     "output_type": "stream",
     "text": [
      "The current data set covers a range in Galactocentric distances of more than 10 kpc (4 <= RG <= 15 kpc). We estimated the metallicity gradient (dashed line) and we found [Fe/H] = 0.49 +/- 0.03 − 0.051 +/- 0.003 RG / kpc. The new slope and zero-point agree quite well with similar estimates available in the literature (Luck & Lambert 2011; Lemasle et al. 2013).\n",
      "Data plotted in the top panel of Fig. 7 show that the slope is –0.061 dex/kpc in the region ranging from ~8 to ~12 kpc.\n",
      "The 63 stars of this sample are located between 8 and 15 kpc from the Galactic center (see Fig. 3). We investigated at first the working hypothesis of a linear gradient and calculated the iron Galactic gradient using the entire Cepheid sample. We found a slope of –0.023 +/- 0.007 dex/kpc that is shallower than previous studies.\n",
      "With the bootstrap method, we obtain a slope of −0.0447 +/- 0.0066 dex/kpc for the gradient (see Fig. 6). [...] The agreement remains reasonable with the total least squares method (Fig. 8), which gives a (shallower) slope of –0.040 +/- 0.002 dex/kpc. The range in radius goes from R_G ~ 6 kpc to R_G ~ 14 kpc.\n"
     ]
    }
   ],
   "source": [
    "print(data1[\"Notes\"],  # 4 - 15 kpc\n",
    "    data2[\"Notes\"],  # 8 - 12 kpc\n",
    "    data3[\"Notes\"],  # 8 - 15 kpc\n",
    "    data4[\"Notes\"],  # 6 - 14 kpc\n",
    "    sep=\"\\n\")\n",
    "fit_range = (4, 15)"
   ]
  },
  {
   "cell_type": "code",
   "execution_count": 14,
   "metadata": {},
   "outputs": [],
   "source": [
    "# Fit sample in the range\n",
    "range_fits = []\n",
    "for galaxy in sample:\n",
    "    x = df[\"BinCenters_ckpc\"].to_numpy()\n",
    "    y = df[f\"{galaxy.upper()}_<[Fe/H]>_dex\"].to_numpy()\n",
    "    x_range = x[(x > fit_range[0]) & (x < fit_range[1])]\n",
    "    y_range = y[(x > fit_range[0]) & (x < fit_range[1])]\n",
    "    regress = linregress(x=x_range, y=y_range)\n",
    "    range_fits.append(regress)"
   ]
  },
  {
   "cell_type": "code",
   "execution_count": 15,
   "metadata": {},
   "outputs": [],
   "source": [
    "# Fit of the sample average\n",
    "x = df[\"BinCenters_ckpc\"].to_numpy()\n",
    "y = df[f\"SampleAverage_<[Fe/H]>_dex\"].to_numpy()\n",
    "\n",
    "x_range = x[(x > fit_range[0]) & (x < fit_range[1])]\n",
    "y_range = y[(x > fit_range[0]) & (x < fit_range[1])]\n",
    "sample_fit = linregress(x=x_range, y=y_range)"
   ]
  },
  {
   "cell_type": "code",
   "execution_count": 16,
   "metadata": {},
   "outputs": [],
   "source": [
    "y_delta = 0.02\n",
    "\n",
    "y_data = [0]\n",
    "x_data = [sample_fit.slope]\n",
    "x_data_err = [sample_fit.stderr]\n",
    "y_label = [r\"\\textbf{Auriga}\"]\n",
    "c = ['k']\n",
    "\n",
    "for i, fit in enumerate(range_fits):\n",
    "    y_data.append(- y_delta * i)\n",
    "    x_data.append(fit.slope)\n",
    "    x_data_err.append(fit.stderr)\n",
    "    y_label.append(f\"Au{i + 1}\")\n",
    "    c.append(\"gainsboro\")"
   ]
  },
  {
   "cell_type": "code",
   "execution_count": 17,
   "metadata": {},
   "outputs": [],
   "source": [
    "fig, axs = plt.subplots(figsize=(7.2, 4.0), ncols=2,\n",
    "                       gridspec_kw={\"wspace\": 0.3})\n",
    "\n",
    "axs[0].set_xlim(-0.1, 0.02)\n",
    "axs[0].set_ylim(-0.7, 0.02)\n",
    "axs[0].set_xlabel(r\"Slope [dex/kpc]\")\n",
    "axs[0].set_yticks([- i * 0.02 for i in range(35)])\n",
    "axs[0].set_yticklabels([])\n",
    "\n",
    "axs[1].set_xlim(0, 30)\n",
    "axs[1].set_ylim(-0.6, 0.6)\n",
    "axs[1].set_xlabel(r\"$r_{xy}$ [ckpc]\")\n",
    "axs[1].set_ylabel(r\"$\\left< \\mathrm{[Fe/H]} \\right>$\")\n",
    "\n",
    "for ax in axs: ax.grid(True, ls='-', lw=0.25, c='gainsboro')\n",
    "\n",
    "axs[0].errorbar(\n",
    "    sample_fit.slope, 0, xerr=sample_fit.stderr,\n",
    "    markeredgecolor=\"white\", capsize=2, capthick=1, color='k',\n",
    "    marker='o', markersize=4, linestyle='none', zorder=10)\n",
    "\n",
    "for i, fit in enumerate(range_fits):\n",
    "    axs[0].errorbar(\n",
    "        fit.slope, 0 - 0.02 * (i + 1),\n",
    "        xerr=fit.stderr, color=\"gray\",\n",
    "        markeredgecolor=\"white\", capsize=2, capthick=1,\n",
    "        marker='o', markersize=4, linestyle='none', zorder=10)\n",
    "    axs[0].text(\n",
    "        x=-0.105, y=0 - 0.02 * (i + 1), size=6.0, color=\"gray\",\n",
    "        ha=\"right\", va=\"center\", s=f\"Au{i + 1}\")\n",
    "\n",
    "axs[0].errorbar(\n",
    "    data1[\"Data\"][\"Slope\"], - 0.02 * 31, xerr=data1[\"Data\"][\"SlopeErr\"],\n",
    "    markeredgecolor=\"white\", capsize=2, capthick=1,\n",
    "    marker='o', markersize=4, linestyle='none', zorder=10)\n",
    "axs[0].errorbar(\n",
    "    data2[\"Data\"][\"Slope\"], - 0.02 * 32, xerr=data2[\"Data\"][\"SlopeErr\"],\n",
    "    markeredgecolor=\"white\", capsize=2, capthick=1,\n",
    "    marker='o', markersize=4, linestyle='none', zorder=10)\n",
    "axs[0].errorbar(\n",
    "    data3[\"Data\"][\"Slope\"], - 0.02 * 33, xerr=data3[\"Data\"][\"SlopeErr\"],\n",
    "    markeredgecolor=\"white\", capsize=2, capthick=1,\n",
    "    marker='o', markersize=4, linestyle='none', zorder=10)\n",
    "axs[0].errorbar(\n",
    "    data4[\"Data\"][\"BootstrapSlope\"], - 0.02 * 34,\n",
    "    xerr=data4[\"Data\"][\"BootstrapSlopeErr\"],\n",
    "    markeredgecolor=\"white\", capsize=2, capthick=1,\n",
    "    marker='o', markersize=4, linestyle='none', zorder=10)\n",
    "\n",
    "axs[0].text(x=-0.105, y=0, size=6.0, color='k',\n",
    "            ha=\"right\", va=\"center\", s=\"Auriga Average\")\n",
    "\n",
    "axs[0].text(x=-0.105, y=- 0.02 * 31, size=6.0, color=\"tab:blue\",\n",
    "            ha=\"right\", va=\"center\", s=\"Genovali et al. (2014)\")\n",
    "axs[0].text(x=-0.105, y=- 0.02 * 32, size=6.0, color=\"tab:orange\",\n",
    "            ha=\"right\", va=\"center\", s=\"Lemasle et al. (2007)\")\n",
    "axs[0].text(x=-0.105, y=- 0.02 * 33, size=6.0, color=\"tab:green\",\n",
    "            ha=\"right\", va=\"center\", s=\"Lemasle et al. (2008)\")\n",
    "axs[0].text(x=-0.105, y=- 0.02 * 34, size=6.0, color=\"tab:red\",\n",
    "            ha=\"right\", va=\"center\", s=\"Lemasle et al. (2018)\")\n",
    "\n",
    "axs[0].plot([0] * 2, axs[0].get_ylim(), ls=\"--\", lw=0.75, color='k', zorder=10)\n",
    "\n",
    "axs[1].plot(axs[1].get_xlim(), [0] * 2, ls=\"--\", lw=0.75, color='k', zorder=10)\n",
    "x = np.linspace(0, 30, 100)\n",
    "for fit in range_fits:\n",
    "    axs[1].plot(x, x * fit.slope, color=\"grey\",lw=1, zorder=10)\n",
    "axs[1].plot(x, x * sample_fit.slope, color='k', lw=1, zorder=11)\n",
    "axs[1].plot(x, x * data1[\"Data\"][\"Slope\"], lw=1, zorder=11)\n",
    "axs[1].plot(x, x * data2[\"Data\"][\"Slope\"], lw=1, zorder=11)\n",
    "axs[1].plot(x, x * data3[\"Data\"][\"Slope\"], lw=1, zorder=11)\n",
    "axs[1].plot(x, x * data4[\"Data\"][\"BootstrapSlope\"], lw=1, zorder=11)\n",
    "\n",
    "fig.savefig(\n",
    "    f\"../images/FeH_metallicity_profiles/mw_comparison/slope_data_range.pdf\")\n",
    "plt.close(fig)"
   ]
  },
  {
   "cell_type": "markdown",
   "metadata": {},
   "source": [
    "### By SSP Age"
   ]
  },
  {
   "cell_type": "code",
   "execution_count": 18,
   "metadata": {},
   "outputs": [],
   "source": [
    "age_ranges = [(2 * i, 2 * i + 2) for i in range(7)]"
   ]
  },
  {
   "cell_type": "code",
   "execution_count": 19,
   "metadata": {},
   "outputs": [
    {
     "name": "stderr",
     "output_type": "stream",
     "text": [
      "/u/fiza/conda-envs/auriga/lib/python3.7/site-packages/ipykernel_launcher.py:8: RuntimeWarning: invalid value encountered in true_divide\n",
      "  \n",
      "/u/fiza/conda-envs/auriga/lib/python3.7/site-packages/ipykernel_launcher.py:14: RuntimeWarning: invalid value encountered in true_divide\n",
      "  \n",
      "/u/fiza/conda-envs/auriga/lib/python3.7/site-packages/ipykernel_launcher.py:8: RuntimeWarning: invalid value encountered in true_divide\n",
      "  \n",
      "/u/fiza/conda-envs/auriga/lib/python3.7/site-packages/ipykernel_launcher.py:14: RuntimeWarning: invalid value encountered in true_divide\n",
      "  \n"
     ]
    }
   ],
   "source": [
    "fig = plt.figure(figsize=(7.2, 7.2))\n",
    "gs = fig.add_gridspec(nrows=6, ncols=5, hspace=0.0, wspace=0.0)\n",
    "axs = gs.subplots(sharex=True, sharey=True)\n",
    "\n",
    "for i, galaxy in enumerate(settings.galaxies):\n",
    "    simulation = f\"au{galaxy}_or_l4_s127\"\n",
    "    ax = axs.flatten()[i]\n",
    "\n",
    "    # Set up current ax\n",
    "    ax.grid(True, ls='-', lw=0.2, c=\"gainsboro\", zorder=-10)\n",
    "    ax.set_xlim(RXY_RANGE)\n",
    "    ax.set_xticks([0, 5, 10, 15, 20, 25])\n",
    "    ax.set_ylim(-1, 1)\n",
    "    ax.set_yticks([-0.6, -0.3, 0, 0.3, 0.6])\n",
    "    ax.set_ylabel(r\"$\\left< \\mathrm{[Fe/H]} \\right>$\")\n",
    "    ax.set_xlabel(r\"$r_{xy}$ [ckpc]\")\n",
    "    ax.tick_params(axis=\"both\", labelsize=8.0)\n",
    "    ax.label_outer()\n",
    "\n",
    "    df = read_snapshot_data(simulation=simulation, of=\"Fe\", to=\"H\")\n",
    "\n",
    "    ax.text(x=0.95, y=0.95, size=6.0,\n",
    "            s=r\"$\\texttt{\" + f\"au{galaxy}_or_l4_s127\".upper() + \"}$\",\n",
    "            ha='right', va='top', transform=ax.transAxes)\n",
    "\n",
    "    for age_range in age_ranges:\n",
    "        is_age = (df[\"StellarAge_Gyr\"] >= age_range[0]) \\\n",
    "            & (df[\"StellarAge_Gyr\"] < age_range[1])\n",
    "        \n",
    "        label = f\"{age_range[0]} - {age_range[1]}\"\n",
    "        bin_centers, mean, _ = calc_mean_stat(\n",
    "            x=df[\"CylindricalRadius_ckpc\"][is_age], y=df[\"[Fe/H]_dex\"][is_age],\n",
    "            n_bins=N_BINS, xrange=RXY_RANGE)\n",
    "\n",
    "        ax.plot(bin_centers, mean, label=label, zorder=10)\n",
    "\n",
    "        fig.savefig(f\"../images/FeH_metallicity_profiles/by_ssp_age.pdf\")\n",
    "\n",
    "    if galaxy == 1:\n",
    "        ax.legend(loc=(0.3, 0.5), framealpha=0.0, fontsize=3.0,\n",
    "                  ncol=2, title=\"Age [Gyr]\", title_fontsize=4.0)\n",
    "\n",
    "fig.savefig(f\"../images/FeH_metallicity_profiles/by_ssp_age.pdf\")\n",
    "plt.close(fig)"
   ]
  },
  {
   "cell_type": "code",
   "execution_count": 20,
   "metadata": {},
   "outputs": [],
   "source": [
    "age_ranges = [(i, i + 1) for i in range(14)]\n",
    "fit_data = []"
   ]
  },
  {
   "cell_type": "code",
   "execution_count": 21,
   "metadata": {},
   "outputs": [],
   "source": [
    "# Fits for different stellar ages\n",
    "for galaxy in settings.galaxies:\n",
    "    simulation = f\"au{galaxy}_or_l4_s127\"\n",
    "    df = read_snapshot_data(simulation=simulation, of=\"Fe\", to=\"H\")\n",
    "    for age_range in age_ranges:\n",
    "        is_age = (df[\"StellarAge_Gyr\"] >= age_range[0]) \\\n",
    "                 & (df[\"StellarAge_Gyr\"] < age_range[1])\n",
    "        model = linregress(x=df[\"CylindricalRadius_ckpc\"][is_age],\n",
    "                           y=df[\"[Fe/H]_dex\"][is_age])\n",
    "        fit_data.append([galaxy, age_range, model])"
   ]
  },
  {
   "cell_type": "code",
   "execution_count": 22,
   "metadata": {},
   "outputs": [],
   "source": [
    "fig, ax = plt.subplots(figsize=(2.5, 2.5))\n",
    "\n",
    "ax.set_xlim(0, 14)\n",
    "ax.set_ylim(-0.07, 0)\n",
    "ax.set_xlabel(\"Stellar Age [Gyr]\")\n",
    "ax.set_ylabel(r\"Slope [dex/kpc]\")\n",
    "ax.tick_params(axis=\"both\", labelsize=8.0)\n",
    "\n",
    "ax.grid(True, ls='-', lw=0.25, c=\"gainsboro\")\n",
    "\n",
    "for i in range(len(fit_data)):\n",
    "    c = \"silver\"\n",
    "    zorder = 10\n",
    "    if fit_data[i][0] == 6:\n",
    "        c = \"tab:blue\"\n",
    "        zorder = 11\n",
    "    if fit_data[i][0] == 9:\n",
    "        c = \"tab:red\"\n",
    "        zorder = 11\n",
    "    ax.plot(np.mean(fit_data[i][1]), fit_data[i][2].slope,\n",
    "            markersize=3, marker='o', lw=0,\n",
    "            markeredgewidth=0, markerfacecolor=c, color=c, zorder=zorder)\n",
    "\n",
    "ax.text(x=0.95, y=0.1, size=7.0, c=\"tab:blue\",\n",
    "        s=r\"$\\texttt{\" + f\"au6_or_l4_s127\".upper() + \"}$\",\n",
    "        ha=\"right\", va=\"bottom\", transform=ax.transAxes)\n",
    "ax.text(x=0.95, y=0.04, size=7.0, c=\"tab:red\",\n",
    "        s=r\"$\\texttt{\" + f\"au9_or_l4_s127\".upper() + \"}$\",\n",
    "        ha=\"right\", va=\"bottom\", transform=ax.transAxes)\n",
    "\n",
    "\n",
    "fig.savefig(f\"../images/FeH_metallicity_profiles/slope_vs_ssp_age.pdf\")\n",
    "plt.close(fig)"
   ]
  },
  {
   "cell_type": "markdown",
   "metadata": {},
   "source": [
    "## Luminosity-Weighted [Fe/H] Profiles"
   ]
  },
  {
   "cell_type": "markdown",
   "metadata": {},
   "source": [
    "### Au6 - All Bands"
   ]
  },
  {
   "cell_type": "code",
   "execution_count": 23,
   "metadata": {},
   "outputs": [],
   "source": [
    "galaxy = \"au6_or_l4_s127\"\n",
    "df = pd.DataFrame()\n",
    "for band in settings.photometric_bands:\n",
    "    gdf = read_sample_data(galaxies=[galaxy], band=band)\n",
    "    gdf = gdf.rename(\n",
    "        columns={f\"{galaxy.upper()}_<[Fe/H]>_dex\": f\"<[Fe/H]>_Band{band}_dex\"})\n",
    "    if \"BinCenters_ckpc\" not in df.columns:\n",
    "        df = pd.concat([df, gdf[\"BinCenters_ckpc\"]], axis=1)    \n",
    "    df = pd.concat([df, gdf[f\"<[Fe/H]>_Band{band}_dex\"]], axis=1)\n"
   ]
  },
  {
   "cell_type": "code",
   "execution_count": 24,
   "metadata": {},
   "outputs": [
    {
     "data": {
      "image/png": "[encoded data removed]",
      "text/plain": [
       "<Figure size 180x180 with 1 Axes>"
      ]
     },
     "metadata": {
      "needs_background": "light"
     },
     "output_type": "display_data"
    }
   ],
   "source": [
    "fig, ax = plt.subplots(figsize=(2.5, 2.5))\n",
    "\n",
    "ax.set_xlim(0, 30)\n",
    "ax.set_ylim(-0.6, 0.6)\n",
    "ax.set_xlabel(r\"$r_{xy}$ [ckpc]\")\n",
    "ax.set_ylabel(r\"$\\left< \\mathrm{[Fe/H]} \\right>_\\mathrm{lw}$\")\n",
    "\n",
    "ax.grid(True, ls='-', lw=0.25, c='silver')\n",
    "\n",
    "for band in settings.photometric_bands:\n",
    "    ax.plot(\n",
    "        df[\"BinCenters_ckpc\"], df[f\"<[Fe/H]>_Band{band}_dex\"],\n",
    "        lw=1.0, zorder=10, ls='-', label=band)\n",
    "\n",
    "ax.text(\n",
    "    x=0.05, y=0.05, size=7.0,\n",
    "    s=r\"$\\texttt{\" + \"au6_or_l4_s127\".upper() + \"}$\",\n",
    "    ha=\"left\", va=\"bottom\", transform=ax.transAxes)\n",
    "\n",
    "ax.legend(loc=\"upper right\", framealpha=0.0, fontsize=6.0, ncol=2,\n",
    "          title=\"Photometric Band\", title_fontsize=6.0)\n",
    "\n",
    "plt.show()"
   ]
  },
  {
   "cell_type": "markdown",
   "metadata": {},
   "source": [
    "### Au6 - All Bands + Fits"
   ]
  },
  {
   "cell_type": "code",
   "execution_count": 25,
   "metadata": {},
   "outputs": [
    {
     "data": {
      "image/png": "[encoded data removed]",
      "text/plain": [
       "<Figure size 180x180 with 1 Axes>"
      ]
     },
     "metadata": {
      "needs_background": "light"
     },
     "output_type": "display_data"
    }
   ],
   "source": [
    "fig, ax = plt.subplots(figsize=(2.5, 2.5))\n",
    "\n",
    "ax.set_xlim(0, 30)\n",
    "ax.set_ylim(-0.6, 0.6)\n",
    "ax.set_xlabel(r\"$r_{xy}$ [ckpc]\")\n",
    "ax.set_ylabel(r\"$\\left< \\mathrm{[Fe/H]} \\right>_\\mathrm{lw}$\")\n",
    "\n",
    "ax.grid(True, ls='-', lw=0.25, c='silver')\n",
    "\n",
    "regressions = []\n",
    "for i, band in enumerate(settings.photometric_bands):\n",
    "    x = df[\"BinCenters_ckpc\"].to_numpy()\n",
    "    y = df[f\"<[Fe/H]>_Band{band}_dex\"].to_numpy()\n",
    "\n",
    "    x_range = x[(x >= fit_range[0]) & (x >= fit_range[1])]\n",
    "    y_range = y[(x >= fit_range[0]) & (x >= fit_range[1])]\n",
    "    regress = linregress(x=x_range, y=y_range)\n",
    "    regressions.append(regress)\n",
    "    ax.plot(x, linear(x, regress.slope, regress.intercept),\n",
    "        lw=1.0, zorder=10, ls='--',\n",
    "        color=list(mcolors.TABLEAU_COLORS.values())[i])\n",
    "\n",
    "    ax.plot(x, y, lw=1.0, zorder=9, ls='-', label=band, \n",
    "            color=list(mcolors.TABLEAU_COLORS.values())[i])\n",
    "\n",
    "ax.text(\n",
    "    x=0.05, y=0.05, size=7.0,\n",
    "    s=r\"$\\texttt{\" + \"au6_or_l4_s127\".upper() + \"}$\",\n",
    "    ha=\"left\", va=\"bottom\", transform=ax.transAxes)\n",
    "\n",
    "ax.legend(loc=\"upper right\", framealpha=0.0, fontsize=6.0, ncol=2,\n",
    "          title=\"Photometric Band\", title_fontsize=6.0)\n",
    "\n",
    "plt.show()"
   ]
  },
  {
   "cell_type": "markdown",
   "metadata": {},
   "source": [
    "### Comparison With Lian+2023 (K-band)"
   ]
  },
  {
   "cell_type": "code",
   "execution_count": 26,
   "metadata": {},
   "outputs": [],
   "source": [
    "df_exp = pd.read_csv(\"../data/lian_2023/MW_Z_prof.txt\", delimiter=' ')"
   ]
  },
  {
   "cell_type": "code",
   "execution_count": 27,
   "metadata": {},
   "outputs": [],
   "source": [
    "df = read_sample_data(galaxies=sample, band='K')"
   ]
  },
  {
   "cell_type": "code",
   "execution_count": 28,
   "metadata": {},
   "outputs": [],
   "source": [
    "df[\"SampleAverage_<[Fe/H]>_dex\"] = df[\n",
    "    [f\"{galaxy.upper()}_<[Fe/H]>_dex\" for galaxy in sample]].mean(axis=1)\n",
    "df[\"SampleDispersion_<[Fe/H]>_dex\"] = df[\n",
    "    [f\"{galaxy.upper()}_<[Fe/H]>_dex\" for galaxy in sample]].std(axis=1)"
   ]
  },
  {
   "cell_type": "code",
   "execution_count": 29,
   "metadata": {},
   "outputs": [],
   "source": [
    "fig, ax = plt.subplots(figsize=(2.5, 2.5))\n",
    "\n",
    "ax.set_xlim(0, 30)\n",
    "ax.set_ylim(-0.6, 0.6)\n",
    "ax.set_xlabel(r\"$r_{xy}$ [ckpc]\")\n",
    "ax.set_ylabel(r\"$\\left< \\mathrm{[Fe/H]} \\right>_\\mathrm{lw}$\")\n",
    "\n",
    "ax.grid(True, ls='-', lw=0.25, c='silver')\n",
    "\n",
    "# Weighted profile for all galaxies\n",
    "for galaxy in sample:\n",
    "    ax.plot(df[\"BinCenters_ckpc\"], df[f\"{galaxy.upper()}_<[Fe/H]>_dex\"],\n",
    "            lw=0.7, zorder=10, c=\"gainsboro\", ls='-')\n",
    "\n",
    "ax.plot(df[\"BinCenters_ckpc\"], df[f\"AU2_OR_L4_S127_<[Fe/H]>_dex\"],\n",
    "        lw=1, zorder=10, c=\"tab:green\", ls='-',\n",
    "        label=r\"$\\texttt{\" + \"au2_or_l4_s127\".upper() + \"}$\")\n",
    "ax.plot(df[\"BinCenters_ckpc\"], df[f\"AU6_OR_L4_S127_<[Fe/H]>_dex\"],\n",
    "        lw=1, zorder=10, c=\"tab:blue\", ls='-',\n",
    "        label=r\"$\\texttt{\" + \"au6_or_l4_s127\".upper() + \"}$\")\n",
    "ax.plot(df[\"BinCenters_ckpc\"], df[f\"AU11_OR_L4_S127_<[Fe/H]>_dex\"],\n",
    "        lw=1, zorder=10, c=\"tab:purple\", ls='-',\n",
    "        label=r\"$\\texttt{\" + \"au11_or_l4_s127\".upper() + \"}$\")\n",
    "\n",
    "ax.plot(df[\"BinCenters_ckpc\"], df[\"SampleAverage_<[Fe/H]>_dex\"],\n",
    "        lw=1, color='k', zorder=11)\n",
    "ax.plot(df[\"BinCenters_ckpc\"],\n",
    "        df[\"SampleAverage_<[Fe/H]>_dex\"] - df[\"SampleDispersion_<[Fe/H]>_dex\"],\n",
    "        lw=1, color='k', zorder=11, ls=\"--\")\n",
    "ax.plot(df[\"BinCenters_ckpc\"],\n",
    "        df[\"SampleAverage_<[Fe/H]>_dex\"] + df[\"SampleDispersion_<[Fe/H]>_dex\"],\n",
    "        lw=1, color='k', zorder=11, ls=\"--\")\n",
    "\n",
    "# Experimental data\n",
    "ax.errorbar(df_exp[\"radius\"], df_exp[\"total\"], yerr=df_exp[\"total_err\"],\n",
    "            fmt=\"-o\", capthick=0, color=\"tab:red\", markersize=2.5,\n",
    "            markeredgecolor=\"tab:red\", zorder=10, label=\"Lian et al. (2023)\",\n",
    "            lw=0.7)\n",
    "\n",
    "ax.legend(loc=\"upper right\", framealpha=0.0, fontsize=6.0)\n",
    "\n",
    "fig.savefig(f\"../images/FeH_metallicity_profiles/mw_comparison/profiles.pdf\")\n",
    "plt.close(fig)"
   ]
  },
  {
   "cell_type": "code",
   "execution_count": 30,
   "metadata": {},
   "outputs": [],
   "source": [
    "dfg = pd.read_csv(\"../data/grand_2017.csv\")\n",
    "mw_effective_radius_min = 3.4  # kpc\n",
    "mw_effective_radius_max = 6.7  # kpc\n",
    "mw_effective_radius_mean = np.mean([\n",
    "    mw_effective_radius_min, mw_effective_radius_max])"
   ]
  },
  {
   "cell_type": "code",
   "execution_count": 31,
   "metadata": {},
   "outputs": [],
   "source": [
    "fig, ax = plt.subplots(figsize=(2.5, 2.5))\n",
    "\n",
    "ax.set_xlim(0, 5)\n",
    "ax.set_ylim(-0.6, 0.6)\n",
    "ax.set_xlabel(r\"$r_{xy}$ [$R_\\mathrm{eff}$]\")\n",
    "ax.set_ylabel(r\"$\\left< \\mathrm{[Fe/H]} \\right>_\\mathrm{lw}$\")\n",
    "\n",
    "ax.grid(True, ls='-', lw=0.25, c='silver')\n",
    "\n",
    "# Weighted profile for all galaxies\n",
    "for galaxy in sample:\n",
    "    dfg_label = galaxy.split('_')[0].capitalize()\n",
    "    effective_radius = float(\n",
    "        dfg[\"RadialScalelength_kpc\"][dfg[\"Run\"] == f\"{dfg_label}_L4\"])\n",
    "    ax.plot(df[\"BinCenters_ckpc\"] / effective_radius,\n",
    "            df[f\"{galaxy.upper()}_<[Fe/H]>_dex\"],\n",
    "            lw=0.7, zorder=10, c=\"gainsboro\", ls='-')\n",
    "\n",
    "ax.plot(df[\"BinCenters_ckpc\"] / float(dfg[\n",
    "        \"RadialScalelength_kpc\"][dfg[\"Run\"] == \"Au2_L4\"]),\n",
    "        df[f\"AU2_OR_L4_S127_<[Fe/H]>_dex\"],\n",
    "        lw=1.0, zorder=10, c=\"tab:green\", ls='-',\n",
    "        label=r\"$\\texttt{\" + f\"au2_or_l4_s127\".upper() + \"}$\")\n",
    "ax.plot(df[\"BinCenters_ckpc\"] / float(dfg[\n",
    "        \"RadialScalelength_kpc\"][dfg[\"Run\"] == \"Au6_L4\"]),\n",
    "        df[f\"AU6_OR_L4_S127_<[Fe/H]>_dex\"],\n",
    "        lw=1.0, zorder=10, c=\"tab:blue\", ls='-',\n",
    "        label=r\"$\\texttt{\" + f\"au6_or_l4_s127\".upper() + \"}$\")\n",
    "ax.plot(df[\"BinCenters_ckpc\"] / float(dfg[\n",
    "        \"RadialScalelength_kpc\"][dfg[\"Run\"] == \"Au11_L4\"]),\n",
    "        df[f\"AU11_OR_L4_S127_<[Fe/H]>_dex\"],\n",
    "        lw=1.0, zorder=10, c=\"tab:purple\", ls='-',\n",
    "        label=r\"$\\texttt{\" + f\"au6_or_l4_s127\".upper() + \"}$\")\n",
    "\n",
    "# Experimental data\n",
    "x1 = df_exp[\"radius\"] / mw_effective_radius_min\n",
    "x_mean = df_exp[\"radius\"] / mw_effective_radius_mean\n",
    "x2 = df_exp[\"radius\"] / mw_effective_radius_max\n",
    "ax.errorbar(x_mean, df_exp[\"total\"],\n",
    "            yerr=df_exp[\"total_err\"],\n",
    "            fmt=\"-o\", capthick=0, color=\"tab:red\", markersize=2.5,\n",
    "            markeredgecolor=\"tab:red\", zorder=10, label=\"Lian et al. (2023)\",\n",
    "            lw=0.7)\n",
    "ax.fill_betweenx(y=df_exp[\"total\"].to_numpy()[-9:],\n",
    "                  x1=x1.to_numpy()[-9:], x2=x2.to_numpy()[-9:],\n",
    "                  interpolate=True, color=\"#f3bfbf\")\n",
    "ax.fill_betweenx(y=df_exp[\"total\"], x1=x1, x2=x2,\n",
    "                 interpolate=True, color=\"#f3bfbf\")\n",
    "\n",
    "ax.legend(loc=\"upper right\", framealpha=0.0, fontsize=6.0)\n",
    "\n",
    "fig.savefig(\n",
    "    f\"../images/FeH_metallicity_profiles/mw_comparison/profiles_eff_radius.pdf\")\n",
    "plt.close(fig)"
   ]
  }
 ],
 "metadata": {
  "kernelspec": {
   "display_name": "Python 3",
   "language": "python",
   "name": "python3"
  },
  "language_info": {
   "codemirror_mode": {
    "name": "ipython",
    "version": 3
   },
   "file_extension": ".py",
   "mimetype": "text/x-python",
   "name": "python",
   "nbconvert_exporter": "python",
   "pygments_lexer": "ipython3",
   "version": "3.7.3"
  },
  "orig_nbformat": 4
 },
 "nbformat": 4,
 "nbformat_minor": 2
}
