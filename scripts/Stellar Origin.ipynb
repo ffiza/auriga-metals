{
 "cells": [
  {
   "attachments": {},
   "cell_type": "markdown",
   "metadata": {},
   "source": [
    "# Stellar Origin"
   ]
  },
  {
   "cell_type": "code",
   "execution_count": 12,
   "metadata": {},
   "outputs": [],
   "source": [
    "from matplotlib import pyplot as plt\n",
    "import numpy as np\n",
    "import pandas as pd\n",
    "import json"
   ]
  },
  {
   "cell_type": "code",
   "execution_count": 13,
   "metadata": {},
   "outputs": [],
   "source": [
    "from auriga.snapshot import Snapshot\n",
    "from auriga.images import figure_setup\n",
    "from auriga.settings import Settings"
   ]
  },
  {
   "cell_type": "code",
   "execution_count": 14,
   "metadata": {},
   "outputs": [],
   "source": [
    "figure_setup()\n",
    "settings = Settings()"
   ]
  },
  {
   "cell_type": "code",
   "execution_count": 26,
   "metadata": {},
   "outputs": [],
   "source": [
    "DISC_STD_CIRC = settings.disc_std_circ\n",
    "DISC_MIN_CIRC = settings.disc_min_circ\n",
    "COLD_DISC_DELTA_CIRC = settings.cold_disc_delta_circ\n",
    "BULGE_MAX_SPECIFIC_ENERGY = -0.6\n",
    "SUFFIX = \"_02\""
   ]
  },
  {
   "cell_type": "code",
   "execution_count": 16,
   "metadata": {},
   "outputs": [],
   "source": [
    "def read_data(simulation: str) -> pd.DataFrame:\n",
    "    settings = Settings()\n",
    "    \n",
    "    s = Snapshot(simulation=simulation, loadonlytype=[0, 1, 2, 3, 4, 5])\n",
    "    s.tag_particles_by_region(\n",
    "        disc_std_circ=DISC_STD_CIRC,\n",
    "        disc_min_circ=DISC_MIN_CIRC,\n",
    "        cold_disc_delta_circ=COLD_DISC_DELTA_CIRC,\n",
    "        bulge_max_specific_energy=BULGE_MAX_SPECIFIC_ENERGY)\n",
    "    s.tag_in_situ_stars()\n",
    "\n",
    "    is_real_star = (s.type == 4) & (s.stellar_formation_time > 0)\n",
    "    is_main_obj = (s.halo == s.halo_idx) & (s.subhalo == s.subhalo_idx)\n",
    "\n",
    "    df = pd.DataFrame({\n",
    "        \"RegionTag\": s.region_tag[is_real_star & is_main_obj],\n",
    "        \"IsInSitu\": s.is_in_situ[is_real_star & is_main_obj],\n",
    "        })\n",
    "\n",
    "    return df"
   ]
  },
  {
   "cell_type": "code",
   "execution_count": 17,
   "metadata": {},
   "outputs": [],
   "source": [
    "def prepare_data(df: pd.DataFrame) -> tuple:\n",
    "    \"\"\"\n",
    "    This method takes a data frame with stellar information and returns a\n",
    "    tuple with the ordered values of in-situ stellar percentages, labels and\n",
    "    colors.\n",
    "\n",
    "    Returns\n",
    "    -------\n",
    "    tuple\n",
    "        The prepared data.\n",
    "    \"\"\"\n",
    "\n",
    "    settings = Settings()\n",
    "\n",
    "    # Bar widths\n",
    "    bar_widths = np.zeros(len(settings.components) + 1)\n",
    "    bar_widths[0] = df[\"IsInSitu\"].sum() / len(df)  # Galaxy\n",
    "    for i in range(len(settings.components)):\n",
    "        bar_widths[i + 1] = (df[\"IsInSitu\"][df[\"RegionTag\"] == i]).sum() \\\n",
    "            / len(df[df[\"RegionTag\"] == i])\n",
    "\n",
    "    # Numerical labels\n",
    "    num_labels = np.array([\n",
    "        r\"$\\textbf{\" + str(np.round(100 * item, 1)) \\\n",
    "            + r\"\\%\" \"}$\" for item in bar_widths])\n",
    "\n",
    "    # Categorical labels\n",
    "    labels = np.array(\n",
    "        [\"Galaxy\"] + [\n",
    "        item.replace(\" \", \"\\n\") for item in \\\n",
    "            settings.component_labels.values()])\n",
    "\n",
    "    # Colors\n",
    "    colors = np.array([\"tab:gray\"] + list(settings.component_colors.values()))\n",
    "\n",
    "    order_idx = np.argsort(bar_widths)  # Order data\n",
    "\n",
    "    return (bar_widths[order_idx], num_labels[order_idx],\n",
    "        labels[order_idx], colors[order_idx])"
   ]
  },
  {
   "cell_type": "code",
   "execution_count": 18,
   "metadata": {},
   "outputs": [],
   "source": [
    "data = {}\n",
    "for galaxy in settings.groups[\"Included\"]:\n",
    "    simulation = f\"au{galaxy}_or_l4_s127\"\n",
    "    df = read_data(simulation)\n",
    "    bar_widths, num_labels, labels, colors = prepare_data(df)\n",
    "\n",
    "    data[simulation] = {\n",
    "        \"BarWidths\": list(bar_widths),\n",
    "        \"NumericalLabels\": list(num_labels),\n",
    "        \"ComponentLabel\": list(labels),\n",
    "        \"Colors\": list(colors),\n",
    "        }\n",
    "\n",
    "    # Sava data as json\n",
    "    with open(f\"../results/stellar_origin{SUFFIX}.json\", \"w\") as f:\n",
    "        json.dump(data, f)"
   ]
  },
  {
   "cell_type": "code",
   "execution_count": 24,
   "metadata": {},
   "outputs": [],
   "source": [
    "def create_in_situ_plot_for_galaxy(simulation: str):\n",
    "    # Read data\n",
    "    with open(f\"../results/stellar_origin{SUFFIX}.json\") as f:\n",
    "        data = json.load(f)[simulation]\n",
    "        bar_widths = np.array(data[\"BarWidths\"])\n",
    "        num_labels = data[\"NumericalLabels\"]\n",
    "        labels = data[\"ComponentLabel\"]\n",
    "        colors = data[\"Colors\"]\n",
    "\n",
    "    fig = plt.figure(figsize=(3.0, 2.5))\n",
    "    gs = fig.add_gridspec(nrows=1, ncols=1, hspace=0.0, wspace=0.0)\n",
    "    ax = gs.subplots(sharex=True, sharey=True)\n",
    "\n",
    "    ax.label_outer()\n",
    "    ax.tick_params(which='both', direction=\"in\",\n",
    "                   bottom=False, top=False, left=False, right=False)\n",
    "    ax.set_xlim(0, 100)\n",
    "    ax.set_xticks([0, 20, 40, 60, 80, 100])\n",
    "    ax.spines['top'].set_visible(False)\n",
    "    ax.spines['right'].set_visible(False)\n",
    "    ax.spines['left'].set_visible(False)\n",
    "\n",
    "    hbars = ax.barh(y=np.arange(bar_widths.shape[0]),\n",
    "                    width=100 * bar_widths,\n",
    "                    color=colors,\n",
    "                    linewidth=0)\n",
    "    padding = 1 if 100 * bar_widths.min() <= 20 else -30\n",
    "    ax.bar_label(hbars, labels=num_labels, padding=padding,)\n",
    "    ax.set_yticks(np.arange(bar_widths.shape[0]), labels=labels)\n",
    "    ax.set_xlabel('In-Situ Star Percentage')\n",
    "\n",
    "    ax.text(x=ax.get_xlim()[0], y=ax.get_ylim()[1],\n",
    "            s=r\"$\\texttt{\" + simulation.upper() + \"}$\",\n",
    "            size=8.0, ha='left', va='bottom',\n",
    "            )\n",
    "\n",
    "    fig.savefig(f\"../images/stellar_origin_by_region/{simulation}{SUFFIX}.pdf\")\n",
    "    plt.close(fig)"
   ]
  },
  {
   "cell_type": "code",
   "execution_count": 21,
   "metadata": {},
   "outputs": [],
   "source": [
    "# Create plots for all galaxies\n",
    "for i in settings.galaxies:\n",
    "    create_in_situ_plot_for_galaxy(simulation=f\"au{i}_or_l4_s127\")"
   ]
  }
 ],
 "metadata": {
  "kernelspec": {
   "display_name": "Python 3",
   "language": "python",
   "name": "python3"
  },
  "language_info": {
   "codemirror_mode": {
    "name": "ipython",
    "version": 3
   },
   "file_extension": ".py",
   "mimetype": "text/x-python",
   "name": "python",
   "nbconvert_exporter": "python",
   "pygments_lexer": "ipython3",
   "version": "3.7.3"
  },
  "orig_nbformat": 4
 },
 "nbformat": 4,
 "nbformat_minor": 2
}
