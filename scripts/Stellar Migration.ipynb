{
 "cells": [
  {
   "attachments": {},
   "cell_type": "markdown",
   "metadata": {},
   "source": [
    "# Stellar Migration"
   ]
  },
  {
   "cell_type": "code",
   "execution_count": 1,
   "metadata": {},
   "outputs": [
    {
     "name": "stderr",
     "output_type": "stream",
     "text": [
      "/u/fiza/conda-envs/auriga/lib/python3.7/site-packages/setuptools/_importlib.py:23: UserWarning: `importlib-metadata` version is incompatible with `setuptools`.\n",
      "This problem is likely to be solved by installing an updated version of `importlib-metadata`.\n",
      "  warnings.warn(msg)  # Ensure a descriptive message is shown.\n"
     ]
    }
   ],
   "source": [
    "import matplotlib.pyplot as plt\n",
    "import numpy as np\n",
    "import pandas as pd\n",
    "import json\n",
    "from scipy.stats import gaussian_kde"
   ]
  },
  {
   "cell_type": "code",
   "execution_count": 16,
   "metadata": {},
   "outputs": [],
   "source": [
    "from auriga.snapshot import Snapshot\n",
    "from auriga.images import figure_setup\n",
    "from auriga.settings import Settings\n",
    "from auriga.support import find_indices\n",
    "from auriga.parser import parse"
   ]
  },
  {
   "cell_type": "code",
   "execution_count": 3,
   "metadata": {},
   "outputs": [],
   "source": [
    "figure_setup()"
   ]
  },
  {
   "cell_type": "code",
   "execution_count": 4,
   "metadata": {},
   "outputs": [],
   "source": [
    "settings = Settings()"
   ]
  },
  {
   "cell_type": "code",
   "execution_count": 5,
   "metadata": {},
   "outputs": [],
   "source": [
    "DISC_STD_CIRC = settings.disc_std_circ\n",
    "DISC_MIN_CIRC = settings.disc_min_circ\n",
    "COLD_DISC_DELTA_CIRC = settings.cold_disc_delta_circ\n",
    "BULGE_MAX_SPECIFIC_ENERGY = -0.6\n",
    "SUFFIX = \"_02\""
   ]
  },
  {
   "cell_type": "markdown",
   "metadata": {},
   "source": [
    "## Calculate Stellar Migration"
   ]
  },
  {
   "cell_type": "code",
   "execution_count": 6,
   "metadata": {},
   "outputs": [],
   "source": [
    "def read_data(simulation: str) -> pd.DataFrame:\n",
    "    s = Snapshot(simulation=simulation, loadonlytype=[0, 1, 2, 3, 4, 5])\n",
    "    s.tag_in_situ_stars()\n",
    "    s.tag_particles_by_region(\n",
    "        disc_std_circ=DISC_STD_CIRC,\n",
    "        disc_min_circ=DISC_MIN_CIRC,\n",
    "        cold_disc_delta_circ=COLD_DISC_DELTA_CIRC,\n",
    "        bulge_max_specific_energy=BULGE_MAX_SPECIFIC_ENERGY)\n",
    "\n",
    "    is_real_star = (s.type == 4) & (s.stellar_formation_time > 0)\n",
    "    is_main_obj = (s.halo == s.halo_idx) & (s.subhalo == s.subhalo_idx)\n",
    "    is_in_situ = (s.is_in_situ == 1)\n",
    "    is_target = is_real_star & is_main_obj & is_in_situ\n",
    "\n",
    "    props = {\n",
    "        \"ID\": s.ids[is_target],\n",
    "        \"ComponentTag\": s.region_tag[is_target],\n",
    "        \"FormationSnapshot\": s.stellar_formation_snapshot[is_target],\n",
    "        }\n",
    "\n",
    "    return pd.DataFrame(props)"
   ]
  },
  {
   "cell_type": "code",
   "execution_count": 7,
   "metadata": {},
   "outputs": [],
   "source": [
    "def read_reduced_data(simulation: str) -> pd.DataFrame:\n",
    "    s = Snapshot(simulation=simulation, loadonlytype=[0, 1, 2, 3, 4, 5])\n",
    "    s.tag_particles_by_region(\n",
    "        disc_std_circ=DISC_STD_CIRC,\n",
    "        disc_min_circ=DISC_MIN_CIRC,\n",
    "        cold_disc_delta_circ=COLD_DISC_DELTA_CIRC,\n",
    "        bulge_max_specific_energy=BULGE_MAX_SPECIFIC_ENERGY)\n",
    "\n",
    "    is_real_star = (s.type == 4) & (s.stellar_formation_time > 0)\n",
    "    is_main_obj = (s.halo == s.halo_idx) & (s.subhalo == s.subhalo_idx)\n",
    "    is_target = is_real_star & is_main_obj\n",
    "\n",
    "    props = {\n",
    "        \"ID\": s.ids[is_target],\n",
    "        \"ComponentTag\": s.region_tag[is_target],\n",
    "        }\n",
    "\n",
    "    return pd.DataFrame(props)"
   ]
  },
  {
   "cell_type": "code",
   "execution_count": 29,
   "metadata": {},
   "outputs": [],
   "source": [
    "migration_matrices = {}\n",
    "\n",
    "for simulation in [f\"au{i}_or_l4\" for i in settings.galaxies]:\n",
    "    df = read_data(f\"{simulation}_s127\")\n",
    "\n",
    "    # Find component tag at birth\n",
    "    component_at_birth = -1 * np.ones(len(df), dtype=np.int8)\n",
    "    for i in range(40, 127, 1):\n",
    "        this_df = read_reduced_data(f\"{simulation}_s{i}\")\n",
    "\n",
    "        idx = find_indices(\n",
    "            this_df[\"ID\"].to_numpy(),\n",
    "            df[\"ID\"][df[\"FormationSnapshot\"] == i].to_numpy(),\n",
    "            -1)\n",
    "\n",
    "        component_at_birth[df[\"FormationSnapshot\"] == i] \\\n",
    "            = this_df[\"ComponentTag\"][idx].to_numpy()\n",
    "\n",
    "    # Add component tags at birth for the last snapshot\n",
    "    component_at_birth[df[\"FormationSnapshot\"] == 127] \\\n",
    "            = df[\"ComponentTag\"][df[\"FormationSnapshot\"] == 127].to_numpy()\n",
    "\n",
    "    df[\"ComponentTagAtBirth\"] = component_at_birth\n",
    "\n",
    "    migration_matrix = np.zeros((4, 4))\n",
    "    for i in range(0, 4):\n",
    "        n_particles = (df[\"ComponentTag\"] == i).sum()\n",
    "        for j in range(0, 4):\n",
    "            migration_matrix[i, j] = (\n",
    "                (df[\"ComponentTag\"] == i) \\\n",
    "                    & (df[\"ComponentTagAtBirth\"] == j)).sum() \\\n",
    "                        / n_particles * 100\n",
    "    \n",
    "    migration_matrices[simulation] = list(migration_matrix.flatten())\n",
    "\n",
    "    with open(f\"../results/stellar_migration{SUFFIX}.json\", \"w\") as f:\n",
    "        json.dump(migration_matrices, f)"
   ]
  },
  {
   "cell_type": "markdown",
   "metadata": {},
   "source": [
    "## Figures"
   ]
  },
  {
   "cell_type": "code",
   "execution_count": 21,
   "metadata": {},
   "outputs": [],
   "source": [
    "# Read data\n",
    "with open(f\"../results/stellar_migration{SUFFIX}.json\", 'r') as f:\n",
    "    migration_matrices = json.load(f)"
   ]
  },
  {
   "cell_type": "code",
   "execution_count": 18,
   "metadata": {},
   "outputs": [],
   "source": [
    "SIMULATION = \"au6_or_l4\"\n",
    "# SIMULATION = None"
   ]
  },
  {
   "cell_type": "code",
   "execution_count": 23,
   "metadata": {},
   "outputs": [],
   "source": [
    "SAMPLE = [f\"au{i}_or_l4\" for i in settings.groups[\"Included\"]]\n",
    "# SAMPLE = None"
   ]
  },
  {
   "cell_type": "code",
   "execution_count": 22,
   "metadata": {},
   "outputs": [],
   "source": [
    "if SIMULATION:\n",
    "    migration_matrix = np.array(migration_matrices[SIMULATION]).reshape(4, 4)\n",
    "\n",
    "    label = f\"Au{parse(SIMULATION)[0]}\"\n",
    "\n",
    "    fig = plt.figure(figsize=(3.0, 3.0))\n",
    "    gs = fig.add_gridspec(nrows=1, ncols=1, hspace=0.0, wspace=0.0)\n",
    "    ax = gs.subplots(sharex=True, sharey=False)\n",
    "\n",
    "    ax.matshow(migration_matrix, cmap=\"viridis\", vmin=0, vmax=100)\n",
    "\n",
    "    ax.set_xlabel(r\"Component at Birth\")\n",
    "    ax.set_xticks([0, 1, 2, 3])\n",
    "    ax.set_xticklabels(settings.components)\n",
    "    ax.tick_params(axis='x', bottom=True, top=False,\n",
    "                   labelbottom=True, labeltop=False)\n",
    "\n",
    "    ax.set_ylabel(r\"Component at $z=0$\")\n",
    "    ax.set_yticks([0, 1, 2, 3])\n",
    "    ax.set_yticklabels(settings.components)\n",
    "\n",
    "    for i in range(migration_matrix.shape[0]):\n",
    "        for j in range(migration_matrix.shape[1]):\n",
    "            color = \"white\" if migration_matrix[j, i] < 50 else \"black\"\n",
    "            ax.text(\n",
    "                i, j,\n",
    "                r\"$\\mathbf{\" + f\"{np.round(migration_matrix[j, i], 1)}\" + r\"\\%}$\",\n",
    "                c=color, ha=\"center\", va=\"center\")\n",
    "\n",
    "    ax.text(x=0.01, y=1.01, size=7.0,\n",
    "            s=r\"$\\texttt{\" + label + \"}$\",\n",
    "            ha=\"left\", va=\"bottom\", transform=ax.transAxes)\n",
    "\n",
    "    fig.savefig(f\"../images/stellar_migration/{SIMULATION}{SUFFIX}.pdf\")\n",
    "    plt.close(fig)"
   ]
  },
  {
   "cell_type": "code",
   "execution_count": 40,
   "metadata": {},
   "outputs": [],
   "source": [
    "if SAMPLE:\n",
    "    fig, axs = plt.subplots(figsize=(7, 8), nrows=6, ncols=4,\n",
    "                            sharey=True, sharex=True,\n",
    "                            gridspec_kw={\"hspace\": 0.15, \"wspace\": -0.1})\n",
    "\n",
    "    for i, simulation in enumerate(SAMPLE):\n",
    "        label = f\"Au{parse(simulation)[0]}\"\n",
    "        ax = axs.flatten()[i]\n",
    "        migration_matrix = np.array(\n",
    "            migration_matrices[simulation]).reshape(4, 4)\n",
    "        ax.matshow(migration_matrix, cmap=\"viridis\", vmin=0, vmax=100)\n",
    "        ax.text(\n",
    "            x=0.01, y=1.01, size=6.0,\n",
    "            s=r\"$\\texttt{\" + label + \"}$\",\n",
    "            ha=\"left\", va=\"bottom\", transform=ax.transAxes)\n",
    "\n",
    "        for a in range(migration_matrix.shape[0]):\n",
    "            for b in range(migration_matrix.shape[1]):\n",
    "                color = \"white\" if migration_matrix[b, a] < 50 else \"black\"\n",
    "                ax.text(\n",
    "                    a, b,\n",
    "                    r\"$\\mathbf{\" + f\"{np.round(migration_matrix[b, a], 1)}\" \\\n",
    "                        + r\"\\%}$\",\n",
    "                    c=color, ha=\"center\", va=\"center\", size=3.5)\n",
    "\n",
    "    for ax in axs.flatten():\n",
    "        ax.tick_params(which='both', direction=\"in\")\n",
    "        if ax == axs[-1, -1]: ax.axis(\"off\")\n",
    "        ax.set_xticks([0, 1, 2, 3])\n",
    "        ax.set_xticklabels(settings.components)\n",
    "        ax.set_axisbelow(True)\n",
    "        if ax.get_subplotspec().is_last_row() or ax == axs[-2, -1]:\n",
    "            ax.set_xlabel(r\"Comp. at Birth\")\n",
    "            ax.tick_params(axis='x', bottom=True, top=False,\n",
    "                           labelbottom=True, labeltop=False)\n",
    "        if ax.get_subplotspec().is_first_col():\n",
    "            ax.set_yticks([0, 1, 2, 3])\n",
    "            ax.set_yticklabels(settings.components)\n",
    "            ax.set_ylabel(r\"Comp. at $z=0$\")\n",
    "        else:\n",
    "            ax.tick_params(axis='y', left=False, right=False,\n",
    "                           labelbottom=False, labeltop=False)\n",
    "        ax.xaxis.label.set_size(8.0)\n",
    "        ax.yaxis.label.set_size(8.0)\n",
    "\n",
    "    fig.savefig(\n",
    "        f\"../images/stellar_migration/included{SUFFIX}.pdf\")\n",
    "    plt.close(fig)"
   ]
  },
  {
   "cell_type": "markdown",
   "metadata": {},
   "source": [
    "### Averages"
   ]
  },
  {
   "cell_type": "code",
   "execution_count": null,
   "metadata": {},
   "outputs": [],
   "source": [
    "# # Turn dictionary into array\n",
    "# migration_matrices_arr = np.nan * np.ones((31, 4, 4))\n",
    "# for i in settings.galaxies:\n",
    "#     migration_matrices_arr[i] = np.array(\n",
    "#         migration_matrices[f\"au{i}_or_l4\"]).reshape(4, 4)"
   ]
  },
  {
   "cell_type": "code",
   "execution_count": null,
   "metadata": {},
   "outputs": [],
   "source": [
    "# groups = [[i for i in range(1, 31)],\n",
    "#           settings.groups[\"MilkyWayLike\"],\n",
    "#           settings.groups[\"NotMilkyWayLike\"],\n",
    "#           settings.groups[\"InsideOut\"],\n",
    "#           settings.groups[\"NotInsideOut\"]]\n",
    "# names = [\"All\", \"G1\", \"G2\", \"IO\", \"OI\"]\n",
    "# colors = [\"black\", \"tab:green\", \"tab:red\", \"tab:purple\", \"tab:blue\"]"
   ]
  },
  {
   "cell_type": "code",
   "execution_count": null,
   "metadata": {},
   "outputs": [],
   "source": [
    "# fig = plt.figure(figsize=(7.2, 7.2))\n",
    "# gs = fig.add_gridspec(nrows=4, ncols=4, hspace=0.0, wspace=0.0)\n",
    "# axs = gs.subplots(sharex=True, sharey=False)\n",
    "\n",
    "# for ax in axs.flatten():\n",
    "#     ax.set_xlim(0, 100)\n",
    "#     ax.set_xticks([20, 40, 60, 80])\n",
    "#     ax.set_xlabel(r\"$f_\\star$ [\\%]\")\n",
    "#     ax.set_ylim(0, 0.14)\n",
    "#     ax.set_yticks([0.02, 0.04, 0.06, 0.08, 0.10, 0.12])\n",
    "#     ax.set_ylabel(\"PDF\")\n",
    "#     ax.label_outer()\n",
    "\n",
    "# for i in range(len(settings.components)):\n",
    "#     for j in range(len(settings.components)):\n",
    "#         title = r\"$\\textbf{\" + settings.components[j] + r\"}_\\mathrm{Birth} \\to \\textbf{\" \\\n",
    "#             + settings.components[i] + r\"}_\\mathrm{Today}$\"\n",
    "#         axs[i, j].text(x=0.5, y=0.95, s=title,\n",
    "#                        size=7.5, transform=axs[i, j].transAxes,\n",
    "#                        ha=\"center\", va=\"top\")\n",
    "#         for k, group in enumerate(groups):\n",
    "#             axs[i, j].hist(migration_matrices_arr[group, i, j],\n",
    "#                            range=(0, 100), bins=10, density=True, lw=1.5,\n",
    "#                            histtype=\"step\", color=colors[k], label=names[k])\n",
    "\n",
    "# axs[0, 0].legend(loc=\"center right\", framealpha=0, fontsize=7.0)\n",
    "\n",
    "# fig.savefig(f\"../images/stellar_migration/statistics.pdf\")\n",
    "# plt.close(fig)"
   ]
  }
 ],
 "metadata": {
  "kernelspec": {
   "display_name": "Python 3",
   "language": "python",
   "name": "python3"
  },
  "language_info": {
   "codemirror_mode": {
    "name": "ipython",
    "version": 3
   },
   "file_extension": ".py",
   "mimetype": "text/x-python",
   "name": "python",
   "nbconvert_exporter": "python",
   "pygments_lexer": "ipython3",
   "version": "3.7.3"
  },
  "orig_nbformat": 4
 },
 "nbformat": 4,
 "nbformat_minor": 2
}
