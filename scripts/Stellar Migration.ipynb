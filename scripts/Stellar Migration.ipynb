{
 "cells": [
  {
   "attachments": {},
   "cell_type": "markdown",
   "metadata": {},
   "source": [
    "# Stellar Migration"
   ]
  },
  {
   "cell_type": "code",
   "execution_count": 1,
   "metadata": {},
   "outputs": [],
   "source": [
    "import os\n",
    "os.environ[\"MKL_NUM_THREADS\"] = \"1\"\n",
    "os.environ[\"NUMEXPR_NUM_THREADS\"] = \"1\"\n",
    "os.environ[\"OMP_NUM_THREADS\"] = \"1\""
   ]
  },
  {
   "cell_type": "code",
   "execution_count": 2,
   "metadata": {},
   "outputs": [],
   "source": [
    "import matplotlib.pyplot as plt\n",
    "import numpy as np\n",
    "import pandas as pd\n",
    "import json\n",
    "from scipy.stats import gaussian_kde\n",
    "import yaml\n",
    "from multiprocessing import Pool"
   ]
  },
  {
   "cell_type": "code",
   "execution_count": 3,
   "metadata": {},
   "outputs": [],
   "source": [
    "from auriga.snapshot import Snapshot\n",
    "from auriga.images import figure_setup\n",
    "from auriga.settings import Settings\n",
    "from auriga.support import find_indices\n",
    "from auriga.parser import parse"
   ]
  },
  {
   "cell_type": "code",
   "execution_count": 4,
   "metadata": {},
   "outputs": [],
   "source": [
    "figure_setup()"
   ]
  },
  {
   "cell_type": "code",
   "execution_count": 5,
   "metadata": {},
   "outputs": [],
   "source": [
    "settings = Settings()"
   ]
  },
  {
   "cell_type": "code",
   "execution_count": 6,
   "metadata": {},
   "outputs": [],
   "source": [
    "CONFIG_FILE = \"02\"\n",
    "config = yaml.safe_load(open(f\"../configs/{CONFIG_FILE}.yml\"))"
   ]
  },
  {
   "cell_type": "markdown",
   "metadata": {},
   "source": [
    "## Calculate Stellar Migration"
   ]
  },
  {
   "cell_type": "code",
   "execution_count": 7,
   "metadata": {},
   "outputs": [],
   "source": [
    "def read_data(simulation: str, config: dict) -> pd.DataFrame:\n",
    "    s = Snapshot(simulation=simulation, loadonlytype=[0, 1, 2, 3, 4, 5])\n",
    "    s.tag_in_situ_stars()\n",
    "    s.tag_particles_by_region(\n",
    "        disc_std_circ=config[\"DISC_STD_CIRC\"],\n",
    "        disc_min_circ=config[\"DISC_MIN_CIRC\"],\n",
    "        cold_disc_delta_circ=config[\"COLD_DISC_DELTA_CIRC\"],\n",
    "        bulge_max_specific_energy=config[\"BULGE_MAX_SPECIFIC_ENERGY\"])\n",
    "    s.add_stellar_age()\n",
    "\n",
    "    is_real_star = (s.type == 4) & (s.stellar_formation_time > 0)\n",
    "    is_main_obj = (s.halo == s.halo_idx) & (s.subhalo == s.subhalo_idx)\n",
    "    is_target = is_real_star & is_main_obj\n",
    "\n",
    "    props = {\n",
    "        \"ID\": s.ids[is_target],\n",
    "        \"ComponentTag\": s.region_tag[is_target],\n",
    "        \"Mass_Msun\": s.mass[is_target],\n",
    "        \"IsInSitu\": s.is_in_situ[is_target],\n",
    "        \"FormationSnapshot\": s.stellar_formation_snapshot[is_target],\n",
    "        \"StellarAge_Gyr\": s.stellar_age[is_target],\n",
    "        }\n",
    "    \n",
    "    # region Abundances\n",
    "    for of, to in [(\"Fe\", \"H\"), (\"O\", \"H\"), (\"O\", \"Fe\")]:\n",
    "        s.add_metal_abundance(of, to)\n",
    "        props[f\"Abundance_[{of}/{to}]\"] = s.metal_abundance[\n",
    "            f\"{of}/{to}\"][is_target]\n",
    "    # endregion\n",
    "\n",
    "    return pd.DataFrame(props)"
   ]
  },
  {
   "cell_type": "code",
   "execution_count": 8,
   "metadata": {},
   "outputs": [],
   "source": [
    "def read_reduced_data(simulation: str, config: dict) -> pd.DataFrame:\n",
    "    s = Snapshot(simulation=simulation, loadonlytype=[0, 1, 2, 3, 4, 5])\n",
    "    s.tag_particles_by_region(\n",
    "        disc_std_circ=config[\"DISC_STD_CIRC\"],\n",
    "        disc_min_circ=config[\"DISC_MIN_CIRC\"],\n",
    "        cold_disc_delta_circ=config[\"COLD_DISC_DELTA_CIRC\"],\n",
    "        bulge_max_specific_energy=config[\"BULGE_MAX_SPECIFIC_ENERGY\"])\n",
    "\n",
    "    is_real_star = (s.type == 4) & (s.stellar_formation_time > 0)\n",
    "    is_main_obj = (s.halo == s.halo_idx) & (s.subhalo == s.subhalo_idx)\n",
    "    is_target = is_real_star & is_main_obj\n",
    "\n",
    "    props = {\n",
    "        \"ID\": s.ids[is_target],\n",
    "        \"Mass_Msun\": s.mass[is_target],\n",
    "        \"ComponentTag\": s.region_tag[is_target],\n",
    "        }\n",
    "\n",
    "    return pd.DataFrame(props)"
   ]
  },
  {
   "cell_type": "code",
   "execution_count": 9,
   "metadata": {},
   "outputs": [],
   "source": [
    "def calculate_migration_matrix(simulation: str, config: dict) -> None:\n",
    "    settings = Settings()\n",
    "    df = read_data(f\"{simulation}_s127\", config)\n",
    "\n",
    "    # region Find Component at Birth\n",
    "    component_at_birth = -1 * np.ones(len(df), dtype=np.int8)\n",
    "    for i in range(40, 127, 1):\n",
    "        this_df = read_reduced_data(f\"{simulation}_s{i}\", config)\n",
    "\n",
    "        idx = find_indices(\n",
    "            this_df[\"ID\"].to_numpy(),\n",
    "            df[\"ID\"][\n",
    "                (df[\"FormationSnapshot\"] == i) & df[\"IsInSitu\"]].to_numpy(),\n",
    "            -1)\n",
    "        idx = idx[idx >= 0]\n",
    "\n",
    "        component_at_birth[(df[\"FormationSnapshot\"] == i) & df[\"IsInSitu\"]] \\\n",
    "            = this_df[\"ComponentTag\"][idx].to_numpy()\n",
    "\n",
    "    # Add component tags at birth for the last snapshot\n",
    "    component_at_birth[(df[\"FormationSnapshot\"] == 127) & df[\"IsInSitu\"]] \\\n",
    "            = df[\"ComponentTag\"][df[\"FormationSnapshot\"] == 127].to_numpy()\n",
    "\n",
    "    df[\"ComponentTagAtBirth\"] = component_at_birth\n",
    "    # endregion\n",
    "\n",
    "    # region Migration Matrix\n",
    "    migration_matrix = np.zeros((4, 4))\n",
    "    for i in range(0, 4):\n",
    "        mass = df[\"Mass_Msun\"][\n",
    "            (df[\"ComponentTag\"] == i) & df[\"IsInSitu\"]].sum()\n",
    "        for j in range(0, 4):\n",
    "            this_mass = df[\"Mass_Msun\"][\n",
    "                (df[\"ComponentTag\"] == i) & df[\"IsInSitu\"] \\\n",
    "                    & (df[\"ComponentTagAtBirth\"] == j)].sum()\n",
    "            migration_matrix[i, j] = this_mass / mass * 100\n",
    "    np.save(f\"../results/{simulation}/\"\n",
    "            f\"migration_matrix{config['FILE_SUFFIX']}.npy\", migration_matrix)\n",
    "    # endregion\n",
    "\n",
    "    # region Distribution of Stellar Ages\n",
    "    age_distribution = {}\n",
    "    pdf_x = np.linspace(0.0, 14.0, 100)\n",
    "    for i in range(0, 4):\n",
    "        c_to = settings.components[i]\n",
    "        component_mass = df[\"Mass_Msun\"][df[\"ComponentTag\"] == i].sum()\n",
    "        age_distribution[f\"StellarMassFraction_{i}\"] = np.histogram(\n",
    "            a=df[\"StellarAge_Gyr\"][df[\"ComponentTag\"] == i],\n",
    "            bins=50, range=(0, 14),\n",
    "            weights=df[\"Mass_Msun\"][df[\"ComponentTag\"] == i] / component_mass)[0]\n",
    "        age_distribution[f\"StellarMassFraction_{i}_InSitu\"] = np.histogram(\n",
    "                a=df[\"StellarAge_Gyr\"][\n",
    "                    (df[\"IsInSitu\"] == 1) & (df[\"ComponentTag\"] == i)],\n",
    "                bins=50, range=(0, 14),\n",
    "                weights=df[\"Mass_Msun\"][\n",
    "                    (df[\"IsInSitu\"] == 1) & (df[\"ComponentTag\"] == i)\n",
    "                    ] / component_mass)[0]\n",
    "        age_distribution[\n",
    "            f\"StellarMassFraction_{i}_ExSitu\"] = np.histogram(\n",
    "                a=df[\"StellarAge_Gyr\"][\n",
    "                    (df[\"IsInSitu\"] == 0) & (df[\"ComponentTag\"] == i)],\n",
    "                bins=50, range=(0, 14),\n",
    "                weights=df[\"Mass_Msun\"][\n",
    "                    (df[\"IsInSitu\"] == 0) & (df[\"ComponentTag\"] == i)\n",
    "                    ] / component_mass)[0]\n",
    "        for j in range(0, 4):\n",
    "            c_from = settings.components[j]\n",
    "            mask = (df[\"ComponentTagAtBirth\"] == j) \\\n",
    "                & df[\"IsInSitu\"] & (df[\"ComponentTag\"] == i)\n",
    "            h, bin_edges = np.histogram(\n",
    "                    a=df[f\"StellarAge_Gyr\"][mask],\n",
    "                    bins=50, range=(0, 14),\n",
    "                    weights=df[f\"Mass_Msun\"][mask] / component_mass,\n",
    "                )\n",
    "            bin_centers = bin_edges[1:] - np.diff(bin_edges) / 2\n",
    "            age_distribution[f\"StellarMassFraction_{j}to{i}\"] = h\n",
    "    age_distribution[\"StellarAge_Gyr\"] = bin_centers\n",
    "    age_distribution = pd.DataFrame(age_distribution)\n",
    "    age_distribution.to_csv(\n",
    "        f\"../results/{simulation}/\"\n",
    "        f\"stellar_migration_age_distribution{config['FILE_SUFFIX']}.csv\")\n",
    "    # endregion\n",
    "    \n",
    "    # region Distribution of Abundances\n",
    "    abundances = [(\"Fe\", \"H\"), (\"O\", \"H\"), (\"O\", \"Fe\")]\n",
    "    abundance_ranges = [(-2.5, 1), (-2, 1.5), (0.1, 0.4)]\n",
    "    for a, (of, to) in enumerate(abundances):\n",
    "        abundance_distribution = {}\n",
    "        for i in range(0, 4):\n",
    "            c_to = settings.components[i]\n",
    "            component_mass = df[\"Mass_Msun\"][df[\"ComponentTag\"] == i].sum()\n",
    "            abundance_distribution[f\"StellarMassFraction_{i}\"] = np.histogram(\n",
    "                a=df[f\"Abundance_[{of}/{to}]\"][df[\"ComponentTag\"] == i],\n",
    "                bins=50, range=abundance_ranges[a],\n",
    "                weights=df[\"Mass_Msun\"][df[\"ComponentTag\"] == i] / component_mass)[0]\n",
    "            abundance_distribution[\n",
    "                f\"StellarMassFraction_{i}_InSitu\"] = np.histogram(\n",
    "                    a=df[f\"Abundance_[{of}/{to}]\"][\n",
    "                        (df[\"IsInSitu\"] == 1) & (df[\"ComponentTag\"] == i)],\n",
    "                    bins=50, range=abundance_ranges[a],\n",
    "                    weights=df[\"Mass_Msun\"][\n",
    "                        (df[\"IsInSitu\"] == 1) & (df[\"ComponentTag\"] == i)\n",
    "                        ] / component_mass)[0]\n",
    "            abundance_distribution[\n",
    "                f\"StellarMassFraction_{i}_ExSitu\"] = np.histogram(\n",
    "                    a=df[f\"Abundance_[{of}/{to}]\"][\n",
    "                        (df[\"IsInSitu\"] == 0) & (df[\"ComponentTag\"] == i)],\n",
    "                    bins=50, range=abundance_ranges[a],\n",
    "                    weights=df[\"Mass_Msun\"][\n",
    "                        (df[\"IsInSitu\"] == 0) & (df[\"ComponentTag\"] == i)\n",
    "                        ] / component_mass)[0]\n",
    "            for j in range(0, 4):\n",
    "                c_from = settings.components[j]\n",
    "                mask = (df[\"ComponentTagAtBirth\"] == j) \\\n",
    "                    & df[\"IsInSitu\"] & (df[\"ComponentTag\"] == i)\n",
    "                h, bin_edges = np.histogram(\n",
    "                    a=df[f\"Abundance_[{of}/{to}]\"][mask],\n",
    "                    bins=50, range=abundance_ranges[a],\n",
    "                    weights=df[\"Mass_Msun\"][mask] / component_mass,\n",
    "                )\n",
    "                bin_centers = bin_edges[1:] - np.diff(bin_edges) / 2\n",
    "                abundance_distribution[f\"StellarMassFraction_{j}to{i}\"] = h\n",
    "        abundance_distribution[f\"Abundance_[{of}/{to}]\"] = bin_centers\n",
    "        abundance_distribution = pd.DataFrame(abundance_distribution)\n",
    "        abundance_distribution.to_csv(\n",
    "            f\"../results/{simulation}/\"\n",
    "            f\"stellar_migration_abundance_{of}{to}\"\n",
    "            f\"_dist{config['FILE_SUFFIX']}.csv\")\n",
    "    # endregion\n",
    "\n",
    "    print(f\"{simulation} Ok.\")"
   ]
  },
  {
   "cell_type": "code",
   "execution_count": 11,
   "metadata": {},
   "outputs": [
    {
     "name": "stdout",
     "output_type": "stream",
     "text": [
      "au27_or_l4 Ok.\n",
      "au24_or_l4 Ok.\n",
      "au26_or_l4 Ok.\n"
     ]
    }
   ],
   "source": [
    "# args = [(f\"au{i}_or_l4\", config) for i in settings.groups[\"Included\"]]\n",
    "args = [(f\"au{i}_or_l4\", config) for i in [24, 26, 27]]\n",
    "_ = Pool(8).starmap(calculate_migration_matrix, args)"
   ]
  }
 ],
 "metadata": {
  "kernelspec": {
   "display_name": "Python 3",
   "language": "python",
   "name": "python3"
  },
  "language_info": {
   "codemirror_mode": {
    "name": "ipython",
    "version": 3
   },
   "file_extension": ".py",
   "mimetype": "text/x-python",
   "name": "python",
   "nbconvert_exporter": "python",
   "pygments_lexer": "ipython3",
   "version": "3.7.3"
  },
  "orig_nbformat": 4
 },
 "nbformat": 4,
 "nbformat_minor": 2
}
