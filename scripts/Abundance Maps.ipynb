{
 "cells": [
  {
   "attachments": {},
   "cell_type": "markdown",
   "metadata": {},
   "source": [
    "# Oxygen Abundance"
   ]
  },
  {
   "cell_type": "code",
   "execution_count": 46,
   "metadata": {},
   "outputs": [],
   "source": [
    "import matplotlib.pyplot as plt\n",
    "import matplotlib.colors as mcolors\n",
    "import numpy as np\n",
    "import pandas as pd"
   ]
  },
  {
   "cell_type": "code",
   "execution_count": 47,
   "metadata": {},
   "outputs": [],
   "source": [
    "from auriga.snapshot import Snapshot\n",
    "from auriga.images import figure_setup\n",
    "from auriga.settings import Settings\n",
    "from auriga.parser import parse"
   ]
  },
  {
   "cell_type": "code",
   "execution_count": 48,
   "metadata": {},
   "outputs": [],
   "source": [
    "figure_setup()\n",
    "settings = Settings()"
   ]
  },
  {
   "cell_type": "code",
   "execution_count": 49,
   "metadata": {},
   "outputs": [],
   "source": [
    "N_BINS = 200\n",
    "MIN_PART_COUNT = 1E0\n",
    "MAX_PART_COUNT = 1E3"
   ]
  },
  {
   "cell_type": "code",
   "execution_count": 50,
   "metadata": {},
   "outputs": [],
   "source": [
    "DISC_STD_CIRC = settings.disc_std_circ\n",
    "DISC_MIN_CIRC = settings.disc_min_circ\n",
    "COLD_DISC_DELTA_CIRC = settings.cold_disc_delta_circ\n",
    "BULGE_MAX_SPECIFIC_ENERGY = -0.6\n",
    "SUFFIX = \"_02\""
   ]
  },
  {
   "cell_type": "code",
   "execution_count": 51,
   "metadata": {},
   "outputs": [],
   "source": [
    "def read_data(simulation: str, tag_by_region: bool = False) -> pd.DataFrame:\n",
    "    settings = Settings()\n",
    "\n",
    "    s = Snapshot(simulation=simulation, loadonlytype=[0, 1, 2, 3, 4, 5])\n",
    "    s.add_metal_abundance(of=\"Fe\", to='H')\n",
    "    s.add_metal_abundance(of='O', to=\"Fe\")\n",
    "\n",
    "    is_real_star = (s.type == 4) & (s.stellar_formation_time > 0)\n",
    "    is_main_obj = (s.halo == s.halo_idx) & (s.subhalo == s.subhalo_idx)\n",
    "\n",
    "    props = {\n",
    "        \"[Fe/H]\": s.metal_abundance[\"Fe/H\"][is_real_star & is_main_obj],\n",
    "        \"[O/Fe]\": s.metal_abundance[\"O/Fe\"][is_real_star & is_main_obj],}\n",
    "\n",
    "    if tag_by_region:\n",
    "        s.tag_particles_by_region(\n",
    "            disc_std_circ=DISC_STD_CIRC,\n",
    "            disc_min_circ=DISC_MIN_CIRC,\n",
    "            cold_disc_delta_circ=COLD_DISC_DELTA_CIRC,\n",
    "            bulge_max_specific_energy=BULGE_MAX_SPECIFIC_ENERGY)\n",
    "        props[\"ComponentTag\"] = s.region_tag[is_real_star & is_main_obj]\n",
    "\n",
    "    return pd.DataFrame(props)"
   ]
  },
  {
   "cell_type": "code",
   "execution_count": 52,
   "metadata": {},
   "outputs": [],
   "source": [
    "def plot_map_for_simulation(simulation: str) -> None:\n",
    "    settings = Settings()\n",
    "    galaxy = parse(simulation)[0]\n",
    "    label = f\"Au{galaxy}\"\n",
    "    df = read_data(simulation=simulation, tag_by_region=True)\n",
    "\n",
    "    fig = plt.figure(figsize=(7.4, 2.0))\n",
    "    gs = fig.add_gridspec(nrows=1, ncols=4, hspace=0.0, wspace=0.0)\n",
    "    axs = gs.subplots(sharex=True, sharey=True)\n",
    "\n",
    "    for ax in axs.flat:\n",
    "        ax.set_xlim(-1, 1)\n",
    "        ax.set_xticks([-0.5, 0, 0.5])\n",
    "        ax.set_xlabel(\"[Fe/H]\")\n",
    "\n",
    "        ax.set_ylim(0.15, 0.35)\n",
    "        ax.set_yticks([0.2, 0.25, 0.3])\n",
    "        ax.set_ylabel(\"[O/Fe]\")\n",
    "\n",
    "        ax.tick_params(which='both', direction=\"in\")\n",
    "        ax.label_outer()\n",
    "\n",
    "    for i in range(len(settings.components)):\n",
    "        is_region = (df[\"ComponentTag\"] == i)\n",
    "\n",
    "        im = axs[i].hist2d(\n",
    "            df[\"[Fe/H]\"][is_region], df[\"[O/Fe]\"][is_region],\n",
    "            cmap='nipy_spectral', bins=N_BINS,\n",
    "            range=[axs[i].get_xlim(), axs[i].get_ylim()],\n",
    "            norm=mcolors.LogNorm(vmin=MIN_PART_COUNT, vmax=MAX_PART_COUNT),\n",
    "            rasterized=True)[-1]\n",
    "\n",
    "        axs[i].text(\n",
    "            x=0.05, y=0.05, ha=\"left\", va=\"bottom\",\n",
    "            s=r\"$\\textbf{\" \\\n",
    "                + list(settings.component_labels.values())[i] + \"}$\",\n",
    "            c=list(settings.component_colors.values())[i],\n",
    "            size=8.0, transform=axs[i].transAxes)\n",
    "\n",
    "    cbar = fig.colorbar(im, ax=axs[-1], orientation='vertical',\n",
    "                        label=r'$N_\\star$', pad=0)\n",
    "    cbar.ax.set_yticks([1E0, 1E1, 1E2, 1E3])\n",
    "\n",
    "    axs[0].text(x=axs[0].get_xlim()[0], y=axs[0].get_ylim()[1],\n",
    "                s=r\"$\\texttt{\" + label + \"}$\",\n",
    "                size=8.0, ha='left', va='bottom',\n",
    "                )\n",
    "\n",
    "    fig.savefig(\n",
    "        f\"../images/metallicity/map_OFe_vs_FeH_{simulation}{SUFFIX}.pdf\")\n",
    "    plt.close(fig)"
   ]
  },
  {
   "cell_type": "code",
   "execution_count": 53,
   "metadata": {},
   "outputs": [],
   "source": [
    "def plot_map_for_sample() -> None:\n",
    "    fig = plt.figure(figsize=(7, 8))\n",
    "    gs = fig.add_gridspec(nrows=6, ncols=4, hspace=0.0, wspace=0.0)\n",
    "    axs = gs.subplots(sharex=True, sharey=True)\n",
    "\n",
    "    for ax in axs.flatten():\n",
    "        ax.tick_params(which='both', direction=\"in\")\n",
    "        if ax == axs[-1, -1]: ax.axis(\"off\")\n",
    "        ax.set_xlim(-1, 1)\n",
    "        ax.set_xticks([-0.5, 0, 0.5])\n",
    "        ax.set_ylim(0.15, 0.35)\n",
    "        ax.set_yticks([0.20, 0.25, 0.30])\n",
    "        ax.set_axisbelow(True)\n",
    "        if ax.get_subplotspec().is_last_row() or ax == axs[-2, -1]:\n",
    "            ax.set_xlabel(\"[Fe/H]\")\n",
    "            ax.tick_params(labelbottom=True)\n",
    "        if ax.get_subplotspec().is_first_col():\n",
    "            ax.set_ylabel(\"[O/Fe]\")\n",
    "\n",
    "    for i in range(len(settings.groups[\"Included\"])):\n",
    "        ax = axs.flatten()[i]\n",
    "        galaxy = settings.groups[\"Included\"][i]\n",
    "        simulation = f\"au{galaxy}_or_l4_s127\"\n",
    "        label = f\"Au{galaxy}\"\n",
    "        df = read_data(simulation=simulation)\n",
    "        ax.hist2d(df[\"[Fe/H]\"], df[\"[O/Fe]\"],\n",
    "                  cmap='nipy_spectral',\n",
    "                  bins=N_BINS,\n",
    "                  range=[ax.get_xlim(), ax.get_ylim()],\n",
    "                  norm=mcolors.LogNorm(vmin=MIN_PART_COUNT,\n",
    "                                       vmax=MAX_PART_COUNT),\n",
    "                  rasterized=True)\n",
    "\n",
    "        ax.text(x=0.05, y=0.95, s=r\"$\\texttt{\" + label + \"}$\",\n",
    "                size=6.0, transform=ax.transAxes, ha='left', va='top')\n",
    "\n",
    "        fig.savefig(\n",
    "            f\"../images/metallicity/map_OFe_vs_FeH_included{SUFFIX}.pdf\")\n",
    "\n",
    "    plt.close(fig)"
   ]
  },
  {
   "cell_type": "code",
   "execution_count": 54,
   "metadata": {},
   "outputs": [],
   "source": [
    "plot_map_for_simulation(simulation=\"au6_or_l4_s127\")\n",
    "\n",
    "# SAMPLE = [f\"au{i}_or_l4_s127\" for i in settings.groups[\"Included\"]]\n",
    "# for simulation in SAMPLE:\n",
    "#     plot_map_for_simulation(simulation=simulation)\n",
    "\n",
    "# plot_map_for_sample()"
   ]
  }
 ],
 "metadata": {
  "kernelspec": {
   "display_name": "Python 3",
   "language": "python",
   "name": "python3"
  },
  "language_info": {
   "codemirror_mode": {
    "name": "ipython",
    "version": 3
   },
   "file_extension": ".py",
   "mimetype": "text/x-python",
   "name": "python",
   "nbconvert_exporter": "python",
   "pygments_lexer": "ipython3",
   "version": "3.7.3"
  },
  "orig_nbformat": 4
 },
 "nbformat": 4,
 "nbformat_minor": 2
}
