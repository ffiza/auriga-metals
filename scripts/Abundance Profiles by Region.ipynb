{
 "cells": [
  {
   "attachments": {},
   "cell_type": "markdown",
   "metadata": {},
   "source": [
    "# Abundance Profiles by Region"
   ]
  },
  {
   "cell_type": "code",
   "execution_count": 1,
   "metadata": {},
   "outputs": [],
   "source": [
    "import os\n",
    "os.environ[\"MKL_NUM_THREADS\"] = \"1\"\n",
    "os.environ[\"NUMEXPR_NUM_THREADS\"] = \"1\"\n",
    "os.environ[\"OMP_NUM_THREADS\"] = \"1\""
   ]
  },
  {
   "cell_type": "code",
   "execution_count": 2,
   "metadata": {},
   "outputs": [
    {
     "name": "stderr",
     "output_type": "stream",
     "text": [
      "/u/fiza/conda-envs/auriga/lib/python3.7/site-packages/setuptools/_importlib.py:23: UserWarning: `importlib-metadata` version is incompatible with `setuptools`.\n",
      "This problem is likely to be solved by installing an updated version of `importlib-metadata`.\n",
      "  warnings.warn(msg)  # Ensure a descriptive message is shown.\n"
     ]
    }
   ],
   "source": [
    "from multiprocessing import Pool\n",
    "import matplotlib.pyplot as plt\n",
    "import numpy as np\n",
    "import pandas as pd\n",
    "from scipy.stats import binned_statistic\n",
    "import yaml"
   ]
  },
  {
   "cell_type": "code",
   "execution_count": 3,
   "metadata": {},
   "outputs": [],
   "source": [
    "from auriga.parser import parse\n",
    "from auriga.images import figure_setup\n",
    "from auriga.snapshot import Snapshot\n",
    "from auriga.settings import Settings\n",
    "from auriga.physics import Physics"
   ]
  },
  {
   "cell_type": "code",
   "execution_count": 4,
   "metadata": {},
   "outputs": [],
   "source": [
    "RXY_RANGE: tuple = (0, 30)\n",
    "N_BINS: int = 30\n",
    "CONFIG_FILE: str = \"02\""
   ]
  },
  {
   "cell_type": "code",
   "execution_count": 5,
   "metadata": {},
   "outputs": [],
   "source": [
    "figure_setup()\n",
    "settings = Settings()\n",
    "config = yaml.safe_load(open(f\"../configs/{CONFIG_FILE}.yml\"))\n",
    "sample = [f\"au{i}_or_l4_s127\" for i in settings.groups[\"Included\"]]"
   ]
  },
  {
   "cell_type": "code",
   "execution_count": 10,
   "metadata": {},
   "outputs": [],
   "source": [
    "def read_data(simulation: str, abundances: list, config: dict) -> tuple:\n",
    "    \"\"\"\n",
    "    This method returns data of interest for this analysis.\n",
    "\n",
    "    Parameters\n",
    "    ----------\n",
    "    simulation : str\n",
    "        The simulation to consider.\n",
    "    abundances : tuple\n",
    "        A list of tuples with the abundances to calculate.\n",
    "    config : dict\n",
    "        The configurations dictionary.\n",
    "\n",
    "    Returns\n",
    "    -------\n",
    "    pd.DataFrame\n",
    "        A data frame with the properties.\n",
    "    \"\"\"\n",
    "\n",
    "    s = Snapshot(simulation=simulation, loadonlytype=[0, 1, 2, 3, 4, 5])\n",
    "    s.tag_particles_by_region(\n",
    "        disc_std_circ=config[\"DISC_STD_CIRC\"],\n",
    "        disc_min_circ=config[\"DISC_MIN_CIRC\"],\n",
    "        cold_disc_delta_circ=config[\"COLD_DISC_DELTA_CIRC\"],\n",
    "        bulge_max_specific_energy=config[\"BULGE_MAX_SPECIFIC_ENERGY\"])\n",
    "    s.calculate_gas_temperature()\n",
    "    s.calculate_hydrogen_number_density()\n",
    "\n",
    "    for of, to in abundances:\n",
    "        s.add_metal_abundance(of, to)\n",
    "\n",
    "    is_real_star = (s.type == 4) & (s.stellar_formation_time > 0)\n",
    "    is_gas = (s.type == 0)\n",
    "    is_main_obj = (s.halo == s.halo_idx) & (s.subhalo == s.subhalo_idx)\n",
    "    return_mask = (is_real_star | is_gas) & is_main_obj\n",
    "\n",
    "    data = {\n",
    "        \"CylindricalRadius_ckpc\": s.rho[return_mask],\n",
    "        \"SphericalRadius_ckpc\": s.r[return_mask],\n",
    "        \"ComponentTag\": s.region_tag[return_mask],\n",
    "        \"HydrogenNumberDensity\": s.h_number_density[return_mask],\n",
    "        \"Temperature_K\": s.temperature[return_mask],\n",
    "        \"ParticleType\": s.type[return_mask],\n",
    "    }\n",
    "\n",
    "    for of, to in abundances:\n",
    "        data[f\"[{of}/{to}]\"] = s.metal_abundance[f\"{of}/{to}\"][return_mask]\n",
    "        data[f\"[{of}/{to}]\"][~np.isfinite(data[f\"[{of}/{to}]\"])] = np.nan\n",
    "\n",
    "    data = pd.DataFrame(data)\n",
    "\n",
    "    for of, to in abundances:\n",
    "        data = data[data[f\"[{of}/{to}]\"].notna()]\n",
    "\n",
    "    return data"
   ]
  },
  {
   "cell_type": "code",
   "execution_count": 64,
   "metadata": {},
   "outputs": [],
   "source": [
    "def create_data_dictionary(simulations: list, abundances: list, config: dict):\n",
    "    physics = Physics()\n",
    "    settings = Settings()\n",
    "\n",
    "    dfs = {}\n",
    "    for simulation in simulations:\n",
    "        df = read_data(simulation, abundances, config)\n",
    "\n",
    "        # Calculate binned stats for this dataframe\n",
    "        stats = {}\n",
    "        for of, to in abundances:\n",
    "            stat, bin_edges, _ = binned_statistic(\n",
    "                x=df[\"CylindricalRadius_ckpc\"][df[\"ParticleType\"] == 4],\n",
    "                values=df[f\"[{of}/{to}]\"][df[\"ParticleType\"] == 4],\n",
    "                statistic=np.nanmean, bins=N_BINS, range=RXY_RANGE)\n",
    "            stats[f\"[{of}/{to}]_Stars\"] = stat\n",
    "            stats[f\"BinCenters_ckpc\"] = bin_edges[1:] - np.diff(bin_edges)[0] / 2\n",
    "\n",
    "            stats[f\"[{of}/{to}]_Gas\"] = binned_statistic(\n",
    "                x=df[\"CylindricalRadius_ckpc\"][df[\"ParticleType\"] == 0],\n",
    "                values=df[f\"[{of}/{to}]\"][df[\"ParticleType\"] == 0],\n",
    "                statistic=np.nanmean, bins=N_BINS, range=RXY_RANGE)[0]\n",
    "            stats[f\"[{of}/{to}]_ColdGas\"] = binned_statistic(\n",
    "                x=df[\"CylindricalRadius_ckpc\"][(df[\"ParticleType\"] == 0) \\\n",
    "                    & (df[\"Temperature_K\"] <= physics.critical_temperature)],\n",
    "                values=df[f\"[{of}/{to}]\"][(df[\"ParticleType\"] == 0) \\\n",
    "                    & (df[\"Temperature_K\"] <= physics.critical_temperature)],\n",
    "                statistic=np.nanmean, bins=N_BINS, range=RXY_RANGE)[0]\n",
    "            stats[f\"[{of}/{to}]_StarFormingGas\"] = binned_statistic(\n",
    "                x=df[\"CylindricalRadius_ckpc\"][(df[\"ParticleType\"] == 0) \\\n",
    "                    & (df[\"HydrogenNumberDensity\"] \\\n",
    "                        >= physics.star_forming_density)],\n",
    "                values=df[f\"[{of}/{to}]\"][(df[\"ParticleType\"] == 0) \\\n",
    "                    & (df[\"HydrogenNumberDensity\"] \\\n",
    "                        >= physics.star_forming_density)],\n",
    "                statistic=np.nanmean, bins=N_BINS, range=RXY_RANGE)[0]\n",
    "            \n",
    "            for i, component in enumerate(settings.components):\n",
    "                is_component = df[\"ComponentTag\"] == i\n",
    "                is_star = df[\"ParticleType\"] == 4\n",
    "                stats[f\"[{of}/{to}]_Stars_{component}\"] = binned_statistic(\n",
    "                        x=df[\"CylindricalRadius_ckpc\"][is_star & is_component],\n",
    "                        values=df[f\"[{of}/{to}]\"][is_star & is_component],\n",
    "                        statistic=np.nanmean, bins=N_BINS, range=RXY_RANGE)[0]\n",
    "\n",
    "        dfs[simulation] = pd.DataFrame(stats)\n",
    "\n",
    "    return dfs"
   ]
  },
  {
   "cell_type": "markdown",
   "metadata": {},
   "source": [
    "## Calculate & Save Data"
   ]
  },
  {
   "cell_type": "code",
   "execution_count": 65,
   "metadata": {},
   "outputs": [],
   "source": [
    "# Calculate data\n",
    "dfs = create_data_dictionary(\n",
    "    simulations=sample,\n",
    "    abundances=[(\"Fe\", 'H'), ('O', 'H')],\n",
    "    config=config)"
   ]
  },
  {
   "cell_type": "code",
   "execution_count": 67,
   "metadata": {},
   "outputs": [],
   "source": [
    "# Save data to disk\n",
    "for key in dfs:\n",
    "    df = dfs[key]\n",
    "    df.to_csv(f\"../results/{'_'.join(key.split('_')[:-1])}/\"\n",
    "              f\"abundance_metallicity{config['FILE_SUFFIX']}.csv\")"
   ]
  },
  {
   "cell_type": "markdown",
   "metadata": {},
   "source": [
    "## Figures"
   ]
  },
  {
   "cell_type": "markdown",
   "metadata": {},
   "source": [
    "### Stars: [Fe/H] Profiles"
   ]
  },
  {
   "cell_type": "code",
   "execution_count": 68,
   "metadata": {},
   "outputs": [],
   "source": [
    "fig = plt.figure(figsize=(7, 8))\n",
    "gs = fig.add_gridspec(nrows=6, ncols=4, hspace=0.0, wspace=0.0)\n",
    "axs = gs.subplots(sharex=True, sharey=True)\n",
    "\n",
    "for ax in axs.flatten():\n",
    "    ax.tick_params(which='both', direction=\"in\")\n",
    "    if ax == axs[-1, -1]: ax.axis(\"off\")\n",
    "    ax.set_xlim(RXY_RANGE)\n",
    "    ax.set_ylim(-1.5, 0.5),\n",
    "    ax.set_xticks([5, 10, 15, 20, 25])\n",
    "    ax.set_yticks([-1, -0.5, 0])\n",
    "    ax.grid(True, ls='-', lw=0.25, c=\"gainsboro\")\n",
    "    if ax.get_subplotspec().is_last_row() or ax == axs[-2, -1]:\n",
    "        ax.set_xlabel(r\"$r_{xy}$ [ckpc]\")\n",
    "        ax.tick_params(labelbottom=True)\n",
    "    if ax.get_subplotspec().is_first_col():\n",
    "        ax.set_ylabel(\"[Fe/H]\")\n",
    "\n",
    "\n",
    "for i, simulation in enumerate(sample):\n",
    "    galaxy = parse(simulation)[0]\n",
    "    ax = axs.flatten()[i]\n",
    "    df = dfs[simulation]\n",
    "    ax.plot(\n",
    "        df[\"BinCenters_ckpc\"][np.isfinite(df[\"[Fe/H]_Stars\"])],\n",
    "        df[\"[Fe/H]_Stars\"][np.isfinite(df[\"[Fe/H]_Stars\"])],\n",
    "        lw=1.0, zorder=10, c=\"black\", label=\"All\")\n",
    "    for j, component in enumerate(settings.components):\n",
    "        color = settings.component_colors[component]\n",
    "        label = settings.component_labels[component]\n",
    "        ax.plot(\n",
    "            df[\"BinCenters_ckpc\"][\n",
    "                np.isfinite(df[f\"[Fe/H]_Stars_{component}\"])],\n",
    "            df[f\"[Fe/H]_Stars_{component}\"][\n",
    "                np.isfinite(df[f\"[Fe/H]_Stars_{component}\"])],\n",
    "            lw=1.0, zorder=10, c=color, label=label)\n",
    "    ax.text(x=0.95, y=0.95, size=6.0,\n",
    "            s=r\"$\\texttt{\" + f\"Au{galaxy}\" + r\"}$\",\n",
    "            ha=\"right\", va=\"top\", transform=ax.transAxes)\n",
    "\n",
    "axs[1, 0].legend(loc=\"lower left\", framealpha=0.0, fontsize=5.0, ncol=2)\n",
    "\n",
    "fig.savefig(\n",
    "    f\"../images/FeH_metallicity_profiles_by_region/\"\n",
    "    f\"included{config['FILE_SUFFIX']}.pdf\")\n",
    "plt.close(fig)"
   ]
  },
  {
   "cell_type": "markdown",
   "metadata": {},
   "source": [
    "### Gas: [O/H] Profiles"
   ]
  },
  {
   "cell_type": "code",
   "execution_count": 69,
   "metadata": {},
   "outputs": [],
   "source": [
    "fig = plt.figure(figsize=(7, 8))\n",
    "gs = fig.add_gridspec(nrows=6, ncols=4, hspace=0.0, wspace=0.0)\n",
    "axs = gs.subplots(sharex=True, sharey=True)\n",
    "\n",
    "for ax in axs.flatten():\n",
    "    ax.tick_params(which='both', direction=\"in\")\n",
    "    if ax == axs[-1, -1]: ax.axis(\"off\")\n",
    "    ax.set_xlim(RXY_RANGE)\n",
    "    ax.set_ylim(-0.5, 1.5),\n",
    "    ax.set_xticks([5, 10, 15, 20, 25])\n",
    "    ax.set_yticks([0, 0.5, 1])\n",
    "    ax.grid(True, ls='-', lw=0.25, c=\"gainsboro\")\n",
    "    if ax.get_subplotspec().is_last_row() or ax == axs[-2, -1]:\n",
    "        ax.set_xlabel(r\"$r_{xy}$ [ckpc]\")\n",
    "        ax.tick_params(labelbottom=True)\n",
    "    if ax.get_subplotspec().is_first_col():\n",
    "        ax.set_ylabel(\"[O/H]\")\n",
    "\n",
    "for i, simulation in enumerate(sample):\n",
    "    galaxy = parse(simulation)[0]\n",
    "    ax = axs.flatten()[i]\n",
    "    df = dfs[simulation]\n",
    "    ax.plot(\n",
    "        df[\"BinCenters_ckpc\"][np.isfinite(df[\"[O/H]_Gas\"])],\n",
    "        df[\"[O/H]_Gas\"][np.isfinite(df[\"[O/H]_Gas\"])],\n",
    "        lw=1.0, zorder=10, c=\"black\", label=\"All\")\n",
    "    ax.plot(\n",
    "        df[\"BinCenters_ckpc\"][np.isfinite(df[\"[O/H]_StarFormingGas\"])],\n",
    "        df[\"[O/H]_StarFormingGas\"][np.isfinite(df[\"[O/H]_StarFormingGas\"])],\n",
    "        lw=1.0, zorder=10, c=\"red\", label=\"Star-Forming Gas\")\n",
    "    ax.plot(\n",
    "        df[\"BinCenters_ckpc\"][np.isfinite(df[\"[O/H]_ColdGas\"])],\n",
    "        df[\"[O/H]_ColdGas\"][np.isfinite(df[\"[O/H]_ColdGas\"])],\n",
    "        lw=1.0, zorder=10, c=\"blue\", label=\"Cold Gas\")\n",
    "\n",
    "    ax.text(x=0.95, y=0.95, size=6.0,\n",
    "            s=r\"$\\texttt{\" + f\"Au{galaxy}\" + r\"}$\",\n",
    "            ha=\"right\", va=\"top\", transform=ax.transAxes)\n",
    "\n",
    "axs[0, 0].legend(loc=\"lower left\", framealpha=0.0, fontsize=5.0)\n",
    "\n",
    "fig.savefig(\n",
    "    f\"../images/OH_metallicity_profiles/\"\n",
    "    f\"gas_included{config['FILE_SUFFIX']}.pdf\")\n",
    "plt.close(fig)"
   ]
  },
  {
   "cell_type": "markdown",
   "metadata": {},
   "source": [
    "### Stars: Average [Fe/H] Profiles"
   ]
  },
  {
   "cell_type": "code",
   "execution_count": 70,
   "metadata": {},
   "outputs": [
    {
     "name": "stderr",
     "output_type": "stream",
     "text": [
      "/u/fiza/conda-envs/auriga/lib/python3.7/site-packages/ipykernel_launcher.py:8: RuntimeWarning: Mean of empty slice\n",
      "  \n"
     ]
    }
   ],
   "source": [
    "# Calculate averages for [Fe/H] stellar abundance\n",
    "averages = {\"BinCenters_ckpc\": dfs[\"au6_or_l4_s127\"][\"BinCenters_ckpc\"].to_numpy()}\n",
    "\n",
    "for c in settings.components:\n",
    "    data = np.zeros((len(dfs[\"au6_or_l4_s127\"]), len(dfs)))\n",
    "    for i, key in enumerate(dfs.keys()):\n",
    "        data[:, i] = dfs[key][f\"[Fe/H]_Stars_{c}\"].to_numpy()\n",
    "        averages[f\"[Fe/H]_Stars_{c}\"] = np.nanmean(data, axis=1)\n",
    "\n",
    "averages = pd.DataFrame(averages)"
   ]
  },
  {
   "cell_type": "code",
   "execution_count": 79,
   "metadata": {},
   "outputs": [],
   "source": [
    "fig = plt.figure(figsize=(7.4, 2.0))\n",
    "gs = fig.add_gridspec(nrows=1, ncols=4, hspace=0.0, wspace=0.0)\n",
    "axs = gs.subplots(sharex=True, sharey=True)\n",
    "\n",
    "for ax in axs.flat:\n",
    "    ax.tick_params(which='both', direction=\"in\")\n",
    "    ax.set_xlim(RXY_RANGE)\n",
    "    ax.set_ylim(-1.5, 0.5)\n",
    "    ax.set_xticks([0, 5, 10, 15, 20, 25])\n",
    "    ax.set_ylabel(\"[Fe/H]\")\n",
    "    ax.set_xlabel(r\"$r_{xy}$ [ckpc]\")\n",
    "    ax.grid(True, ls='-', lw=0.25, c=\"gainsboro\")\n",
    "    ax.label_outer()\n",
    "\n",
    "for idx, component in enumerate(settings.components):\n",
    "    ax = axs[idx]\n",
    "    for simulation in sample:\n",
    "        df = dfs[simulation]\n",
    "        ax.plot(\n",
    "            df[\"BinCenters_ckpc\"][\n",
    "                np.isfinite(df[f\"[Fe/H]_Stars_{component}\"])],\n",
    "            df[f\"[Fe/H]_Stars_{component}\"][\n",
    "                np.isfinite(df[f\"[Fe/H]_Stars_{component}\"])],\n",
    "            lw=1.0, color=\"silver\", zorder=10)\n",
    "    ax.plot(\n",
    "        averages[\"BinCenters_ckpc\"],\n",
    "        averages[f\"[Fe/H]_Stars_{component}\"],\n",
    "        lw=1.5, color=settings.component_colors[component], zorder=11)\n",
    "    axs[idx].text(\n",
    "        x=0.05, y=0.05, size=8.0, ha='left', va='bottom',\n",
    "        s=r\"$\\textbf{\" + settings.component_labels[component] + \"}$\",\n",
    "        c=settings.component_colors[component],\n",
    "        transform=axs[idx].transAxes)\n",
    "\n",
    "fig.savefig(\n",
    "    f\"../images/FeH_metallicity_profiles_by_region/\"\n",
    "    f\"included_average{config['FILE_SUFFIX']}.pdf\")\n",
    "plt.close(fig)"
   ]
  }
 ],
 "metadata": {
  "kernelspec": {
   "display_name": "Python 3",
   "language": "python",
   "name": "python3"
  },
  "language_info": {
   "codemirror_mode": {
    "name": "ipython",
    "version": 3
   },
   "file_extension": ".py",
   "mimetype": "text/x-python",
   "name": "python",
   "nbconvert_exporter": "python",
   "pygments_lexer": "ipython3",
   "version": "3.7.3"
  },
  "orig_nbformat": 4
 },
 "nbformat": 4,
 "nbformat_minor": 2
}
