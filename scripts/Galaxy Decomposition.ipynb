{
 "cells": [
  {
   "attachments": {},
   "cell_type": "markdown",
   "metadata": {},
   "source": [
    "# Galaxy Decomposition"
   ]
  },
  {
   "cell_type": "code",
   "execution_count": 1,
   "metadata": {},
   "outputs": [],
   "source": [
    "from matplotlib import pyplot as plt\n",
    "import matplotlib.colors as mcolors\n",
    "import numpy as np"
   ]
  },
  {
   "cell_type": "code",
   "execution_count": 2,
   "metadata": {},
   "outputs": [],
   "source": [
    "from auriga.snapshot import Snapshot\n",
    "from auriga.images import figure_setup, set_axs_configuration\n",
    "from auriga.settings import Settings\n",
    "from auriga.parser import parse"
   ]
  },
  {
   "cell_type": "code",
   "execution_count": 3,
   "metadata": {},
   "outputs": [],
   "source": [
    "figure_setup()\n",
    "settings = Settings()"
   ]
  },
  {
   "cell_type": "code",
   "execution_count": 4,
   "metadata": {},
   "outputs": [],
   "source": [
    "DISC_STD_CIRC = settings.disc_std_circ\n",
    "DISC_MIN_CIRC = settings.disc_min_circ\n",
    "COLD_DISC_DELTA_CIRC = settings.cold_disc_delta_circ\n",
    "BULGE_MAX_SPECIFIC_ENERGY = -0.6\n",
    "SUFFIX = \"_02\""
   ]
  },
  {
   "attachments": {},
   "cell_type": "markdown",
   "metadata": {},
   "source": [
    "#### The Decomposition Phase-Space"
   ]
  },
  {
   "cell_type": "code",
   "execution_count": 5,
   "metadata": {},
   "outputs": [],
   "source": [
    "def read_data(simulation: str) -> tuple:\n",
    "    \"\"\"\n",
    "    This method returns the circularity and the normalized potential for the\n",
    "    stars in the main object of the simulation.\n",
    "\n",
    "    Parameters\n",
    "    ----------\n",
    "    simulation : str\n",
    "        The simulation to consider.\n",
    "\n",
    "    Returns\n",
    "    -------\n",
    "    tuple\n",
    "        The circularity and normalized potential.\n",
    "    \"\"\"\n",
    "    settings = Settings()\n",
    "\n",
    "    s = Snapshot(simulation=simulation, loadonlytype=[0, 1, 2, 3, 4, 5])\n",
    "    s.add_circularity()\n",
    "    s.add_reference_to_potential()\n",
    "    s.add_normalized_potential()\n",
    "\n",
    "    is_real_star = (s.type == 4) & (s.stellar_formation_time > 0)\n",
    "    is_main_obj = (s.halo == s.halo_idx) & (s.subhalo == s.subhalo_idx)\n",
    "\n",
    "    return (s.circularity[is_real_star & is_main_obj],\n",
    "            s.normalized_potential[is_real_star & is_main_obj],)"
   ]
  },
  {
   "cell_type": "markdown",
   "metadata": {},
   "source": [
    "### Figures"
   ]
  },
  {
   "cell_type": "code",
   "execution_count": 33,
   "metadata": {},
   "outputs": [],
   "source": [
    "def plot_phase_space_for_galaxy(simulation: str) -> None:\n",
    "\n",
    "    _, _, _, snapshot = parse(simulation)\n",
    "\n",
    "    fig, ax = plt.subplots(figsize=(2.5, 2.5))\n",
    "\n",
    "    ax.tick_params(which='both', direction=\"in\")\n",
    "    ax.set_axisbelow(True)\n",
    "    ax.grid(True, ls='-', lw=0.25, c='silver')\n",
    "\n",
    "    ax.set_xlim(-1.6, 1.6)\n",
    "    ax.set_xticks([-1, 0, 1])\n",
    "    ax.set_xlabel(r'$\\epsilon = j_z \\, j_\\mathrm{circ}^{-1}$')\n",
    "\n",
    "    ax.set_ylim(-1, 0)\n",
    "    ax.set_yticks([-1, -.8, -.6, -.4, -.2, 0])\n",
    "    ax.set_ylabel(r'$\\tilde{e} = e \\, \\left| e \\right|_\\mathrm{max}^{-1}$')\n",
    "\n",
    "    galaxy, _, _, _ = parse(simulation)\n",
    "    label = f\"Au{galaxy}\"\n",
    "    circularity, potential = read_data(simulation=simulation)\n",
    "\n",
    "    _, _, _, _ = ax.hist2d(\n",
    "        circularity, potential,\n",
    "        cmap='nipy_spectral', bins=200,\n",
    "        range=[ax.get_xlim(), ax.get_ylim()],\n",
    "        norm=mcolors.LogNorm(vmin=1E0, vmax=1E3), rasterized=True)\n",
    "    ax.text(x=0.05, y=0.95, s=r\"$\\texttt{\" + label + \"}$\",\n",
    "            size=8.0, transform=ax.transAxes, ha='left', va='top')\n",
    "\n",
    "    # Draw lines for the components\n",
    "    ax.plot([DISC_MIN_CIRC] * 2, ax.get_ylim(),\n",
    "            ls=\"-\", c='k', lw=.75)\n",
    "    # ax.plot([DISC_STD_CIRC - COLD_DISC_DELTA_CIRC] * 2, ax.get_ylim(),\n",
    "    #         ls=\"--\", c='k', lw=.75)\n",
    "    # ax.plot([DISC_STD_CIRC + COLD_DISC_DELTA_CIRC] * 2, ax.get_ylim(),\n",
    "    #         ls=\"--\", c='k', lw=.75)\n",
    "    ax.plot([ax.get_xlim()[0], DISC_MIN_CIRC], [BULGE_MAX_SPECIFIC_ENERGY] * 2,\n",
    "            ls=\"-\", c='k', lw=.75)\n",
    "    \n",
    "    fig.savefig(\n",
    "        f\"../images/galaxy_decomposition/phase_space_{simulation}{SUFFIX}.pdf\")\n",
    "    plt.close(fig)"
   ]
  },
  {
   "cell_type": "code",
   "execution_count": 34,
   "metadata": {},
   "outputs": [],
   "source": [
    "plot_phase_space_for_galaxy(\"au9_or_l4_s127\")"
   ]
  },
  {
   "cell_type": "code",
   "execution_count": null,
   "metadata": {},
   "outputs": [],
   "source": [
    "# fig = plt.figure(figsize=(7, 8))\n",
    "# gs = fig.add_gridspec(nrows=6, ncols=4, hspace=0.0, wspace=0.0)\n",
    "# axs = gs.subplots(sharex=True, sharey=True)\n",
    "\n",
    "# for ax in axs.flatten():\n",
    "#     ax.tick_params(which='both', direction=\"in\")\n",
    "#     if ax == axs[-1, -1]: ax.axis(\"off\")\n",
    "#     ax.set_xlim(-1.6, 1.6)\n",
    "#     ax.set_xticks([-1, 0, 1])\n",
    "#     ax.set_ylim(-1, 0)\n",
    "#     ax.set_yticks([-.8, -.6, -.4, -.2, 0])\n",
    "#     ax.set_axisbelow(True)\n",
    "#     if ax.get_subplotspec().is_last_row() or ax == axs[-2, -1]:\n",
    "#         ax.set_xlabel(r'$\\epsilon = j_z \\, j_\\mathrm{circ}^{-1}$')\n",
    "#         ax.tick_params(labelbottom=True)\n",
    "#     if ax.get_subplotspec().is_first_col():\n",
    "#         ax.set_ylabel(r'$\\tilde{e} = e \\, \\left| e \\right|_\\mathrm{max}^{-1}$')\n",
    "\n",
    "# for i in range(len(settings.groups[\"Included\"])):\n",
    "#     ax = axs.flatten()[i]\n",
    "#     galaxy = settings.groups[\"Included\"][i]\n",
    "#     simulation = f\"au{galaxy}_or_l4_s127\"\n",
    "#     label = f\"Au{galaxy}\"\n",
    "#     circularity, potential = read_data(simulation=simulation)\n",
    "#     _, _, _, im = ax.hist2d(circularity,\n",
    "#                             potential,\n",
    "#                             cmap='nipy_spectral',\n",
    "#                             bins=200,\n",
    "#                             range=[ax.get_xlim(), ax.get_ylim()],\n",
    "#                             norm=mcolors.LogNorm(vmin=1E0, vmax=1E3),\n",
    "#                             rasterized=True)\n",
    "#     ax.text(x=0.05, y=0.95,\n",
    "#             s=r\"$\\texttt{\" + label + \"}$\",\n",
    "#             size=6.0, transform=ax.transAxes,\n",
    "#             ha='left', va='top',\n",
    "#             )\n",
    "\n",
    "#     # Draw lines for the components\n",
    "#     ax.plot([DISC_MIN_CIRC] * 2,\n",
    "#             ax.get_ylim(), ls=\"--\", c='k', lw=0.75)\n",
    "#     ax.plot([DISC_STD_CIRC - COLD_DISC_DELTA_CIRC] * 2,\n",
    "#             ax.get_ylim(), ls=\"--\", c='k', lw=0.75)\n",
    "#     ax.plot([DISC_STD_CIRC + COLD_DISC_DELTA_CIRC] * 2,\n",
    "#             ax.get_ylim(), ls=\"--\", c='k', lw=0.75)\n",
    "#     ax.plot([ax.get_xlim()[0], DISC_MIN_CIRC],\n",
    "#             [BULGE_MAX_SPECIFIC_ENERGY] * 2,\n",
    "#             ls=\"--\", c='k', lw=0.75)\n",
    "\n",
    "#     fig.savefig(\n",
    "#         f\"../images/galaxy_decomposition/phase_space_included{SUFFIX}.pdf\")\n",
    "\n",
    "# plt.close(fig)"
   ]
  }
 ],
 "metadata": {
  "kernelspec": {
   "display_name": "Python 3",
   "language": "python",
   "name": "python3"
  },
  "language_info": {
   "codemirror_mode": {
    "name": "ipython",
    "version": 3
   },
   "file_extension": ".py",
   "mimetype": "text/x-python",
   "name": "python",
   "nbconvert_exporter": "python",
   "pygments_lexer": "ipython3",
   "version": "3.7.3"
  },
  "orig_nbformat": 4
 },
 "nbformat": 4,
 "nbformat_minor": 2
}
