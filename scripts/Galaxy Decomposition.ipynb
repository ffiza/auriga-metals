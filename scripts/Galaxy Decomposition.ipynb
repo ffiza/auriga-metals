{
 "cells": [
  {
   "attachments": {},
   "cell_type": "markdown",
   "metadata": {},
   "source": [
    "# Galaxy Decomposition"
   ]
  },
  {
   "cell_type": "code",
   "execution_count": 8,
   "metadata": {},
   "outputs": [],
   "source": [
    "from matplotlib import pyplot as plt\n",
    "import matplotlib.colors as mcolors\n",
    "import numpy as np"
   ]
  },
  {
   "cell_type": "code",
   "execution_count": 9,
   "metadata": {},
   "outputs": [],
   "source": [
    "from auriga.snapshot import Snapshot\n",
    "from auriga.images import figure_setup, set_axs_configuration\n",
    "from auriga.settings import Settings"
   ]
  },
  {
   "cell_type": "code",
   "execution_count": 10,
   "metadata": {},
   "outputs": [],
   "source": [
    "figure_setup()"
   ]
  },
  {
   "attachments": {},
   "cell_type": "markdown",
   "metadata": {},
   "source": [
    "## The Decomposition Phase-Space"
   ]
  },
  {
   "cell_type": "code",
   "execution_count": 11,
   "metadata": {},
   "outputs": [],
   "source": [
    "def read_data(simulation: str) -> tuple:\n",
    "    \"\"\"\n",
    "    This method returns the circularity and the normalized potential for the\n",
    "    stars in the main object of the simulation.\n",
    "\n",
    "    Parameters\n",
    "    ----------\n",
    "    simulation : str\n",
    "        The simulation to consider.\n",
    "\n",
    "    Returns\n",
    "    -------\n",
    "    tuple\n",
    "        The circularity and normalized potential.\n",
    "    \"\"\"\n",
    "    settings = Settings()\n",
    "\n",
    "    s = Snapshot(simulation=simulation,\n",
    "                 loadonlytype=[0, 1, 2, 3, 4, 5])\n",
    "    s.add_circularity()\n",
    "    s.add_reference_to_potential()\n",
    "    s.add_normalized_potential()\n",
    "\n",
    "    is_real_star = (s.type == 4) & (s.stellar_formation_time > 0)\n",
    "    is_main_obj = (s.halo == s.halo_idx) & (s.subhalo == s.subhalo_idx)\n",
    "\n",
    "    return (s.circularity[is_real_star & is_main_obj],\n",
    "            s.normalized_potential[is_real_star & is_main_obj],)"
   ]
  },
  {
   "cell_type": "code",
   "execution_count": 12,
   "metadata": {},
   "outputs": [],
   "source": [
    "def add_panel_for_galaxy(simulation: str, ax: plt.Axes):\n",
    "    \"\"\"\n",
    "    This method adds a panel with the results for a given simulation.\n",
    "\n",
    "    Parameters\n",
    "    ----------\n",
    "    simulation : str\n",
    "        The simulation.\n",
    "    ax : plt.Axes\n",
    "        The ax to which to add the plot.\n",
    "    \"\"\"\n",
    "\n",
    "    circularity, potential = read_data(simulation=simulation)\n",
    "    _, _, _, im = ax.hist2d(circularity,\n",
    "                            potential,\n",
    "                            cmap='nipy_spectral',\n",
    "                            bins=200,\n",
    "                            range=[ax.get_xlim(), ax.get_ylim()],\n",
    "                            norm=mcolors.LogNorm(vmin=1E0, vmax=1E3))\n",
    "    ax.text(x=0.05,\n",
    "            y=0.95,\n",
    "            s=r\"$\\texttt{\" + simulation.upper() + \"}$\",\n",
    "            size=6.0, transform=ax.transAxes,\n",
    "            ha='left', va='top',\n",
    "            )"
   ]
  },
  {
   "cell_type": "code",
   "execution_count": 13,
   "metadata": {},
   "outputs": [],
   "source": [
    "def plot_decomp_phases_for_sample(simulations: list,\n",
    "                                  filename: str):\n",
    "    \"\"\"\n",
    "    This method creates a plot of the phase space for galactic decomposition\n",
    "    - the circularity in the x-axis and the normalized gravitational\n",
    "    potential in the y-axis.\n",
    "\n",
    "    Parameters\n",
    "    ----------\n",
    "    simulations : str\n",
    "        A list of simulations to plot.\n",
    "    filename : str\n",
    "        The name of the output file.\n",
    "    \"\"\"\n",
    "\n",
    "    n_simulations = len(simulations)\n",
    "\n",
    "    fig = plt.figure(figsize=(7.2, 7.2))\n",
    "    gs = fig.add_gridspec(nrows=6, ncols=5, hspace=0.0, wspace=0.0)\n",
    "    axs = gs.subplots(sharex=True, sharey=True)\n",
    "\n",
    "    set_axs_configuration(\n",
    "        xlim=(-1.4, 1.4), ylim=(-1, 0),\n",
    "        xticks=[-1, 0, 1], yticks=[-.8, -.6, -.4, -.2, 0],\n",
    "        xlabel=r'$\\epsilon = j_z \\, j_\\mathrm{circ}^{-1}$',\n",
    "        ylabel=r'$\\tilde{e} = e \\, \\left| e \\right|_\\mathrm{max}^{-1}$',\n",
    "        axs=axs, n_used=n_simulations)\n",
    "\n",
    "    for idx, ax in enumerate(axs.flat):\n",
    "        if idx < n_simulations:\n",
    "            add_panel_for_galaxy(simulations[idx], ax=ax)\n",
    "        else:\n",
    "            ax.axis(\"off\")\n",
    "\n",
    "    fig.savefig(\n",
    "        f\"../images/galaxy_decomposition/phase_space_{filename}.pdf\")\n",
    "    plt.close(fig)"
   ]
  },
  {
   "cell_type": "code",
   "execution_count": 14,
   "metadata": {},
   "outputs": [],
   "source": [
    "# Create plots for all galaxies in two figures\n",
    "settings = Settings()\n",
    "originals = [f\"au{i}_or_l4_s127\" for i in settings.galaxies]\n",
    "reruns = [f\"au{i}_re_l4_s251\" for i in settings.reruns]\n",
    "plot_decomp_phases_for_sample(\n",
    "    simulations=originals, filename=\"originals_s127\")\n",
    "plot_decomp_phases_for_sample(\n",
    "    simulations=reruns, filename=\"reruns_s251\")"
   ]
  }
 ],
 "metadata": {
  "kernelspec": {
   "display_name": "Python 3",
   "language": "python",
   "name": "python3"
  },
  "language_info": {
   "codemirror_mode": {
    "name": "ipython",
    "version": 3
   },
   "file_extension": ".py",
   "mimetype": "text/x-python",
   "name": "python",
   "nbconvert_exporter": "python",
   "pygments_lexer": "ipython3",
   "version": "3.7.3"
  },
  "orig_nbformat": 4
 },
 "nbformat": 4,
 "nbformat_minor": 2
}
