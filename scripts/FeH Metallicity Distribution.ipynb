{
 "cells": [
  {
   "attachments": {},
   "cell_type": "markdown",
   "metadata": {},
   "source": [
    "# [Fe/H] Metallicity Distribution"
   ]
  },
  {
   "cell_type": "code",
   "execution_count": 33,
   "metadata": {},
   "outputs": [],
   "source": [
    "from multiprocessing import Pool\n",
    "import os\n",
    "os.environ[\"MKL_NUM_THREADS\"] = \"1\"\n",
    "os.environ[\"NUMEXPR_NUM_THREADS\"] = \"1\"\n",
    "os.environ[\"OMP_NUM_THREADS\"] = \"1\"\n",
    "from matplotlib import pyplot as plt\n",
    "import matplotlib.colors as mcolors\n",
    "import numpy as np\n",
    "import pandas as pd\n",
    "from scipy.stats import binned_statistic"
   ]
  },
  {
   "cell_type": "code",
   "execution_count": 34,
   "metadata": {},
   "outputs": [],
   "source": [
    "from auriga.snapshot import Snapshot\n",
    "from auriga.images import figure_setup, set_axs_configuration\n",
    "from auriga.settings import Settings\n",
    "from auriga.parser import parse"
   ]
  },
  {
   "cell_type": "code",
   "execution_count": 35,
   "metadata": {},
   "outputs": [],
   "source": [
    "figure_setup()\n",
    "settings = Settings()"
   ]
  },
  {
   "cell_type": "code",
   "execution_count": 36,
   "metadata": {},
   "outputs": [],
   "source": [
    "METALL_RANGE: tuple = (-3, 1.5)\n",
    "N_BINS: int = 40"
   ]
  },
  {
   "cell_type": "code",
   "execution_count": 37,
   "metadata": {},
   "outputs": [],
   "source": [
    "def read_data(simulation: str, of: str, to: str) -> tuple:\n",
    "    \"\"\"\n",
    "    This method returns data of interest for this analysis.\n",
    "\n",
    "    Parameters\n",
    "    ----------\n",
    "    simulation : str\n",
    "        The simulation to consider.\n",
    "\n",
    "    Returns\n",
    "    -------\n",
    "    pd.DataFrame\n",
    "        A data frame with the properties.\n",
    "    \"\"\"\n",
    "\n",
    "    settings = Settings()\n",
    "\n",
    "    s = Snapshot(simulation=simulation, loadonlytype=[0, 1, 2, 3, 4, 5])\n",
    "    s.tag_particles_by_region(\n",
    "        disc_std_circ=settings.disc_std_circ,\n",
    "        disc_min_circ=settings.disc_min_circ,\n",
    "        cold_disc_delta_circ=settings.cold_disc_delta_circ,\n",
    "        bulge_max_specific_energy=settings.bulge_max_specific_energy)\n",
    "    s.add_metal_abundance(of, to)\n",
    "    s.tag_in_situ_stars()\n",
    "\n",
    "    is_real_star = (s.type == 4) & (s.stellar_formation_time > 0)\n",
    "    is_main_obj = (s.halo == s.halo_idx) & (s.subhalo == s.subhalo_idx)\n",
    "\n",
    "    df = pd.DataFrame()\n",
    "    df[\"[Fe/H]\"] = s.metal_abundance[f\"{of}/{to}\"][is_real_star & is_main_obj]\n",
    "    df[\"RegionTag\"] = s.region_tag[is_real_star & is_main_obj]\n",
    "    df[\"IsInSitu\"] = s.is_in_situ[is_real_star & is_main_obj].astype(\"bool\")\n",
    "\n",
    "    return df"
   ]
  },
  {
   "cell_type": "code",
   "execution_count": 38,
   "metadata": {},
   "outputs": [],
   "source": [
    "simulations = [f\"au{i}_or_l4_s127\" for i in range(1, 31)]"
   ]
  },
  {
   "cell_type": "code",
   "execution_count": 39,
   "metadata": {},
   "outputs": [],
   "source": [
    "for simulation in simulations:\n",
    "    df = read_data(simulation=simulation, of=\"Fe\", to='H')\n",
    "\n",
    "    fig = plt.figure(figsize=(7.4, 2.0))\n",
    "    gs = fig.add_gridspec(nrows=1, ncols=4, hspace=0.0, wspace=0.0)\n",
    "    axs = gs.subplots(sharex=True, sharey=True)\n",
    "\n",
    "    for ax in axs.flat:\n",
    "        ax.tick_params(which='both', direction=\"in\")\n",
    "        ax.set_xlim(METALL_RANGE)\n",
    "        ax.set_ylim(0, 0.2)\n",
    "        ax.set_xticks([-2, -1, 0, 1])\n",
    "        ax.set_xlabel('[Fe/H] [dex]')\n",
    "        ax.set_ylabel(r\"$f_\\star$\")\n",
    "        ax.grid(True, ls='-', lw=0.25, c=\"gainsboro\")\n",
    "        ax.label_outer()\n",
    "\n",
    "    for idx, component in enumerate(settings.components):\n",
    "\n",
    "        n_stars_comp = (df[\"RegionTag\"] == idx).sum()\n",
    "\n",
    "        hist, bin_edges = np.histogram(\n",
    "            a=df[\"[Fe/H]\"][df[\"RegionTag\"] == idx],\n",
    "            bins=N_BINS, range=METALL_RANGE)\n",
    "        bin_centers = bin_edges[1:] - np.diff(bin_edges)[0] / 2\n",
    "        axs[idx].plot(\n",
    "            bin_centers, hist / n_stars_comp,\n",
    "            c=settings.component_colors[component], lw=1)\n",
    "\n",
    "        hist, _ = np.histogram(\n",
    "            a=df[\"[Fe/H]\"][(df[\"RegionTag\"] == idx) & (df[\"IsInSitu\"] == 1)],\n",
    "            bins=N_BINS, range=METALL_RANGE)\n",
    "        axs[idx].plot(\n",
    "            bin_centers, hist / n_stars_comp,\n",
    "            c='k', lw=0.75, ls=(0, (3, 1.5, 1, 1.5)), label=\"In-Situ Stars\")\n",
    "\n",
    "        hist, _ = np.histogram(\n",
    "            a=df[\"[Fe/H]\"][(df[\"RegionTag\"] == idx) & (df[\"IsInSitu\"] == 0)],\n",
    "            bins=N_BINS, range=METALL_RANGE)\n",
    "        axs[idx].plot(\n",
    "            bin_centers, hist / n_stars_comp,\n",
    "            c='k', lw=0.75, ls=(0, (5, 1.5)), label=\"Ex-Situ Stars\")\n",
    "\n",
    "        axs[idx].text(x=0.05, y=0.95, size=8.0, ha=\"left\", va=\"top\",\n",
    "                    s=settings.component_labels[settings.components[idx]],\n",
    "                    transform=axs[idx].transAxes)\n",
    "\n",
    "    axs[3].legend(loc=\"lower left\", framealpha=0, fontsize=6,\n",
    "                    bbox_to_anchor=(0.009, 0.65))\n",
    "\n",
    "    axs[0].text(\n",
    "        x=0.95, y=0.95, size=6.0,\n",
    "        s=r\"$\\texttt{\" + simulation.upper() + \"}$\",\n",
    "        ha='right', va='top', transform=axs[0].transAxes)\n",
    "\n",
    "    fig.savefig(\n",
    "        f\"../images/FeH_metallicity_distribution/{simulation}.pdf\")\n",
    "    plt.close(fig)"
   ]
  }
 ],
 "metadata": {
  "kernelspec": {
   "display_name": "Python 3",
   "language": "python",
   "name": "python3"
  },
  "language_info": {
   "codemirror_mode": {
    "name": "ipython",
    "version": 3
   },
   "file_extension": ".py",
   "mimetype": "text/x-python",
   "name": "python",
   "nbconvert_exporter": "python",
   "pygments_lexer": "ipython3",
   "version": "3.7.3"
  },
  "orig_nbformat": 4
 },
 "nbformat": 4,
 "nbformat_minor": 2
}
