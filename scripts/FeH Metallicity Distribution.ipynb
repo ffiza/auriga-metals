{
 "cells": [
  {
   "attachments": {},
   "cell_type": "markdown",
   "metadata": {},
   "source": [
    "# [Fe/H] Metallicity Distribution"
   ]
  },
  {
   "cell_type": "code",
   "execution_count": 65,
   "metadata": {},
   "outputs": [],
   "source": [
    "from multiprocessing import Pool\n",
    "import os\n",
    "os.environ[\"MKL_NUM_THREADS\"] = \"1\"\n",
    "os.environ[\"NUMEXPR_NUM_THREADS\"] = \"1\"\n",
    "os.environ[\"OMP_NUM_THREADS\"] = \"1\"\n",
    "from matplotlib import pyplot as plt\n",
    "import matplotlib.colors as mcolors\n",
    "import numpy as np\n",
    "import pandas as pd\n",
    "from scipy.stats import binned_statistic\n",
    "from scipy.stats import gaussian_kde"
   ]
  },
  {
   "cell_type": "code",
   "execution_count": 24,
   "metadata": {},
   "outputs": [],
   "source": [
    "from auriga.snapshot import Snapshot\n",
    "from auriga.images import figure_setup, set_axs_configuration\n",
    "from auriga.settings import Settings\n",
    "from auriga.parser import parse"
   ]
  },
  {
   "cell_type": "code",
   "execution_count": 25,
   "metadata": {},
   "outputs": [],
   "source": [
    "figure_setup()\n",
    "settings = Settings()"
   ]
  },
  {
   "cell_type": "code",
   "execution_count": 26,
   "metadata": {},
   "outputs": [],
   "source": [
    "N_BINS: int = 40"
   ]
  },
  {
   "cell_type": "code",
   "execution_count": 27,
   "metadata": {},
   "outputs": [],
   "source": [
    "def read_data(simulation: str, of: str, to: str,\n",
    "              tag_in_situ: bool = False) -> tuple:\n",
    "    settings = Settings()\n",
    "\n",
    "    s = Snapshot(simulation=simulation, loadonlytype=[0, 1, 2, 3, 4, 5])\n",
    "    s.tag_particles_by_region(\n",
    "        disc_std_circ=settings.disc_std_circ,\n",
    "        disc_min_circ=settings.disc_min_circ,\n",
    "        cold_disc_delta_circ=settings.cold_disc_delta_circ,\n",
    "        bulge_max_specific_energy=settings.bulge_max_specific_energy)\n",
    "    s.add_metal_abundance(of, to)\n",
    "    \n",
    "    is_real_star = (s.type == 4) & (s.stellar_formation_time > 0)\n",
    "    is_main_obj = (s.halo == s.halo_idx) & (s.subhalo == s.subhalo_idx)\n",
    "\n",
    "    df = pd.DataFrame()\n",
    "    df[f\"[{of}/{to}]\"] = s.metal_abundance[\n",
    "        f\"{of}/{to}\"][is_real_star & is_main_obj]\n",
    "    df[\"RegionTag\"] = s.region_tag[is_real_star & is_main_obj]\n",
    "\n",
    "    if tag_in_situ:\n",
    "        s.tag_in_situ_stars()\n",
    "        df[\"IsInSitu\"] = s.is_in_situ[\n",
    "            is_real_star & is_main_obj].astype(\"bool\")\n",
    "\n",
    "    return df"
   ]
  },
  {
   "cell_type": "code",
   "execution_count": 28,
   "metadata": {},
   "outputs": [],
   "source": [
    "simulations = [f\"au{i}_or_l4_s127\" for i in range(1, 31)]"
   ]
  },
  {
   "cell_type": "code",
   "execution_count": 32,
   "metadata": {},
   "outputs": [],
   "source": [
    "def plot_distribution_for_galaxy_with_stellar_origin(\n",
    "    simulation: str, of: str, to: str,\n",
    "    xlim: tuple, ylim: tuple, xticks: list) -> None:\n",
    "\n",
    "    df = read_data(simulation=simulation, of=of, to=to, tag_in_situ=True)\n",
    "\n",
    "    fig = plt.figure(figsize=(7.4, 2.0))\n",
    "    gs = fig.add_gridspec(nrows=1, ncols=4, hspace=0.0, wspace=0.0)\n",
    "    axs = gs.subplots(sharex=True, sharey=True)\n",
    "\n",
    "    for ax in axs.flat:\n",
    "        ax.tick_params(which='both', direction=\"in\")\n",
    "        ax.set_xlim(xlim)\n",
    "        ax.set_ylim(ylim)\n",
    "        ax.set_xticks(xticks)\n",
    "        ax.set_xlabel(f'[{of}/{to}]')\n",
    "        ax.set_ylabel(r\"$f_\\star$\")\n",
    "        ax.grid(True, ls='-', lw=0.25, c=\"gainsboro\")\n",
    "        ax.label_outer()\n",
    "\n",
    "    for idx, component in enumerate(settings.components):\n",
    "\n",
    "        n_stars_comp = (df[\"RegionTag\"] == idx).sum()\n",
    "\n",
    "        hist, bin_edges = np.histogram(\n",
    "            a=df[f\"[{of}/{to}]\"][df[\"RegionTag\"] == idx],\n",
    "            bins=N_BINS, range=xlim)\n",
    "        bin_centers = bin_edges[1:] - np.diff(bin_edges)[0] / 2\n",
    "        axs[idx].plot(\n",
    "            bin_centers, hist / n_stars_comp, zorder=11,\n",
    "            c=settings.component_colors[component], lw=1)\n",
    "\n",
    "        hist, _ = np.histogram(\n",
    "            a=df[f\"[{of}/{to}]\"][\n",
    "                (df[\"RegionTag\"] == idx) & (df[\"IsInSitu\"] == 1)],\n",
    "            bins=N_BINS, range=xlim)\n",
    "        axs[idx].plot(\n",
    "            bin_centers, hist / n_stars_comp, zorder=11,\n",
    "            c='k', lw=0.75, ls=(0, (3, 1.5, 1, 1.5)), label=\"In-Situ Stars\")\n",
    "\n",
    "        hist, _ = np.histogram(\n",
    "            a=df[f\"[{of}/{to}]\"][\n",
    "                (df[\"RegionTag\"] == idx) & (df[\"IsInSitu\"] == 0)],\n",
    "            bins=N_BINS, range=xlim)\n",
    "        axs[idx].plot(\n",
    "            bin_centers, hist / n_stars_comp, zorder=11,\n",
    "            c='k', lw=0.75, ls=(0, (5, 1.5)), label=\"Ex-Situ Stars\")\n",
    "\n",
    "        axs[idx].text(x=0.05, y=0.95, size=8.0, ha=\"left\", va=\"top\",\n",
    "                    s=settings.component_labels[settings.components[idx]],\n",
    "                    transform=axs[idx].transAxes)\n",
    "\n",
    "    axs[3].legend(loc=\"lower left\", framealpha=0, fontsize=6,\n",
    "                    bbox_to_anchor=(0.009, 0.65))\n",
    "\n",
    "    axs[0].text(\n",
    "        x=0.95, y=0.95, size=6.0,\n",
    "        s=r\"$\\texttt{\" + simulation.upper() + \"}$\",\n",
    "        ha='right', va='top', transform=axs[0].transAxes)\n",
    "\n",
    "    fig.savefig(\n",
    "        f\"../images/metal_abundance_distribution/{of}_{to}/\"\n",
    "        f\"with_stellar_origin/{simulation}.pdf\")\n",
    "    plt.close(fig)"
   ]
  },
  {
   "cell_type": "code",
   "execution_count": 71,
   "metadata": {},
   "outputs": [],
   "source": [
    "def plot_distribution_for_sample(simulations: list,\n",
    "    of: str, to: str, xlim: tuple, ylim: tuple,\n",
    "    xticks: list, yticks: list) -> None:\n",
    "\n",
    "    fig = plt.figure(figsize=(7.4, 7.2))\n",
    "    gs = fig.add_gridspec(nrows=6, ncols=5, hspace=0.0, wspace=0.0)\n",
    "    axs = gs.subplots(sharex=True, sharey=True)\n",
    "\n",
    "    for ax in axs.flat:\n",
    "        ax.tick_params(which='both', direction=\"in\")\n",
    "        ax.set_xlim(xlim)\n",
    "        ax.set_ylim(ylim)\n",
    "        ax.set_xticks(xticks)\n",
    "        ax.set_yticks(yticks)\n",
    "        ax.set_xlabel(f'[{of}/{to}]')\n",
    "        ax.set_ylabel(\"PDF\")\n",
    "        ax.grid(True, ls='-', lw=0.25, c=\"gainsboro\")\n",
    "        ax.label_outer()\n",
    "\n",
    "    for i, simulation in enumerate(simulations):\n",
    "        df = read_data(simulation=simulation, of=of, to=to)\n",
    "        ax = axs.flatten()[i]\n",
    "\n",
    "        for region_tag in range(4):\n",
    "            is_region = (df[\"RegionTag\"] == region_tag)\n",
    "            is_finite = np.isfinite(df[f\"[{of}/{to}]\"])\n",
    "\n",
    "            pdf = gaussian_kde(df[f\"[{of}/{to}]\"][\n",
    "                is_region & is_finite].to_numpy(\n",
    "                    dtype=np.float64))\n",
    "            pdf_x = np.linspace(xlim[0], xlim[1], 100)\n",
    "            pdf_y = pdf(pdf_x)\n",
    "            ax.plot(\n",
    "                pdf_x, pdf_y, lw=1.0,\n",
    "                color=settings.component_colors[\n",
    "                    settings.components[region_tag]],\n",
    "                label=settings.component_labels[\n",
    "                    settings.components[region_tag]],\n",
    "                zorder=15)\n",
    "\n",
    "        ax.text(\n",
    "            x=0.95, y=0.95, size=6.0,\n",
    "            s=r\"$\\texttt{\" + simulation.upper() + \"}$\",\n",
    "            ha='right', va='top', transform=ax.transAxes)\n",
    "\n",
    "        if i == 0:\n",
    "            ax.legend(loc=\"upper left\", framealpha=0, fontsize=4)\n",
    "\n",
    "        fig.savefig(\n",
    "            f\"../images/metal_abundance_distribution/{of}_{to}/originals.pdf\")\n",
    "        plt.close(fig)"
   ]
  },
  {
   "cell_type": "code",
   "execution_count": 34,
   "metadata": {},
   "outputs": [],
   "source": [
    "for simulation in simulations:\n",
    "    plot_distribution_for_galaxy_with_stellar_origin(\n",
    "        simulation, of=\"Fe\", to='H', xlim=(-3, 1.5), ylim=(0, 0.2),\n",
    "        xticks=[-2, -1, 0, 1])"
   ]
  },
  {
   "cell_type": "code",
   "execution_count": 77,
   "metadata": {},
   "outputs": [],
   "source": [
    "plot_distribution_for_sample(\n",
    "    simulations, of='O', to=\"Fe\",\n",
    "    xlim=(0, 0.5), ylim=(0, 20),\n",
    "    xticks=[0.1, 0.2, 0.3, 0.4], yticks=[0, 5, 10, 15])"
   ]
  },
  {
   "cell_type": "code",
   "execution_count": 76,
   "metadata": {},
   "outputs": [],
   "source": [
    "plot_distribution_for_sample(\n",
    "    simulations, of=\"Fe\", to='H',\n",
    "    xlim=(-2, 2), ylim=(0, 2.5),\n",
    "    xticks=[-1, 0, 1], yticks=[0, 0.5, 1, 1.5, 2])"
   ]
  }
 ],
 "metadata": {
  "kernelspec": {
   "display_name": "Python 3",
   "language": "python",
   "name": "python3"
  },
  "language_info": {
   "codemirror_mode": {
    "name": "ipython",
    "version": 3
   },
   "file_extension": ".py",
   "mimetype": "text/x-python",
   "name": "python",
   "nbconvert_exporter": "python",
   "pygments_lexer": "ipython3",
   "version": "3.7.3"
  },
  "orig_nbformat": 4
 },
 "nbformat": 4,
 "nbformat_minor": 2
}
