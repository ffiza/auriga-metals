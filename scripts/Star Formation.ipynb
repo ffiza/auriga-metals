{
 "cells": [
  {
   "attachments": {},
   "cell_type": "markdown",
   "metadata": {},
   "source": [
    "# Star Formation"
   ]
  },
  {
   "cell_type": "code",
   "execution_count": 17,
   "metadata": {},
   "outputs": [],
   "source": [
    "import matplotlib.pyplot as plt\n",
    "import pandas as pd\n",
    "from scipy.signal import savgol_filter\n",
    "from multiprocessing import Pool\n",
    "import os"
   ]
  },
  {
   "cell_type": "code",
   "execution_count": 18,
   "metadata": {},
   "outputs": [],
   "source": [
    "os.environ[\"MKL_NUM_THREADS\"] = \"1\"\n",
    "os.environ[\"NUMEXPR_NUM_THREADS\"] = \"1\"\n",
    "os.environ[\"OMP_NUM_THREADS\"] = \"1\"\n",
    "import numpy as np"
   ]
  },
  {
   "cell_type": "code",
   "execution_count": 19,
   "metadata": {},
   "outputs": [],
   "source": [
    "from auriga.snapshot import Snapshot\n",
    "from auriga.images import figure_setup\n",
    "from auriga.settings import Settings\n",
    "from auriga.support import make_snapshot_number\n",
    "from auriga.paths import Paths\n",
    "from auriga.parser import parse"
   ]
  },
  {
   "cell_type": "code",
   "execution_count": 20,
   "metadata": {},
   "outputs": [],
   "source": [
    "figure_setup()\n",
    "settings = Settings()"
   ]
  },
  {
   "cell_type": "code",
   "execution_count": 21,
   "metadata": {},
   "outputs": [],
   "source": [
    "DISC_STD_CIRC = settings.disc_std_circ\n",
    "DISC_MIN_CIRC = settings.disc_min_circ\n",
    "COLD_DISC_DELTA_CIRC = settings.cold_disc_delta_circ\n",
    "BULGE_MAX_SPECIFIC_ENERGY = -0.6\n",
    "SUFFIX = \"_02\""
   ]
  },
  {
   "cell_type": "code",
   "execution_count": 22,
   "metadata": {},
   "outputs": [],
   "source": [
    "def calculate_sfr_by_region(simulation: str) -> np.ndarray:\n",
    "    _, _, _, snapshot = parse(simulation)\n",
    "    settings = Settings()\n",
    "\n",
    "    if snapshot >= 40:  # Here, settings.first_snap doesn't work\n",
    "        s = Snapshot(simulation, loadonlytype=[0, 1, 2, 3, 4, 5])\n",
    "        s.tag_particles_by_region(\n",
    "            disc_std_circ=DISC_STD_CIRC,\n",
    "            disc_min_circ=DISC_MIN_CIRC,\n",
    "            cold_disc_delta_circ=COLD_DISC_DELTA_CIRC,\n",
    "            bulge_max_specific_energy=BULGE_MAX_SPECIFIC_ENERGY)\n",
    "        sfr = s.calculate_sfr_by_region()\n",
    "    else:\n",
    "        sfr = [np.nan] * 4\n",
    "\n",
    "    return np.array(sfr)"
   ]
  },
  {
   "cell_type": "code",
   "execution_count": 23,
   "metadata": {},
   "outputs": [],
   "source": [
    "def calculate_sfr_by_region_evolution(simulation: str) -> pd.DataFrame:\n",
    "    galaxy, rerun, resolution = parse(simulation)\n",
    "    n_snapshots = make_snapshot_number(rerun, resolution)\n",
    "    snapnums = [f\"{simulation}_s{i}\" for i in range(n_snapshots)]\n",
    "    sfr = np.array(Pool().map(calculate_sfr_by_region, snapnums))\n",
    "\n",
    "    # Read time\n",
    "    paths = Paths(galaxy, rerun, resolution)\n",
    "    time = pd.read_csv(\n",
    "        f\"../{paths.results}temporal_data.csv\", usecols=[\"Time_Gyr\"])\n",
    "\n",
    "    # Create dataframe\n",
    "    data = {\"SFR_Msun/yr_H\": sfr[:, 0], \n",
    "            \"SFR_Msun/yr_B\": sfr[:, 1], \n",
    "            \"SFR_Msun/yr_CD\": sfr[:, 2], \n",
    "            \"SFR_Msun/yr_WD\": sfr[:, 3],\n",
    "            \"SFR_Msun/yr\": np.sum(sfr, axis=1),\n",
    "            \"Time_Gyr\": time[\"Time_Gyr\"].to_numpy()}\n",
    "\n",
    "    return pd.DataFrame(data)"
   ]
  },
  {
   "cell_type": "code",
   "execution_count": 24,
   "metadata": {},
   "outputs": [],
   "source": [
    "fig = plt.figure(figsize=(7.2, 7.2))\n",
    "gs = fig.add_gridspec(nrows=6, ncols=5, hspace=0.0, wspace=0.0)\n",
    "axs = gs.subplots(sharex=True, sharey=True)\n",
    "\n",
    "for ax in axs.flatten():\n",
    "    ax.set_xlim(0, 14)\n",
    "    ax.set_ylim(0.1, 20),\n",
    "    ax.set_xticks([2, 4, 6, 8, 10, 12])\n",
    "    ax.set_yscale(\"log\")\n",
    "    ax.set_yticks([0.1, 1, 10])\n",
    "    ax.set_yticklabels([0.1, 1, 10])\n",
    "    ax.set_xlabel(\"Time [Gyr]\")\n",
    "    ax.set_ylabel(r\"SFR [$\\mathrm{M}_\\odot \\, \\mathrm{yr}^{-1}$]\")\n",
    "    ax.label_outer()\n",
    "\n",
    "for idx, ax in enumerate(axs.flatten()):\n",
    "    galaxy = idx + 1\n",
    "    simulation = f\"au{galaxy}_or_l4\"\n",
    "    sfr = calculate_sfr_by_region_evolution(simulation)\n",
    "    sfr.dropna(inplace=True)\n",
    "    for component in settings.components:\n",
    "        ax.plot(sfr[\"Time_Gyr\"],\n",
    "                savgol_filter(sfr[f\"SFR_Msun/yr_{component}\"], 5, 1),\n",
    "                c=settings.component_colors[component],\n",
    "                lw=1.0, label=settings.component_labels[component], zorder=10)\n",
    "    ax.plot(sfr[\"Time_Gyr\"], savgol_filter(sfr[\"SFR_Msun/yr\"], 5, 1),\n",
    "            c='k', lw=1.0, label=\"Total\", zorder=10)\n",
    "    ax.text(x=0.95, y=0.95, size=6.0,\n",
    "            s=r\"$\\texttt{\" + simulation.upper() + \"}$\",\n",
    "            ha='right', va='top', transform=ax.transAxes)\n",
    "\n",
    "    if ax == axs[0, 0]:\n",
    "        ax.legend(loc=\"upper left\", framealpha=0.0, fontsize=4.0)\n",
    "\n",
    "    ax.xaxis.label.set_size(8.0)\n",
    "    ax.yaxis.label.set_size(8.0)\n",
    "\n",
    "    fig.savefig(f\"../images/sfr_by_region/originals{SUFFIX}.pdf\")\n",
    "\n",
    "plt.close(fig)"
   ]
  }
 ],
 "metadata": {
  "kernelspec": {
   "display_name": "Python 3",
   "language": "python",
   "name": "python3"
  },
  "language_info": {
   "codemirror_mode": {
    "name": "ipython",
    "version": 3
   },
   "file_extension": ".py",
   "mimetype": "text/x-python",
   "name": "python",
   "nbconvert_exporter": "python",
   "pygments_lexer": "ipython3",
   "version": "3.7.3"
  },
  "orig_nbformat": 4
 },
 "nbformat": 4,
 "nbformat_minor": 2
}
