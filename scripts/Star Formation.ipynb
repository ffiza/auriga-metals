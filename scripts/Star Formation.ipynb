{
 "cells": [
  {
   "attachments": {},
   "cell_type": "markdown",
   "metadata": {},
   "source": [
    "# Star Formation"
   ]
  },
  {
   "cell_type": "code",
   "execution_count": 13,
   "metadata": {},
   "outputs": [],
   "source": [
    "from matplotlib import pyplot as plt\n",
    "import matplotlib.colors as mcolors\n",
    "import numpy as np\n",
    "import pandas as pd\n",
    "from tqdm import tqdm\n",
    "from scipy.signal import savgol_filter"
   ]
  },
  {
   "cell_type": "code",
   "execution_count": 14,
   "metadata": {},
   "outputs": [],
   "source": [
    "from auriga.snapshot import Snapshot\n",
    "from auriga.images import figure_setup, set_axs_configuration, add_redshift\n",
    "from auriga.settings import Settings\n",
    "from auriga.support import make_snapshot_number\n",
    "from auriga.parser import parse"
   ]
  },
  {
   "cell_type": "code",
   "execution_count": 15,
   "metadata": {},
   "outputs": [],
   "source": [
    "figure_setup()"
   ]
  },
  {
   "cell_type": "code",
   "execution_count": 16,
   "metadata": {},
   "outputs": [],
   "source": [
    "settings = Settings()"
   ]
  },
  {
   "cell_type": "code",
   "execution_count": 17,
   "metadata": {},
   "outputs": [],
   "source": [
    "def add_panel_for_galaxy(simulation: str, ax: plt.Axes):\n",
    "    \"\"\"\n",
    "    This method adds a panel with the results for a given simulation.\n",
    "\n",
    "    Parameters\n",
    "    ----------\n",
    "    simulation : str\n",
    "        The simulation.\n",
    "    ax : plt.Axes\n",
    "        The ax to which to add the plot.\n",
    "    \"\"\"\n",
    "\n",
    "    settings = Settings()\n",
    "\n",
    "    df = pd.read_csv(f\"../results/{simulation}/temporal_data.csv\")\n",
    "    df[\"SFR_Total_Msun/yr\"] = df[\n",
    "        [\"SFR_H_Msun/yr\", \"SFR_B_Msun/yr\",\n",
    "         \"SFR_CD_Msun/yr\", \"SFR_WD_Msun/yr\"]].sum(axis=1)\n",
    "    df.dropna(inplace=True)\n",
    "\n",
    "    for component in settings.components:\n",
    "        ax.plot(df[\"Time_Gyr\"],\n",
    "                savgol_filter(df[f\"SFR_{component}_Msun/yr\"], 5, 1),\n",
    "                c=settings.component_colors[component],\n",
    "                lw=1.0, label=settings.component_labels[component], zorder=10)\n",
    "    ax.plot(df[\"Time_Gyr\"], savgol_filter(df[\"SFR_Total_Msun/yr\"], 5, 1),\n",
    "            c='k', lw=1.0, label=\"Total\", zorder=10)\n",
    "\n",
    "    ax.text(x=0.95, y=0.95, size=6.0,\n",
    "            s=r\"$\\texttt{\" + simulation.upper() + \"}$\",\n",
    "            ha='right', va='top', transform=ax.transAxes)"
   ]
  },
  {
   "cell_type": "code",
   "execution_count": 18,
   "metadata": {},
   "outputs": [],
   "source": [
    "def plot_sfr_by_region_for_sample(simulations: list, filename: str):\n",
    "    \"\"\"\n",
    "    This method creates a plot of the star formation rate (SFR) by\n",
    "    galactic component for each simulation.\n",
    "\n",
    "    Parameters\n",
    "    ----------\n",
    "    simulations : str\n",
    "        A list of simulations to plot.\n",
    "    filename : str\n",
    "        The name of the output file.\n",
    "    \"\"\"\n",
    "\n",
    "    n_simulations = len(simulations)\n",
    "\n",
    "    fig = plt.figure(figsize=(7.2, 7.2))\n",
    "    gs = fig.add_gridspec(nrows=6, ncols=5, hspace=0.0, wspace=0.0)\n",
    "    axs = gs.subplots(sharex=True, sharey=True)\n",
    "\n",
    "    set_axs_configuration(\n",
    "        xlim=(0, 14), ylim=(0.1, 20),\n",
    "        xticks=[2, 4, 6, 8, 10, 12], yticks=[0.1, 1, 10],\n",
    "        xlabel=\"Time [Gyr]\",\n",
    "        ylabel=r\"SFR [$\\mathrm{M}_\\odot \\, \\mathrm{yr}^{-1}$]\",\n",
    "        axs=axs, n_used=n_simulations,\n",
    "        yticklabels=[0.1, 1, 10], yscale=\"log\",\n",
    "        )\n",
    "\n",
    "    for idx, ax in enumerate(axs.flat):\n",
    "        if idx < n_simulations:\n",
    "            add_panel_for_galaxy(simulations[idx], ax=ax)\n",
    "        else:\n",
    "            ax.axis(\"off\")\n",
    "        \n",
    "        if ax == axs[0, 0]:\n",
    "            ax.legend(loc=\"upper left\", framealpha=0.0, fontsize=4.0)\n",
    "\n",
    "        ax.xaxis.label.set_size(8.0)\n",
    "        ax.yaxis.label.set_size(8.0)\n",
    "\n",
    "    fig.savefig(f\"../images/sfr_by_region/{filename}.pdf\")\n",
    "    plt.close(fig)"
   ]
  },
  {
   "cell_type": "code",
   "execution_count": 20,
   "metadata": {},
   "outputs": [],
   "source": [
    "# Create plots for all galaxies\n",
    "originals = [f\"au{i}_or_l4\" for i in settings.galaxies]\n",
    "reruns = [f\"au{i}_re_l4\" for i in settings.reruns]\n",
    "plot_sfr_by_region_for_sample(simulations=originals, filename=\"originals\")\n",
    "plot_sfr_by_region_for_sample(simulations=reruns, filename=\"reruns\")"
   ]
  }
 ],
 "metadata": {
  "kernelspec": {
   "display_name": "Python 3",
   "language": "python",
   "name": "python3"
  },
  "language_info": {
   "codemirror_mode": {
    "name": "ipython",
    "version": 3
   },
   "file_extension": ".py",
   "mimetype": "text/x-python",
   "name": "python",
   "nbconvert_exporter": "python",
   "pygments_lexer": "ipython3",
   "version": "3.7.3"
  },
  "orig_nbformat": 4
 },
 "nbformat": 4,
 "nbformat_minor": 2
}
