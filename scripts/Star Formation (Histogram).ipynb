{
 "cells": [
  {
   "attachments": {},
   "cell_type": "markdown",
   "metadata": {},
   "source": [
    "# Star Formation"
   ]
  },
  {
   "cell_type": "code",
   "execution_count": 80,
   "metadata": {},
   "outputs": [],
   "source": [
    "import matplotlib.pyplot as plt\n",
    "import pandas as pd\n",
    "from scipy.signal import savgol_filter\n",
    "import numpy as np\n",
    "import warnings"
   ]
  },
  {
   "cell_type": "code",
   "execution_count": 81,
   "metadata": {},
   "outputs": [],
   "source": [
    "from auriga.snapshot import Snapshot\n",
    "from auriga.images import figure_setup\n",
    "from auriga.settings import Settings\n",
    "from auriga.cosmology import Cosmology\n",
    "from auriga.parser import parse"
   ]
  },
  {
   "cell_type": "code",
   "execution_count": 82,
   "metadata": {},
   "outputs": [],
   "source": [
    "figure_setup()\n",
    "settings = Settings()\n",
    "cosmology = Cosmology()"
   ]
  },
  {
   "cell_type": "code",
   "execution_count": 83,
   "metadata": {},
   "outputs": [],
   "source": [
    "DISC_STD_CIRC = settings.disc_std_circ\n",
    "DISC_MIN_CIRC = settings.disc_min_circ\n",
    "COLD_DISC_DELTA_CIRC = settings.cold_disc_delta_circ\n",
    "BULGE_MAX_SPECIFIC_ENERGY = -0.6\n",
    "SUFFIX = \"_02\""
   ]
  },
  {
   "cell_type": "code",
   "execution_count": 84,
   "metadata": {},
   "outputs": [],
   "source": [
    "def load_data(simulation: str) -> pd.DataFrame:\n",
    "    s = Snapshot(simulation, loadonlytype=[0, 1, 2, 3, 4, 5])\n",
    "    s.tag_particles_by_region(\n",
    "        disc_std_circ=DISC_STD_CIRC,\n",
    "        disc_min_circ=DISC_MIN_CIRC,\n",
    "        cold_disc_delta_circ=COLD_DISC_DELTA_CIRC,\n",
    "        bulge_max_specific_energy=BULGE_MAX_SPECIFIC_ENERGY)\n",
    "    s.tag_in_situ_stars()\n",
    "\n",
    "    is_real_star = (s.type == 4) & (s.stellar_formation_time > 0)\n",
    "    is_main_obj = (s.halo == s.halo_idx) & (s.subhalo == s.subhalo_idx)\n",
    "\n",
    "    props = {\n",
    "        \"FormationTime_Gyr\": cosmology.expansion_factor_to_time(\n",
    "            s.stellar_formation_time[is_real_star & is_main_obj]),\n",
    "        \"ComponentTag\": s.region_tag[is_real_star & is_main_obj],\n",
    "        \"Mass_Msun\": s.mass[is_real_star & is_main_obj],\n",
    "        \"IsInSitu\": s.is_in_situ[is_real_star & is_main_obj],\n",
    "    }\n",
    "\n",
    "    return pd.DataFrame(props), s.time"
   ]
  },
  {
   "cell_type": "code",
   "execution_count": 85,
   "metadata": {},
   "outputs": [],
   "source": [
    "def calculate_sfr(simulation: str) -> pd.DataFrame:\n",
    "    settings = Settings()\n",
    "\n",
    "    if parse(simulation)[1]:\n",
    "        raise ValueError(\"This method uses snapshot 127 as the last snapshot.\")\n",
    "\n",
    "    df, today_time = load_data(f\"{simulation}_s127\")\n",
    "\n",
    "    # Calculate SFR by component\n",
    "    times = np.linspace(0, today_time, 100)  # Gyr\n",
    "    bin_width = np.diff(times)[0]  # Gyr\n",
    "    bin_centers = times[1:] - bin_width / 2  # Gyr\n",
    "\n",
    "    mass, _ = np.histogram(\n",
    "        df[\"FormationTime_Gyr\"], bins=times, weights=df[\"Mass_Msun\"])\n",
    "\n",
    "    sfr = {\n",
    "        \"Time_Gyr\": bin_centers,\n",
    "        \"SFR_Msun/yr\": mass / bin_width / 1E9,\n",
    "    }\n",
    "\n",
    "    mass, _ = np.histogram(\n",
    "        df[\"FormationTime_Gyr\"][df[\"IsInSitu\"] == 1], bins=times,\n",
    "        weights=df[\"Mass_Msun\"][df[\"IsInSitu\"] == 1])\n",
    "\n",
    "    sfr[\"SFR_InSitu_Msun/yr\"] = mass / bin_width / 1E9\n",
    "\n",
    "    # Calculate the SFR by component\n",
    "    for i, comp in enumerate(settings.components):\n",
    "        mass, _ = np.histogram(\n",
    "            df[\"FormationTime_Gyr\"][df[\"ComponentTag\"] == i], bins=times,\n",
    "            weights=df[\"Mass_Msun\"][df[\"ComponentTag\"] == i])\n",
    "        sfr[f\"SFR_{comp}_Msun/yr\"] = mass / bin_width / 1E9\n",
    "        mass, _ = np.histogram(\n",
    "            df[\"FormationTime_Gyr\"][\n",
    "                (df[\"ComponentTag\"] == i) & (df[\"IsInSitu\"] == 1)],\n",
    "            bins=times,\n",
    "            weights=df[\"Mass_Msun\"][\n",
    "                (df[\"ComponentTag\"] == i) & (df[\"IsInSitu\"] == 1)])\n",
    "        sfr[f\"SFR_{comp}_InSitu_Msun/yr\"] = mass / bin_width / 1E9\n",
    "\n",
    "    return pd.DataFrame(sfr)"
   ]
  },
  {
   "cell_type": "markdown",
   "metadata": {},
   "source": [
    "### Figures"
   ]
  },
  {
   "cell_type": "code",
   "execution_count": 86,
   "metadata": {},
   "outputs": [],
   "source": [
    "SIMULATION = \"au6_or_l4_s127\"\n",
    "# SIMULATION = None"
   ]
  },
  {
   "cell_type": "code",
   "execution_count": 87,
   "metadata": {},
   "outputs": [],
   "source": [
    "# SAMPLE = [f\"au{i}_or_l4\" for i in settings.groups[\"Included\"]]\n",
    "SAMPLE = None"
   ]
  },
  {
   "cell_type": "code",
   "execution_count": 88,
   "metadata": {},
   "outputs": [],
   "source": [
    "if SIMULATION:\n",
    "    fig, ax = plt.subplots(figsize=(2.5, 2.5))\n",
    "\n",
    "    ax.tick_params(which='both', direction=\"in\")\n",
    "    ax.set_axisbelow(True)\n",
    "    ax.grid(True, ls='-', lw=0.25, c='silver')\n",
    "\n",
    "    ax.set_xlim(0, 14)\n",
    "    ax.set_xticks([2, 4, 6, 8, 10, 12])\n",
    "    ax.set_xlabel(\"Time [Gyr]\")\n",
    "\n",
    "    ax.set_ylim(0.1, 20)\n",
    "    ax.set_yscale(\"log\")\n",
    "    ax.set_yticks([0.1, 1, 10])\n",
    "    ax.set_yticklabels([0.1, 1, 10])\n",
    "    ax.set_ylabel(r\"SFR [$\\mathrm{M}_\\odot \\, \\mathrm{yr}^{-1}$]\")\n",
    "\n",
    "    label = f\"Au{parse(SIMULATION)[0]}\"\n",
    "\n",
    "    sfr = calculate_sfr(SIMULATION)\n",
    "    ax.plot(sfr[\"Time_Gyr\"], savgol_filter(sfr[\"SFR_Msun/yr\"], 5, 1),\n",
    "            c='k', lw=1.0, label=\"Total\", zorder=12)\n",
    "    ax.plot(sfr[\"Time_Gyr\"], savgol_filter(sfr[\"SFR_InSitu_Msun/yr\"], 5, 1),\n",
    "            c='k', ls=(0, (5, 1)), lw=0.5, label=\"In Situ\", zorder=10)\n",
    "    for component in settings.components:\n",
    "        ax.plot(sfr[\"Time_Gyr\"],\n",
    "                savgol_filter(sfr[f\"SFR_{component}_Msun/yr\"], 5, 1),\n",
    "                c=settings.component_colors[component],\n",
    "                lw=1.0, label=settings.component_labels[component], zorder=12)\n",
    "        ax.plot(sfr[\"Time_Gyr\"],\n",
    "                savgol_filter(sfr[f\"SFR_{component}_InSitu_Msun/yr\"], 5, 1),\n",
    "                c=settings.component_colors[component], ls=(0, (5, 1)), lw=0.5,\n",
    "                zorder=10)\n",
    "\n",
    "    ax.legend(loc=\"upper right\", framealpha=0.0, fontsize=5.0,\n",
    "              bbox_to_anchor=(0.99, 0.5), ncol=1)\n",
    "\n",
    "    ax.text(x=0.05, y=0.95, s=r\"$\\texttt{\" + label + \"}$\",\n",
    "            size=8.0, transform=ax.transAxes, ha='left', va='top')\n",
    "\n",
    "    fig.savefig(\n",
    "        f\"../images/sfr_by_region/histogram_{SIMULATION}{SUFFIX}.pdf\")\n",
    "    plt.close(fig)"
   ]
  },
  {
   "cell_type": "code",
   "execution_count": 93,
   "metadata": {},
   "outputs": [],
   "source": [
    "if SAMPLE:\n",
    "    fig = plt.figure(figsize=(7, 8))\n",
    "    gs = fig.add_gridspec(nrows=6, ncols=4, hspace=0.0, wspace=0.0)\n",
    "    axs = gs.subplots(sharex=True, sharey=True)\n",
    "\n",
    "    for ax in axs.flatten():\n",
    "        ax.tick_params(which='both', direction=\"in\")\n",
    "        if ax == axs[-1, -1]: ax.axis(\"off\")\n",
    "        ax.set_xlim(0, 14)\n",
    "        ax.set_ylim(0.1, 20),\n",
    "        ax.set_xticks([2, 4, 6, 8, 10, 12])\n",
    "        ax.set_yscale(\"log\")\n",
    "        ax.set_yticks([0.1, 1, 10])\n",
    "        ax.set_yticklabels([0.1, 1, 10])\n",
    "        if ax.get_subplotspec().is_last_row() or ax == axs[-2, -1]:\n",
    "            ax.set_xlabel(\"Time [Gyr]\")\n",
    "            ax.tick_params(labelbottom=True)\n",
    "        if ax.get_subplotspec().is_first_col():\n",
    "            ax.set_ylabel(r\"SFR [$\\mathrm{M}_\\odot \\, \\mathrm{yr}^{-1}$]\")\n",
    "\n",
    "    for i, simulation in enumerate(SAMPLE):\n",
    "        ax = axs.flatten()[i]\n",
    "        sfr = calculate_sfr(simulation)\n",
    "        label = f\"Au{parse(simulation)[0]}\"\n",
    "        ax.plot(sfr[\"Time_Gyr\"],\n",
    "                savgol_filter(sfr[\"SFR_Msun/yr\"], 5, 1),\n",
    "                c='k', lw=1.0, label=\"Total\", zorder=12)\n",
    "        ax.plot(sfr[\"Time_Gyr\"],\n",
    "                savgol_filter(sfr[\"SFR_InSitu_Msun/yr\"], 5, 1),\n",
    "                c='k', ls=(0, (5, 1)), lw=0.5, label=\"In Situ\", zorder=10)\n",
    "        for component in settings.components:\n",
    "                ax.plot(sfr[\"Time_Gyr\"],\n",
    "                        savgol_filter(sfr[f\"SFR_{component}_Msun/yr\"], 5, 1),\n",
    "                        c=settings.component_colors[component],\n",
    "                        lw=1.0, label=settings.component_labels[component],\n",
    "                        zorder=12)\n",
    "                ax.plot(sfr[\"Time_Gyr\"],\n",
    "                        savgol_filter(sfr[f\"SFR_{component}_InSitu_Msun/yr\"],\n",
    "                                        5, 1),\n",
    "                        c=settings.component_colors[component], ls=(0, (5, 1)),\n",
    "                        lw=0.5, zorder=10)\n",
    "        ax.text(x=0.95, y=0.95, size=6.0, s=r\"$\\texttt{\" + label + \"}$\",\n",
    "                ha='right', va='top', transform=ax.transAxes)\n",
    "\n",
    "    if ax == axs[0, 0]:\n",
    "        ax.legend(loc=\"lower center\", framealpha=0.0, fontsize=5.0,\n",
    "                  bbox_to_anchor=(3.5, -4.9), ncol=2)\n",
    "\n",
    "    ax.xaxis.label.set_size(8.0)\n",
    "    ax.yaxis.label.set_size(8.0)\n",
    "\n",
    "    fig.savefig(f\"../images/sfr_by_region/histogram_included{SUFFIX}.pdf\")\n",
    "\n",
    "    plt.close(fig)"
   ]
  }
 ],
 "metadata": {
  "kernelspec": {
   "display_name": "Python 3",
   "language": "python",
   "name": "python3"
  },
  "language_info": {
   "codemirror_mode": {
    "name": "ipython",
    "version": 3
   },
   "file_extension": ".py",
   "mimetype": "text/x-python",
   "name": "python",
   "nbconvert_exporter": "python",
   "pygments_lexer": "ipython3",
   "version": "3.7.3"
  },
  "orig_nbformat": 4
 },
 "nbformat": 4,
 "nbformat_minor": 2
}
