{
 "cells": [
  {
   "attachments": {},
   "cell_type": "markdown",
   "metadata": {},
   "source": [
    "# Age-Abundance Relation"
   ]
  },
  {
   "cell_type": "code",
   "execution_count": 2,
   "metadata": {},
   "outputs": [],
   "source": [
    "from matplotlib import pyplot as plt\n",
    "import matplotlib.colors as mcolors\n",
    "import numpy as np\n",
    "import pandas as pd\n",
    "import yaml"
   ]
  },
  {
   "cell_type": "code",
   "execution_count": 3,
   "metadata": {},
   "outputs": [],
   "source": [
    "from auriga.snapshot import Snapshot\n",
    "from auriga.images import figure_setup\n",
    "from auriga.settings import Settings\n",
    "from auriga.parser import parse\n",
    "from auriga.support import make_snapshot_number"
   ]
  },
  {
   "cell_type": "code",
   "execution_count": 4,
   "metadata": {},
   "outputs": [],
   "source": [
    "figure_setup()\n",
    "settings = Settings()"
   ]
  },
  {
   "cell_type": "code",
   "execution_count": 5,
   "metadata": {},
   "outputs": [],
   "source": [
    "CONFIG_FILE = \"02\"\n",
    "config = yaml.safe_load(open(f\"../configs/{CONFIG_FILE}.yml\"))"
   ]
  },
  {
   "cell_type": "code",
   "execution_count": 6,
   "metadata": {},
   "outputs": [],
   "source": [
    "SAMPLE = [f\"au{i}_or_l4_s127\" for i in settings.groups[\"Included\"]]"
   ]
  },
  {
   "cell_type": "code",
   "execution_count": 8,
   "metadata": {},
   "outputs": [],
   "source": [
    "def read_data(simulation: str, of: str, to: str) -> pd.DataFrame:\n",
    "    s = Snapshot(simulation=simulation, loadonlytype=[0, 1, 2, 3, 4, 5])\n",
    "    s.add_stellar_age()\n",
    "    s.add_metal_abundance(of, to)\n",
    "    s.add_circularity()\n",
    "    s.tag_particles_by_region(\n",
    "        disc_std_circ=config[\"DISC_STD_CIRC\"],\n",
    "        disc_min_circ=config[\"DISC_MIN_CIRC\"],\n",
    "        cold_disc_delta_circ=config[\"COLD_DISC_DELTA_CIRC\"],\n",
    "        bulge_max_specific_energy=config[\"BULGE_MAX_SPECIFIC_ENERGY\"])\n",
    "\n",
    "    is_real_star = (s.type == 4) & (s.stellar_formation_time > 0)\n",
    "    is_main_obj = (s.halo == s.halo_idx) & (s.subhalo == s.subhalo_idx)\n",
    "\n",
    "    props = {\n",
    "        \"StellarAge_Gyr\": s.stellar_age[is_real_star & is_main_obj],\n",
    "        f\"[{of}/{to}]\": s.metal_abundance[f\"{of}/{to}\"][\n",
    "            is_real_star & is_main_obj],\n",
    "        \"ComponentTag\": s.region_tag[is_real_star & is_main_obj]}\n",
    "\n",
    "    df = pd.DataFrame(props)\n",
    "    df[~np.isfinite(df)] = np.nan\n",
    "    df.dropna(inplace=True)\n",
    "    return df"
   ]
  },
  {
   "cell_type": "code",
   "execution_count": 70,
   "metadata": {},
   "outputs": [],
   "source": [
    "of, to = \"O\", \"H\"\n",
    "\n",
    "# Calculate the medians for all galaxies in the sample\n",
    "data = {\"Simulation\": []}\n",
    "for component in settings.components:\n",
    "    data[f\"Abundance_{of}{to}_{component}\"] = []\n",
    "    data[f\"StellarAge_{component}_Gyr\"] = []\n",
    "\n",
    "for simulation in SAMPLE:\n",
    "    data[\"Simulation\"].append(simulation)\n",
    "    df = read_data(simulation=simulation, of=of, to=to)\n",
    "    for i in range(len(settings.components)):\n",
    "        component = settings.components[i]\n",
    "        is_region = (df[\"ComponentTag\"] == i)\n",
    "        data[f\"Abundance_{of}{to}_{component}\"].append(\n",
    "            np.nanmedian(df[f\"[{of}/{to}]\"][is_region])\n",
    "        )\n",
    "        data[f\"StellarAge_{component}_Gyr\"].append(\n",
    "            np.nanmedian(df[f\"StellarAge_Gyr\"][is_region])\n",
    "        )\n",
    "\n",
    "df = pd.DataFrame(data)\n",
    "df.to_csv(\n",
    "    f\"../results/age_{of}{to}_abundance_sample_\"\n",
    "    f\"median{config['FILE_SUFFIX']}.csv\")"
   ]
  },
  {
   "cell_type": "code",
   "execution_count": 69,
   "metadata": {},
   "outputs": [],
   "source": [
    "markers = list(settings.component_markers.values())\n",
    "colors = list(settings.component_colors.values())\n",
    "labels = list(settings.component_labels.values())\n",
    "\n",
    "fig, axs = plt.subplots(\n",
    "    figsize=(7.4, 2.0), nrows=1, ncols=4, sharey=True, sharex=True,\n",
    "    gridspec_kw={\"hspace\": 0.0, \"wspace\": 0.0})\n",
    "\n",
    "for ax in axs.flat:\n",
    "    ax.grid(True, ls='-', lw=0.25, c=\"gainsboro\")\n",
    "    ax.tick_params(which='both', direction=\"in\")\n",
    "\n",
    "    ax.set_xlim(0, 14)\n",
    "    ax.set_xticks([2, 4, 6, 8, 10, 12])\n",
    "    ax.set_xlabel(\"median(Age) [Gyr]\")\n",
    "\n",
    "    ax.set_ylim(-0.7, 0.9)\n",
    "    ax.set_ylabel(f\"median([{of}/{to}])\")\n",
    "    ax.set_axisbelow(True)\n",
    "\n",
    "    ax.label_outer()\n",
    "\n",
    "for i, ax in enumerate(axs.flatten()):\n",
    "    for j in range(4):\n",
    "        component = settings.components[j]\n",
    "        label = labels[j] if j == i else None\n",
    "        color = colors[j] if j == i else \"silver\"\n",
    "        zorder = 10 if j == i else 5\n",
    "        ax.scatter(\n",
    "            df[f\"StellarAge_{component}_Gyr\"],\n",
    "            df[f\"Abundance_{of}{to}_{component}\"],\n",
    "            c=color, label=label, zorder=zorder,\n",
    "            s=20, linewidths=0.4, edgecolors=\"white\", marker=markers[j])\n",
    "\n",
    "        if j == i:\n",
    "            age_pdf = gaussian_kde(df[f\"StellarAge_{component}_Gyr\"])\n",
    "            pdf_x = np.linspace(0, 14, 100)\n",
    "            pdf_y = age_pdf(pdf_x)\n",
    "            pdf_y = (pdf_y - pdf_y.min()) / (pdf_y.max() - pdf_y.min()) * 0.1 * np.diff(ax.get_ylim()) + ax.get_ylim()[0]\n",
    "            ax.fill_between(\n",
    "                x=pdf_x, y1=ax.get_ylim()[0], y2=pdf_y, edgecolor=color,\n",
    "                facecolor=mcolors.TABLEAU_COLORS[color] + \"30\")\n",
    "            \n",
    "            abundance_pdf = gaussian_kde(df[f\"Abundance_{of}{to}_{component}\"])\n",
    "            pdf_y = np.linspace(-1.0, 0.7, 100)\n",
    "            pdf_x = abundance_pdf(pdf_y) / np.max(abundance_pdf(pdf_y)) * 2\n",
    "            ax.fill_betweenx(\n",
    "                y=pdf_y, x1=-pdf_x + 14, x2=14, edgecolor=color,\n",
    "                facecolor=mcolors.TABLEAU_COLORS[color] + \"30\")\n",
    "\n",
    "    ax.legend(loc=\"upper left\", framealpha=0, fontsize=7.5)\n",
    "\n",
    "fig.savefig(\n",
    "    f\"../images/age_{of}{to}_abundance_by_region/\"\n",
    "    f\"included_scatter{config['FILE_SUFFIX']}.pdf\")\n",
    "plt.close(fig)"
   ]
  }
 ],
 "metadata": {
  "kernelspec": {
   "display_name": "Python 3",
   "language": "python",
   "name": "python3"
  },
  "language_info": {
   "codemirror_mode": {
    "name": "ipython",
    "version": 3
   },
   "file_extension": ".py",
   "mimetype": "text/x-python",
   "name": "python",
   "nbconvert_exporter": "python",
   "pygments_lexer": "ipython3",
   "version": "3.7.3"
  },
  "orig_nbformat": 4
 },
 "nbformat": 4,
 "nbformat_minor": 2
}
