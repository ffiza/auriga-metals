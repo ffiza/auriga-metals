{
 "cells": [
  {
   "attachments": {},
   "cell_type": "markdown",
   "metadata": {},
   "source": [
    "# Stellar Metallicity Profiles"
   ]
  },
  {
   "cell_type": "code",
   "execution_count": 1,
   "metadata": {},
   "outputs": [],
   "source": [
    "from matplotlib import pyplot as plt\n",
    "import matplotlib.colors as mcolors\n",
    "import numpy as np\n",
    "import pandas as pd\n",
    "from scipy.stats import binned_statistic\n",
    "from auriga.snapshot import Snapshot\n",
    "from auriga.images import figure_setup, set_axs_configuration\n",
    "from auriga.settings import Settings\n",
    "from auriga.parser import parse"
   ]
  },
  {
   "cell_type": "code",
   "execution_count": 2,
   "metadata": {},
   "outputs": [],
   "source": [
    "figure_setup()\n",
    "settings = Settings()"
   ]
  },
  {
   "cell_type": "code",
   "execution_count": 3,
   "metadata": {},
   "outputs": [],
   "source": [
    "def read_data(simulation: str, of: str, to: str) -> tuple:\n",
    "    \"\"\"\n",
    "    This method returns data of interest for this analysis.\n",
    "\n",
    "    Parameters\n",
    "    ----------\n",
    "    simulation : str\n",
    "        The simulation to consider.\n",
    "\n",
    "    Returns\n",
    "    -------\n",
    "    pd.DataFrame\n",
    "        A data frame with the properties.\n",
    "    \"\"\"\n",
    "\n",
    "    settings = Settings()\n",
    "\n",
    "    s = Snapshot(simulation=simulation, loadonlytype=[0, 1, 2, 3, 4, 5])\n",
    "    s.tag_particles_by_region(\n",
    "        disc_std_circ=settings.disc_std_circ,\n",
    "        disc_min_circ=settings.disc_min_circ,\n",
    "        cold_disc_delta_circ=settings.cold_disc_delta_circ,\n",
    "        bulge_max_specific_energy=settings.bulge_max_specific_energy)\n",
    "    s.add_metal_abundance(of, to)\n",
    "\n",
    "    is_real_star = (s.type == 4) & (s.stellar_formation_time > 0)\n",
    "    is_main_obj = (s.halo == s.halo_idx) & (s.subhalo == s.subhalo_idx)\n",
    "\n",
    "    df = pd.DataFrame()\n",
    "    df[\"[Fe/H]\"] = s.metal_abundance[\"Fe/H\"][is_real_star & is_main_obj]\n",
    "    df[\"r_xy\"] = s.rho[is_real_star & is_main_obj]\n",
    "    df[\"RegTag\"] = s.region_tag[is_real_star & is_main_obj]\n",
    "\n",
    "    return df"
   ]
  },
  {
   "cell_type": "markdown",
   "metadata": {},
   "source": [
    "## [Fe/H] Abundance"
   ]
  },
  {
   "cell_type": "code",
   "execution_count": 4,
   "metadata": {},
   "outputs": [],
   "source": [
    "def add_panel_for_galaxy(simulation: str, ax: plt.Axes):\n",
    "    \"\"\"\n",
    "    This method adds a panel with the results for a given simulation.\n",
    "\n",
    "    Parameters\n",
    "    ----------\n",
    "    simulation : str\n",
    "        The simulation.\n",
    "    ax : plt.Axes\n",
    "        The ax to which to add the plot.\n",
    "    \"\"\"\n",
    "\n",
    "    galaxy, _, _, _ = parse(simulation=simulation)\n",
    "    df = read_data(simulation=simulation, of=\"Fe\", to=\"H\")\n",
    "\n",
    "    for tag in settings.component_tags.values():\n",
    "        is_region = (df[\"RegTag\"] == tag)\n",
    "        n_bins = np.diff(ax.get_xlim())\n",
    "        data, bin_edges, _ = binned_statistic(\n",
    "            x=df[\"r_xy\"][is_region & np.isfinite(df[\"[Fe/H]\"])],\n",
    "            values=df[\"[Fe/H]\"][is_region & np.isfinite(df[\"[Fe/H]\"])],\n",
    "            statistic=\"median\",\n",
    "            bins=n_bins,\n",
    "            range=ax.get_xlim())\n",
    "        bin_centers = bin_edges[1:] - np.diff(bin_edges)[0] / 2\n",
    "        ax.plot(bin_centers[np.isfinite(data)],\n",
    "                data[np.isfinite(data)], lw=.75, zorder=10,\n",
    "                c=settings.component_colors[settings.components[tag]],\n",
    "                label=settings.component_labels[settings.components[tag]])\n",
    "    ax.text(x=0.95, y=0.95, size=6.0,\n",
    "            s=r\"$\\texttt{\" + f\"au{galaxy}_or_l4\".upper() + \"}$\",\n",
    "            ha='right', va='top', transform=ax.transAxes)"
   ]
  },
  {
   "cell_type": "code",
   "execution_count": 5,
   "metadata": {},
   "outputs": [],
   "source": [
    "def plot_metall_prof_for_sample(simulations: list, filename: str):\n",
    "    \"\"\"\n",
    "    This method creates a plot of the abundance profile for each simulation.\n",
    "\n",
    "    Parameters\n",
    "    ----------\n",
    "    simulations : str\n",
    "        A list of simulations to plot.\n",
    "    filename : str\n",
    "        The name of the output file.\n",
    "    \"\"\"\n",
    "\n",
    "    n_simulations = len(simulations)\n",
    "\n",
    "    fig = plt.figure(figsize=(7.2, 7.2))\n",
    "    gs = fig.add_gridspec(nrows=6, ncols=5, hspace=0.0, wspace=0.0)\n",
    "    axs = gs.subplots(sharex=True, sharey=True)\n",
    "\n",
    "    set_axs_configuration(\n",
    "        xlim=(1, 200), ylim=(-4, 3),\n",
    "        xticks=[1, 10, 100], yticks=[-3, -2, -1, 0, 1, 2],\n",
    "        xlabel=r\"$r_{xy}$ [ckpc]\",\n",
    "        ylabel=r\"$\\mathrm{median} \\left( \\mathrm{[Fe/H]} \\right)$\",\n",
    "        axs=axs, n_used=n_simulations,\n",
    "        xscale=\"log\", xticklabels=[1, 10, 100])\n",
    "\n",
    "    for idx, ax in enumerate(axs.flat):\n",
    "        ax.grid(True, ls='-', lw=0.25, c='silver')\n",
    "        if idx < n_simulations:\n",
    "            add_panel_for_galaxy(simulations[idx], ax=ax)\n",
    "        else:\n",
    "            ax.axis(\"off\")\n",
    "\n",
    "    axs[0, 0].legend(loc=\"lower left\", framealpha=0.0, fontsize=4.0)\n",
    "\n",
    "    for ax in axs.flatten():\n",
    "        ax.xaxis.label.set_size(8.0)\n",
    "        ax.yaxis.label.set_size(8.0)\n",
    "\n",
    "    fig.savefig(f\"../images/metallicity_profiles/{filename}.pdf\")\n",
    "    plt.close(fig)"
   ]
  },
  {
   "cell_type": "code",
   "execution_count": 6,
   "metadata": {},
   "outputs": [
    {
     "name": "stderr",
     "output_type": "stream",
     "text": [
      "/freya/u/fiza/repos/auriga-metals/auriga/images.py:97: UserWarning: FixedFormatter should only be used together with FixedLocator\n",
      "  if xticklabels is not None: ax.set_xticklabels(xticklabels)\n",
      "/freya/u/fiza/repos/auriga-metals/auriga/images.py:97: UserWarning: FixedFormatter should only be used together with FixedLocator\n",
      "  if xticklabels is not None: ax.set_xticklabels(xticklabels)\n"
     ]
    }
   ],
   "source": [
    "# Create plots for all galaxies in two figures\n",
    "originals = [f\"au{i}_or_l4_s127\" for i in settings.galaxies]\n",
    "reruns = [f\"au{i}_re_l4_s251\" for i in settings.reruns]\n",
    "plot_metall_prof_for_sample(simulations=originals, filename=\"originals\")\n",
    "plot_metall_prof_for_sample(simulations=reruns, filename=\"reruns\")"
   ]
  }
 ],
 "metadata": {
  "kernelspec": {
   "display_name": "Python 3",
   "language": "python",
   "name": "python3"
  },
  "language_info": {
   "codemirror_mode": {
    "name": "ipython",
    "version": 3
   },
   "file_extension": ".py",
   "mimetype": "text/x-python",
   "name": "python",
   "nbconvert_exporter": "python",
   "pygments_lexer": "ipython3",
   "version": "3.7.3"
  },
  "orig_nbformat": 4
 },
 "nbformat": 4,
 "nbformat_minor": 2
}
