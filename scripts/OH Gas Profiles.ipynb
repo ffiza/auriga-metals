{
 "cells": [
  {
   "attachments": {},
   "cell_type": "markdown",
   "metadata": {},
   "source": [
    "# [O/H] Gas Profiles"
   ]
  },
  {
   "cell_type": "code",
   "execution_count": 1,
   "metadata": {},
   "outputs": [
    {
     "name": "stderr",
     "output_type": "stream",
     "text": [
      "/u/fiza/conda-envs/auriga/lib/python3.7/site-packages/setuptools/_importlib.py:23: UserWarning: `importlib-metadata` version is incompatible with `setuptools`.\n",
      "This problem is likely to be solved by installing an updated version of `importlib-metadata`.\n",
      "  warnings.warn(msg)  # Ensure a descriptive message is shown.\n"
     ]
    }
   ],
   "source": [
    "import matplotlib as mpl\n",
    "from matplotlib import pyplot as plt\n",
    "import matplotlib.colors as mcolors\n",
    "import numpy as np\n",
    "import pandas as pd\n",
    "import json\n",
    "from scipy.stats import binned_statistic\n",
    "from scipy.stats import linregress\n",
    "from scipy.optimize import curve_fit\n",
    "from itertools import product"
   ]
  },
  {
   "cell_type": "code",
   "execution_count": 2,
   "metadata": {},
   "outputs": [],
   "source": [
    "from auriga.snapshot import Snapshot\n",
    "from auriga.images import figure_setup, set_axs_configuration\n",
    "from auriga.settings import Settings\n",
    "from auriga.parser import parse\n",
    "from auriga.physics import Physics\n",
    "from auriga.mathematics import linear"
   ]
  },
  {
   "cell_type": "code",
   "execution_count": 3,
   "metadata": {},
   "outputs": [],
   "source": [
    "mpl.rcParams['axes.prop_cycle'] = mpl.cycler(\n",
    "    color=list(mcolors.TABLEAU_COLORS.values()))"
   ]
  },
  {
   "cell_type": "code",
   "execution_count": 37,
   "metadata": {},
   "outputs": [],
   "source": [
    "figure_setup()\n",
    "settings = Settings()"
   ]
  },
  {
   "cell_type": "code",
   "execution_count": 5,
   "metadata": {},
   "outputs": [],
   "source": [
    "RXY_RANGE: tuple = (0, 30)\n",
    "N_BINS: int = 30"
   ]
  },
  {
   "cell_type": "code",
   "execution_count": 21,
   "metadata": {},
   "outputs": [],
   "source": [
    "def read_snapshot_data(simulation: str, of: str, to: str) -> tuple:\n",
    "    \"\"\"\n",
    "    This method returns data of interest for this analysis.\n",
    "\n",
    "    Parameters\n",
    "    ----------\n",
    "    simulation : str\n",
    "        The simulation to consider.\n",
    "    of : str\n",
    "        The metal of which to calculate the metallicity.\n",
    "    to : str\n",
    "        The metal to which to calculate the metallicity.\n",
    "\n",
    "    Returns\n",
    "    -------\n",
    "    pd.DataFrame\n",
    "        A data frame with the properties.\n",
    "    \"\"\"\n",
    "\n",
    "    settings = Settings()\n",
    "    physics = Physics()\n",
    "\n",
    "    s = Snapshot(simulation=simulation, loadonlytype=[0])\n",
    "    s.add_extra_coordinates()\n",
    "    s.add_metal_abundance(of=of, to=to)\n",
    "    s.calculate_gas_temperature()\n",
    "    s.calculate_hydrogen_number_density()\n",
    "\n",
    "    is_main_obj = (s.halo == s.halo_idx) & (s.subhalo == s.subhalo_idx)\n",
    "\n",
    "    df = pd.DataFrame()\n",
    "    df[f\"[{of}/{to}]_dex\"] = s.metal_abundance[f\"{of}/{to}\"][is_main_obj]\n",
    "    df[\"CylindricalRadius_ckpc\"] = s.rho[is_main_obj]\n",
    "    df[\"IsStarForming\"] = \\\n",
    "        s.h_number_density[is_main_obj] > physics.star_forming_density\n",
    "    df[\"IsCold\"] = s.temperature[is_main_obj] < physics.critical_temperature\n",
    "\n",
    "    # Remove invalid data\n",
    "    df.replace([np.inf, -np.inf], np.nan, inplace=True)\n",
    "    df.dropna(inplace=True)\n",
    "\n",
    "    return df"
   ]
  },
  {
   "cell_type": "code",
   "execution_count": 29,
   "metadata": {},
   "outputs": [],
   "source": [
    "def read_sample_data(galaxies: list) -> pd.DataFrame:\n",
    "    df = pd.DataFrame()\n",
    "    for galaxy in galaxies:\n",
    "        gdf = read_snapshot_data(simulation=galaxy, of=\"O\", to='H')\n",
    "        mean, bin_edges, _ = binned_statistic(\n",
    "                x=gdf[\"CylindricalRadius_ckpc\"],\n",
    "                values=gdf[\"[O/H]_dex\"],\n",
    "                statistic=\"mean\", bins=N_BINS, range=RXY_RANGE)\n",
    "        df[f\"{galaxy.upper()}_<[O/H]>_dex\"] = mean\n",
    "    bin_centers = bin_edges[1:] - np.diff(bin_edges)[0] / 2\n",
    "    df[\"BinCenters_ckpc\"] = bin_centers\n",
    "    return df"
   ]
  },
  {
   "cell_type": "markdown",
   "metadata": {},
   "source": [
    "## [O/H] Profiles"
   ]
  },
  {
   "cell_type": "code",
   "execution_count": 39,
   "metadata": {},
   "outputs": [],
   "source": [
    "sample = [f\"au{i}_or_l4_s127\" for i in settings.galaxies]\n",
    "df = read_sample_data(galaxies=sample)"
   ]
  },
  {
   "cell_type": "code",
   "execution_count": 40,
   "metadata": {},
   "outputs": [],
   "source": [
    "df[\"SampleAverage_<[O/H]>_dex\"] = df[\n",
    "    [f\"{galaxy.upper()}_<[O/H]>_dex\" for galaxy in sample]].mean(axis=1)\n",
    "df[\"SampleDispersion_<[O/H]>_dex\"] = df[\n",
    "    [f\"{galaxy.upper()}_<[O/H]>_dex\" for galaxy in sample]].std(axis=1)"
   ]
  },
  {
   "cell_type": "code",
   "execution_count": 50,
   "metadata": {},
   "outputs": [],
   "source": [
    "fig = plt.figure(figsize=(7.2, 7.2))\n",
    "gs = fig.add_gridspec(nrows=6, ncols=5, hspace=0.0, wspace=0.0)\n",
    "axs = gs.subplots(sharex=True, sharey=True)\n",
    "\n",
    "for ax in axs.flatten():\n",
    "    ax.set_xlim(RXY_RANGE)\n",
    "    ax.set_ylim(-0.5, 1.5),\n",
    "    ax.set_xticks([0, 5, 10, 15, 20, 25])\n",
    "    ax.set_yticks([0, 0.5, 1.0])\n",
    "    ax.set_xlabel(r\"$r_{xy}$ [ckpc]\")\n",
    "    ax.set_ylabel(r\"$\\left< \\mathrm{[O/H]} \\right>$\")\n",
    "    ax.grid(True, ls='-', lw=0.25, c=\"gainsboro\")\n",
    "    ax.label_outer()\n",
    "\n",
    "for idx, ax in enumerate(axs.flat):\n",
    "    ax.grid(True, ls='-', lw=0.25, c='silver')\n",
    "    if idx < len(sample):\n",
    "        gdf = read_snapshot_data(simulation=sample[idx], of=\"O\", to='H')\n",
    "\n",
    "        mean, bin_edges, _ = binned_statistic(\n",
    "            x=gdf[\"CylindricalRadius_ckpc\"],\n",
    "            values=gdf[\"[O/H]_dex\"],\n",
    "            statistic=\"mean\", bins=N_BINS, range=RXY_RANGE)\n",
    "        bin_centers = bin_edges[1:] - np.diff(bin_edges)[0] / 2 \n",
    "        ax.plot(bin_centers, mean, lw=1, color=\"black\", zorder=10)\n",
    "\n",
    "        # Profile for star-forming gas\n",
    "        mean, _, _ = binned_statistic(\n",
    "            x=gdf[\"CylindricalRadius_ckpc\"][gdf[\"IsStarForming\"] == True],\n",
    "            values=gdf[\"[O/H]_dex\"][gdf[\"IsStarForming\"] == True],\n",
    "            statistic=\"mean\", bins=N_BINS, range=RXY_RANGE)\n",
    "        ax.plot(bin_centers[np.isfinite(mean)], mean[np.isfinite(mean)],\n",
    "                lw=0.75, color=\"tab:red\", zorder=10, label=\"Star-Forming Gas\")\n",
    "\n",
    "        # Profile for cold gas\n",
    "        mean, _, _ = binned_statistic(\n",
    "            x=gdf[\"CylindricalRadius_ckpc\"][gdf[\"IsCold\"] == True],\n",
    "            values=gdf[\"[O/H]_dex\"][gdf[\"IsCold\"] == True],\n",
    "            statistic=\"mean\", bins=N_BINS, range=RXY_RANGE)\n",
    "        ax.plot(bin_centers[np.isfinite(mean)], mean[np.isfinite(mean)],\n",
    "                lw=0.75, color=\"tab:blue\", zorder=10, label=\"Cold Gas\")\n",
    "\n",
    "        ax.text(x=0.95, y=0.95, size=6.0,\n",
    "                s=r\"$\\texttt{\" + sample[idx].upper() + \"}$\",\n",
    "                ha=\"right\", va=\"top\", transform=ax.transAxes)\n",
    "    else:\n",
    "        ax.axis(\"off\")\n",
    "\n",
    "axs[0, 1].legend(loc=\"lower left\", framealpha=0.0, fontsize=4.0)\n",
    "\n",
    "fig.savefig(\"../images/OH_metallicity_profiles/originals.pdf\")\n",
    "plt.close(fig)"
   ]
  },
  {
   "cell_type": "code",
   "execution_count": 51,
   "metadata": {},
   "outputs": [],
   "source": [
    "fig, ax = plt.subplots(figsize=(2.5, 2.5))\n",
    "\n",
    "ax.set_xlim(0, 30)\n",
    "ax.set_ylim(-0.2, 1.2)\n",
    "ax.set_xlabel(r\"$r_{xy}$ [ckpc]\")\n",
    "ax.set_ylabel(r\"$\\left< \\mathrm{[O/H]} \\right>$\")\n",
    "\n",
    "ax.grid(True, ls='-', lw=0.25, c='silver')\n",
    "\n",
    "for galaxy in sample:\n",
    "    ax.plot(df[\"BinCenters_ckpc\"], df[f\"{galaxy.upper()}_<[O/H]>_dex\"],\n",
    "            lw=1, color=\"gainsboro\", zorder=10)\n",
    "\n",
    "ax.plot(df[\"BinCenters_ckpc\"], df[\"SampleAverage_<[O/H]>_dex\"],\n",
    "        lw=1, color='k', zorder=11)\n",
    "ax.plot(df[\"BinCenters_ckpc\"],\n",
    "        df[\"SampleAverage_<[O/H]>_dex\"] - df[\"SampleDispersion_<[O/H]>_dex\"],\n",
    "        lw=1, color='k', zorder=11, ls=\"--\")\n",
    "ax.plot(df[\"BinCenters_ckpc\"],\n",
    "        df[\"SampleAverage_<[O/H]>_dex\"] + df[\"SampleDispersion_<[O/H]>_dex\"],\n",
    "        lw=1, color='k', zorder=11, ls=\"--\")\n",
    "\n",
    "fig.savefig(\n",
    "    f\"../images/OH_metallicity_profiles/originals_average.pdf\")\n",
    "plt.close(fig)"
   ]
  }
 ],
 "metadata": {
  "kernelspec": {
   "display_name": "Python 3",
   "language": "python",
   "name": "python3"
  },
  "language_info": {
   "codemirror_mode": {
    "name": "ipython",
    "version": 3
   },
   "file_extension": ".py",
   "mimetype": "text/x-python",
   "name": "python",
   "nbconvert_exporter": "python",
   "pygments_lexer": "ipython3",
   "version": "3.7.3"
  },
  "orig_nbformat": 4
 },
 "nbformat": 4,
 "nbformat_minor": 2
}
