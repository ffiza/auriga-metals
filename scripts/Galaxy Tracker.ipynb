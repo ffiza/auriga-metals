{
 "cells": [
  {
   "attachments": {},
   "cell_type": "markdown",
   "metadata": {},
   "source": [
    "# Galaxy Tracker"
   ]
  },
  {
   "cell_type": "code",
   "execution_count": 6,
   "metadata": {},
   "outputs": [],
   "source": [
    "from matplotlib import pyplot as plt\n",
    "import pandas as pd\n",
    "from auriga.images import add_redshift, figure_setup, set_axs_configuration\n",
    "from auriga.paths import Paths\n",
    "from auriga.settings import Settings\n",
    "from auriga.parser import parse"
   ]
  },
  {
   "cell_type": "code",
   "execution_count": 2,
   "metadata": {},
   "outputs": [],
   "source": [
    "figure_setup()"
   ]
  },
  {
   "cell_type": "code",
   "execution_count": 3,
   "metadata": {},
   "outputs": [],
   "source": [
    "def add_panel_for_galaxy(simulation: str, ax: plt.Axes):\n",
    "    \"\"\"\n",
    "    This method adds a panel with the results for a given simulation.\n",
    "\n",
    "    Parameters\n",
    "    ----------\n",
    "    simulation : str\n",
    "        The simulation.\n",
    "    ax : plt.Axes\n",
    "        The ax to which to add the plot.\n",
    "    \"\"\"\n",
    "\n",
    "    galaxy, rerun, resolution = parse(simulation=simulation)\n",
    "    paths = Paths(galaxy, rerun, resolution)\n",
    "    df = pd.read_csv(f\"../{paths.results}temporal_data.csv\")\n",
    "    ax.plot(df[\"Time_Gyr\"], df[\"MainHaloIdx\"],\n",
    "            c='tab:red', lw=1.0, label='Halo', zorder=10)\n",
    "    ax.plot(df[\"Time_Gyr\"], df[\"MainSubhaloIdx\"],\n",
    "            c='tab:green', lw=1.0, label='Subhalo', zorder=11)\n",
    "    ax.text(x=0.95, y=0.95, size=6.0,\n",
    "            s=r\"$\\texttt{\" + f\"au{galaxy}_or_l4\".upper() + \"}$\",\n",
    "            ha='right', va='top', transform=ax.transAxes)"
   ]
  },
  {
   "cell_type": "code",
   "execution_count": 9,
   "metadata": {},
   "outputs": [],
   "source": [
    "def plot_gal_tracker_for_sample(simulations: list,\n",
    "                                filename: str):\n",
    "    \"\"\"\n",
    "    This method creates a plot of the index of the main halo/subhalo\n",
    "    a function of cosmic time for each simulation.\n",
    "\n",
    "    Parameters\n",
    "    ----------\n",
    "    simulations : str\n",
    "        A list of simulations to plot.\n",
    "    filename : str\n",
    "        The name of the output file.\n",
    "    \"\"\"\n",
    "\n",
    "    n_simulations = len(simulations)\n",
    "\n",
    "    fig = plt.figure(figsize=(7.2, 7.2))\n",
    "    gs = fig.add_gridspec(nrows=6, ncols=5, hspace=0.0, wspace=0.0)\n",
    "    axs = gs.subplots(sharex=True, sharey=True)\n",
    "\n",
    "    set_axs_configuration(\n",
    "        xlim=(0, 14), ylim=(-0.5, 5.5),\n",
    "        xticks=[2, 4, 6, 8, 10, 12, 14], yticks=[0, 1, 2, 3, 4, 5],\n",
    "        xlabel=\"Time [Gyr]\", ylabel=\"Index\",\n",
    "        axs=axs, n_used=n_simulations)\n",
    "\n",
    "    for idx, ax in enumerate(axs.flat):\n",
    "        ax.grid(True, ls='-', lw=0.25, c='silver')\n",
    "        if ax.get_subplotspec().is_first_row():\n",
    "            add_redshift(ax)\n",
    "        if idx < n_simulations:\n",
    "            add_panel_for_galaxy(simulations[idx], ax=ax)\n",
    "        else:\n",
    "            ax.axis(\"off\")\n",
    "\n",
    "    for ext in [\"pdf\", \"png\"]:\n",
    "        fig.savefig(f\"../images/galaxy_tracker/{filename}.{ext}\")\n",
    "    plt.close(fig)"
   ]
  },
  {
   "cell_type": "code",
   "execution_count": 10,
   "metadata": {},
   "outputs": [],
   "source": [
    "# Create plots for all galaxies in two figures\n",
    "settings = Settings()\n",
    "originals = [f\"au{i}_or_l4\" for i in settings.galaxies]\n",
    "reruns = [f\"au{i}_re_l4\" for i in settings.reruns]\n",
    "plot_gal_tracker_for_sample(simulations=originals, filename=\"originals\")\n",
    "plot_gal_tracker_for_sample(simulations=reruns, filename=\"reruns\")"
   ]
  }
 ],
 "metadata": {
  "kernelspec": {
   "display_name": "Python 3",
   "language": "python",
   "name": "python3"
  },
  "language_info": {
   "codemirror_mode": {
    "name": "ipython",
    "version": 3
   },
   "file_extension": ".py",
   "mimetype": "text/x-python",
   "name": "python",
   "nbconvert_exporter": "python",
   "pygments_lexer": "ipython3",
   "version": "3.7.3"
  },
  "orig_nbformat": 4
 },
 "nbformat": 4,
 "nbformat_minor": 2
}
